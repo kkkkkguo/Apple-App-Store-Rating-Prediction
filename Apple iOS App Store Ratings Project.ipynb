{
 "cells": [
  {
   "cell_type": "markdown",
   "metadata": {},
   "source": [
    "# Apple iOS App Store Ratings Prediction"
   ]
  },
  {
   "cell_type": "markdown",
   "metadata": {},
   "source": [
    "## Preparing for the dataset"
   ]
  },
  {
   "cell_type": "markdown",
   "metadata": {},
   "source": [
    "#### Import data as pd.DataFrame"
   ]
  },
  {
   "cell_type": "code",
   "execution_count": 1,
   "metadata": {},
   "outputs": [],
   "source": [
    "from IPython.core.interactiveshell import InteractiveShell\n",
    "InteractiveShell.ast_node_interactivity = \"all\"\n",
    "import warnings\n",
    "warnings.simplefilter('ignore')"
   ]
  },
  {
   "cell_type": "code",
   "execution_count": 2,
   "metadata": {},
   "outputs": [],
   "source": [
    "import pandas as pd\n",
    "import numpy as np\n",
    "import matplotlib.pyplot as plt\n",
    "import mglearn as mg"
   ]
  },
  {
   "cell_type": "code",
   "execution_count": 3,
   "metadata": {},
   "outputs": [],
   "source": [
    "data = pd.read_csv('AppleStore.csv')"
   ]
  },
  {
   "cell_type": "code",
   "execution_count": 4,
   "metadata": {
    "scrolled": true
   },
   "outputs": [
    {
     "data": {
      "text/html": [
       "<div>\n",
       "<style scoped>\n",
       "    .dataframe tbody tr th:only-of-type {\n",
       "        vertical-align: middle;\n",
       "    }\n",
       "\n",
       "    .dataframe tbody tr th {\n",
       "        vertical-align: top;\n",
       "    }\n",
       "\n",
       "    .dataframe thead th {\n",
       "        text-align: right;\n",
       "    }\n",
       "</style>\n",
       "<table border=\"1\" class=\"dataframe\">\n",
       "  <thead>\n",
       "    <tr style=\"text-align: right;\">\n",
       "      <th></th>\n",
       "      <th>Unnamed: 0</th>\n",
       "      <th>id</th>\n",
       "      <th>track_name</th>\n",
       "      <th>size_bytes</th>\n",
       "      <th>currency</th>\n",
       "      <th>price</th>\n",
       "      <th>rating_count_tot</th>\n",
       "      <th>rating_count_ver</th>\n",
       "      <th>user_rating</th>\n",
       "      <th>user_rating_ver</th>\n",
       "      <th>ver</th>\n",
       "      <th>cont_rating</th>\n",
       "      <th>prime_genre</th>\n",
       "      <th>sup_devices.num</th>\n",
       "      <th>ipadSc_urls.num</th>\n",
       "      <th>lang.num</th>\n",
       "      <th>vpp_lic</th>\n",
       "    </tr>\n",
       "  </thead>\n",
       "  <tbody>\n",
       "    <tr>\n",
       "      <th>0</th>\n",
       "      <td>1</td>\n",
       "      <td>281656475</td>\n",
       "      <td>PAC-MAN Premium</td>\n",
       "      <td>100788224</td>\n",
       "      <td>USD</td>\n",
       "      <td>3.99</td>\n",
       "      <td>21292</td>\n",
       "      <td>26</td>\n",
       "      <td>4.0</td>\n",
       "      <td>4.5</td>\n",
       "      <td>6.3.5</td>\n",
       "      <td>4+</td>\n",
       "      <td>Games</td>\n",
       "      <td>38</td>\n",
       "      <td>5</td>\n",
       "      <td>10</td>\n",
       "      <td>1</td>\n",
       "    </tr>\n",
       "    <tr>\n",
       "      <th>1</th>\n",
       "      <td>2</td>\n",
       "      <td>281796108</td>\n",
       "      <td>Evernote - stay organized</td>\n",
       "      <td>158578688</td>\n",
       "      <td>USD</td>\n",
       "      <td>0.00</td>\n",
       "      <td>161065</td>\n",
       "      <td>26</td>\n",
       "      <td>4.0</td>\n",
       "      <td>3.5</td>\n",
       "      <td>8.2.2</td>\n",
       "      <td>4+</td>\n",
       "      <td>Productivity</td>\n",
       "      <td>37</td>\n",
       "      <td>5</td>\n",
       "      <td>23</td>\n",
       "      <td>1</td>\n",
       "    </tr>\n",
       "    <tr>\n",
       "      <th>2</th>\n",
       "      <td>3</td>\n",
       "      <td>281940292</td>\n",
       "      <td>WeatherBug - Local Weather, Radar, Maps, Alerts</td>\n",
       "      <td>100524032</td>\n",
       "      <td>USD</td>\n",
       "      <td>0.00</td>\n",
       "      <td>188583</td>\n",
       "      <td>2822</td>\n",
       "      <td>3.5</td>\n",
       "      <td>4.5</td>\n",
       "      <td>5.0.0</td>\n",
       "      <td>4+</td>\n",
       "      <td>Weather</td>\n",
       "      <td>37</td>\n",
       "      <td>5</td>\n",
       "      <td>3</td>\n",
       "      <td>1</td>\n",
       "    </tr>\n",
       "    <tr>\n",
       "      <th>3</th>\n",
       "      <td>4</td>\n",
       "      <td>282614216</td>\n",
       "      <td>eBay: Best App to Buy, Sell, Save! Online Shop...</td>\n",
       "      <td>128512000</td>\n",
       "      <td>USD</td>\n",
       "      <td>0.00</td>\n",
       "      <td>262241</td>\n",
       "      <td>649</td>\n",
       "      <td>4.0</td>\n",
       "      <td>4.5</td>\n",
       "      <td>5.10.0</td>\n",
       "      <td>12+</td>\n",
       "      <td>Shopping</td>\n",
       "      <td>37</td>\n",
       "      <td>5</td>\n",
       "      <td>9</td>\n",
       "      <td>1</td>\n",
       "    </tr>\n",
       "    <tr>\n",
       "      <th>4</th>\n",
       "      <td>5</td>\n",
       "      <td>282935706</td>\n",
       "      <td>Bible</td>\n",
       "      <td>92774400</td>\n",
       "      <td>USD</td>\n",
       "      <td>0.00</td>\n",
       "      <td>985920</td>\n",
       "      <td>5320</td>\n",
       "      <td>4.5</td>\n",
       "      <td>5.0</td>\n",
       "      <td>7.5.1</td>\n",
       "      <td>4+</td>\n",
       "      <td>Reference</td>\n",
       "      <td>37</td>\n",
       "      <td>5</td>\n",
       "      <td>45</td>\n",
       "      <td>1</td>\n",
       "    </tr>\n",
       "  </tbody>\n",
       "</table>\n",
       "</div>"
      ],
      "text/plain": [
       "   Unnamed: 0         id                                         track_name  \\\n",
       "0           1  281656475                                    PAC-MAN Premium   \n",
       "1           2  281796108                          Evernote - stay organized   \n",
       "2           3  281940292    WeatherBug - Local Weather, Radar, Maps, Alerts   \n",
       "3           4  282614216  eBay: Best App to Buy, Sell, Save! Online Shop...   \n",
       "4           5  282935706                                              Bible   \n",
       "\n",
       "   size_bytes currency  price  rating_count_tot  rating_count_ver  \\\n",
       "0   100788224      USD   3.99             21292                26   \n",
       "1   158578688      USD   0.00            161065                26   \n",
       "2   100524032      USD   0.00            188583              2822   \n",
       "3   128512000      USD   0.00            262241               649   \n",
       "4    92774400      USD   0.00            985920              5320   \n",
       "\n",
       "   user_rating  user_rating_ver     ver cont_rating   prime_genre  \\\n",
       "0          4.0              4.5   6.3.5          4+         Games   \n",
       "1          4.0              3.5   8.2.2          4+  Productivity   \n",
       "2          3.5              4.5   5.0.0          4+       Weather   \n",
       "3          4.0              4.5  5.10.0         12+      Shopping   \n",
       "4          4.5              5.0   7.5.1          4+     Reference   \n",
       "\n",
       "   sup_devices.num  ipadSc_urls.num  lang.num  vpp_lic  \n",
       "0               38                5        10        1  \n",
       "1               37                5        23        1  \n",
       "2               37                5         3        1  \n",
       "3               37                5         9        1  \n",
       "4               37                5        45        1  "
      ]
     },
     "execution_count": 4,
     "metadata": {},
     "output_type": "execute_result"
    }
   ],
   "source": [
    "data.head()"
   ]
  },
  {
   "cell_type": "code",
   "execution_count": 5,
   "metadata": {
    "scrolled": false
   },
   "outputs": [
    {
     "name": "stdout",
     "output_type": "stream",
     "text": [
      "<class 'pandas.core.frame.DataFrame'>\n",
      "RangeIndex: 7197 entries, 0 to 7196\n",
      "Data columns (total 17 columns):\n",
      "Unnamed: 0          7197 non-null int64\n",
      "id                  7197 non-null int64\n",
      "track_name          7197 non-null object\n",
      "size_bytes          7197 non-null int64\n",
      "currency            7197 non-null object\n",
      "price               7197 non-null float64\n",
      "rating_count_tot    7197 non-null int64\n",
      "rating_count_ver    7197 non-null int64\n",
      "user_rating         7197 non-null float64\n",
      "user_rating_ver     7197 non-null float64\n",
      "ver                 7197 non-null object\n",
      "cont_rating         7197 non-null object\n",
      "prime_genre         7197 non-null object\n",
      "sup_devices.num     7197 non-null int64\n",
      "ipadSc_urls.num     7197 non-null int64\n",
      "lang.num            7197 non-null int64\n",
      "vpp_lic             7197 non-null int64\n",
      "dtypes: float64(3), int64(9), object(5)\n",
      "memory usage: 955.9+ KB\n"
     ]
    }
   ],
   "source": [
    "data.info()"
   ]
  },
  {
   "cell_type": "code",
   "execution_count": 6,
   "metadata": {
    "scrolled": true
   },
   "outputs": [
    {
     "data": {
      "text/html": [
       "<div>\n",
       "<style scoped>\n",
       "    .dataframe tbody tr th:only-of-type {\n",
       "        vertical-align: middle;\n",
       "    }\n",
       "\n",
       "    .dataframe tbody tr th {\n",
       "        vertical-align: top;\n",
       "    }\n",
       "\n",
       "    .dataframe thead th {\n",
       "        text-align: right;\n",
       "    }\n",
       "</style>\n",
       "<table border=\"1\" class=\"dataframe\">\n",
       "  <thead>\n",
       "    <tr style=\"text-align: right;\">\n",
       "      <th></th>\n",
       "      <th>Unnamed: 0</th>\n",
       "      <th>id</th>\n",
       "      <th>size_bytes</th>\n",
       "      <th>price</th>\n",
       "      <th>rating_count_tot</th>\n",
       "      <th>rating_count_ver</th>\n",
       "      <th>user_rating</th>\n",
       "      <th>user_rating_ver</th>\n",
       "      <th>sup_devices.num</th>\n",
       "      <th>ipadSc_urls.num</th>\n",
       "      <th>lang.num</th>\n",
       "      <th>vpp_lic</th>\n",
       "    </tr>\n",
       "  </thead>\n",
       "  <tbody>\n",
       "    <tr>\n",
       "      <th>count</th>\n",
       "      <td>7197.000000</td>\n",
       "      <td>7.197000e+03</td>\n",
       "      <td>7.197000e+03</td>\n",
       "      <td>7197.000000</td>\n",
       "      <td>7.197000e+03</td>\n",
       "      <td>7197.000000</td>\n",
       "      <td>7197.000000</td>\n",
       "      <td>7197.000000</td>\n",
       "      <td>7197.000000</td>\n",
       "      <td>7197.000000</td>\n",
       "      <td>7197.000000</td>\n",
       "      <td>7197.000000</td>\n",
       "    </tr>\n",
       "    <tr>\n",
       "      <th>mean</th>\n",
       "      <td>4759.069612</td>\n",
       "      <td>8.631310e+08</td>\n",
       "      <td>1.991345e+08</td>\n",
       "      <td>1.726218</td>\n",
       "      <td>1.289291e+04</td>\n",
       "      <td>460.373906</td>\n",
       "      <td>3.526956</td>\n",
       "      <td>3.253578</td>\n",
       "      <td>37.361817</td>\n",
       "      <td>3.707100</td>\n",
       "      <td>5.434903</td>\n",
       "      <td>0.993053</td>\n",
       "    </tr>\n",
       "    <tr>\n",
       "      <th>std</th>\n",
       "      <td>3093.625213</td>\n",
       "      <td>2.712368e+08</td>\n",
       "      <td>3.592069e+08</td>\n",
       "      <td>5.833006</td>\n",
       "      <td>7.573941e+04</td>\n",
       "      <td>3920.455183</td>\n",
       "      <td>1.517948</td>\n",
       "      <td>1.809363</td>\n",
       "      <td>3.737715</td>\n",
       "      <td>1.986005</td>\n",
       "      <td>7.919593</td>\n",
       "      <td>0.083066</td>\n",
       "    </tr>\n",
       "    <tr>\n",
       "      <th>min</th>\n",
       "      <td>1.000000</td>\n",
       "      <td>2.816565e+08</td>\n",
       "      <td>5.898240e+05</td>\n",
       "      <td>0.000000</td>\n",
       "      <td>0.000000e+00</td>\n",
       "      <td>0.000000</td>\n",
       "      <td>0.000000</td>\n",
       "      <td>0.000000</td>\n",
       "      <td>9.000000</td>\n",
       "      <td>0.000000</td>\n",
       "      <td>0.000000</td>\n",
       "      <td>0.000000</td>\n",
       "    </tr>\n",
       "    <tr>\n",
       "      <th>25%</th>\n",
       "      <td>2090.000000</td>\n",
       "      <td>6.000937e+08</td>\n",
       "      <td>4.692275e+07</td>\n",
       "      <td>0.000000</td>\n",
       "      <td>2.800000e+01</td>\n",
       "      <td>1.000000</td>\n",
       "      <td>3.500000</td>\n",
       "      <td>2.500000</td>\n",
       "      <td>37.000000</td>\n",
       "      <td>3.000000</td>\n",
       "      <td>1.000000</td>\n",
       "      <td>1.000000</td>\n",
       "    </tr>\n",
       "    <tr>\n",
       "      <th>50%</th>\n",
       "      <td>4380.000000</td>\n",
       "      <td>9.781482e+08</td>\n",
       "      <td>9.715302e+07</td>\n",
       "      <td>0.000000</td>\n",
       "      <td>3.000000e+02</td>\n",
       "      <td>23.000000</td>\n",
       "      <td>4.000000</td>\n",
       "      <td>4.000000</td>\n",
       "      <td>37.000000</td>\n",
       "      <td>5.000000</td>\n",
       "      <td>1.000000</td>\n",
       "      <td>1.000000</td>\n",
       "    </tr>\n",
       "    <tr>\n",
       "      <th>75%</th>\n",
       "      <td>7223.000000</td>\n",
       "      <td>1.082310e+09</td>\n",
       "      <td>1.819249e+08</td>\n",
       "      <td>1.990000</td>\n",
       "      <td>2.793000e+03</td>\n",
       "      <td>140.000000</td>\n",
       "      <td>4.500000</td>\n",
       "      <td>4.500000</td>\n",
       "      <td>38.000000</td>\n",
       "      <td>5.000000</td>\n",
       "      <td>8.000000</td>\n",
       "      <td>1.000000</td>\n",
       "    </tr>\n",
       "    <tr>\n",
       "      <th>max</th>\n",
       "      <td>11097.000000</td>\n",
       "      <td>1.188376e+09</td>\n",
       "      <td>4.025970e+09</td>\n",
       "      <td>299.990000</td>\n",
       "      <td>2.974676e+06</td>\n",
       "      <td>177050.000000</td>\n",
       "      <td>5.000000</td>\n",
       "      <td>5.000000</td>\n",
       "      <td>47.000000</td>\n",
       "      <td>5.000000</td>\n",
       "      <td>75.000000</td>\n",
       "      <td>1.000000</td>\n",
       "    </tr>\n",
       "  </tbody>\n",
       "</table>\n",
       "</div>"
      ],
      "text/plain": [
       "         Unnamed: 0            id    size_bytes        price  \\\n",
       "count   7197.000000  7.197000e+03  7.197000e+03  7197.000000   \n",
       "mean    4759.069612  8.631310e+08  1.991345e+08     1.726218   \n",
       "std     3093.625213  2.712368e+08  3.592069e+08     5.833006   \n",
       "min        1.000000  2.816565e+08  5.898240e+05     0.000000   \n",
       "25%     2090.000000  6.000937e+08  4.692275e+07     0.000000   \n",
       "50%     4380.000000  9.781482e+08  9.715302e+07     0.000000   \n",
       "75%     7223.000000  1.082310e+09  1.819249e+08     1.990000   \n",
       "max    11097.000000  1.188376e+09  4.025970e+09   299.990000   \n",
       "\n",
       "       rating_count_tot  rating_count_ver  user_rating  user_rating_ver  \\\n",
       "count      7.197000e+03       7197.000000  7197.000000      7197.000000   \n",
       "mean       1.289291e+04        460.373906     3.526956         3.253578   \n",
       "std        7.573941e+04       3920.455183     1.517948         1.809363   \n",
       "min        0.000000e+00          0.000000     0.000000         0.000000   \n",
       "25%        2.800000e+01          1.000000     3.500000         2.500000   \n",
       "50%        3.000000e+02         23.000000     4.000000         4.000000   \n",
       "75%        2.793000e+03        140.000000     4.500000         4.500000   \n",
       "max        2.974676e+06     177050.000000     5.000000         5.000000   \n",
       "\n",
       "       sup_devices.num  ipadSc_urls.num     lang.num      vpp_lic  \n",
       "count      7197.000000      7197.000000  7197.000000  7197.000000  \n",
       "mean         37.361817         3.707100     5.434903     0.993053  \n",
       "std           3.737715         1.986005     7.919593     0.083066  \n",
       "min           9.000000         0.000000     0.000000     0.000000  \n",
       "25%          37.000000         3.000000     1.000000     1.000000  \n",
       "50%          37.000000         5.000000     1.000000     1.000000  \n",
       "75%          38.000000         5.000000     8.000000     1.000000  \n",
       "max          47.000000         5.000000    75.000000     1.000000  "
      ]
     },
     "execution_count": 6,
     "metadata": {},
     "output_type": "execute_result"
    }
   ],
   "source": [
    "data.describe()"
   ]
  },
  {
   "cell_type": "markdown",
   "metadata": {},
   "source": [
    "#### Revert key features into Numerical"
   ]
  },
  {
   "cell_type": "markdown",
   "metadata": {},
   "source": [
    "For some key features which are not numerical, we would check their possible values for reverting them into numerical data, which is necessary for the predictions."
   ]
  },
  {
   "cell_type": "code",
   "execution_count": 7,
   "metadata": {},
   "outputs": [
    {
     "data": {
      "text/plain": [
       "array(['USD'], dtype=object)"
      ]
     },
     "execution_count": 7,
     "metadata": {},
     "output_type": "execute_result"
    },
    {
     "data": {
      "text/plain": [
       "array(['Book', 'Business', 'Catalogs', 'Education', 'Entertainment',\n",
       "       'Finance', 'Food & Drink', 'Games', 'Health & Fitness',\n",
       "       'Lifestyle', 'Medical', 'Music', 'Navigation', 'News',\n",
       "       'Photo & Video', 'Productivity', 'Reference', 'Shopping',\n",
       "       'Social Networking', 'Sports', 'Travel', 'Utilities', 'Weather'],\n",
       "      dtype=object)"
      ]
     },
     "execution_count": 7,
     "metadata": {},
     "output_type": "execute_result"
    },
    {
     "data": {
      "text/plain": [
       "array(['12+', '17+', '4+', '9+'], dtype=object)"
      ]
     },
     "execution_count": 7,
     "metadata": {},
     "output_type": "execute_result"
    }
   ],
   "source": [
    "np.unique(data['currency'])\n",
    "np.unique(data['prime_genre'])\n",
    "np.unique(data['cont_rating'])"
   ]
  },
  {
   "cell_type": "markdown",
   "metadata": {},
   "source": [
    "It seems that USD is the only currency type in this dataset so that we can just ignore the feature.\n",
    "For 'prime_genre' and  'cont_rating', we would revert them into numerical data type. "
   ]
  },
  {
   "cell_type": "code",
   "execution_count": 8,
   "metadata": {},
   "outputs": [
    {
     "data": {
      "text/plain": [
       "array([ 1,  2,  3,  4,  5,  6,  7,  8,  9, 10, 11, 12, 13, 14, 15, 16, 17,\n",
       "       18, 19, 20, 21, 22, 23])"
      ]
     },
     "execution_count": 8,
     "metadata": {},
     "output_type": "execute_result"
    },
    {
     "data": {
      "text/plain": [
       "array([1, 2, 3, 4])"
      ]
     },
     "execution_count": 8,
     "metadata": {},
     "output_type": "execute_result"
    }
   ],
   "source": [
    "data['prime_genre'] = data['prime_genre'].map({'Book':1, 'Business':2, 'Catalogs':3, 'Education':4, 'Entertainment':5,'Finance':6, 'Food & Drink':7, 'Games':8, 'Health & Fitness':9,'Lifestyle':10, 'Medical':11, 'Music':12, 'Navigation':13, 'News':14,'Photo & Video':15, 'Productivity':16, 'Reference':17, 'Shopping':18,'Social Networking':19, 'Sports':20, 'Travel':21, 'Utilities':22, 'Weather':23}).astype(int)\n",
    "data['cont_rating'] = data['cont_rating'].map({'4+': 1, '9+':2, '12+':3, '17+':4}).astype(int)\n",
    "np.unique(data['prime_genre'])\n",
    "np.unique(data['cont_rating'])"
   ]
  },
  {
   "cell_type": "markdown",
   "metadata": {},
   "source": [
    "#### Revert bytes into MB for apps size"
   ]
  },
  {
   "cell_type": "code",
   "execution_count": 9,
   "metadata": {
    "scrolled": true
   },
   "outputs": [
    {
     "data": {
      "text/plain": [
       "count    7197.000000\n",
       "mean      189.909414\n",
       "std       342.566408\n",
       "min         0.562500\n",
       "25%        44.749023\n",
       "50%        92.652344\n",
       "75%       173.497070\n",
       "max      3839.463867\n",
       "Name: size_MB, dtype: float64"
      ]
     },
     "execution_count": 9,
     "metadata": {},
     "output_type": "execute_result"
    }
   ],
   "source": [
    "data['size_MB'] = data['size_bytes'] /2**20\n",
    "data['size_MB'].describe()"
   ]
  },
  {
   "cell_type": "markdown",
   "metadata": {},
   "source": [
    "#### Test the replaceability of latest version for all versions of apps"
   ]
  },
  {
   "cell_type": "markdown",
   "metadata": {},
   "source": [
    "We noticed that there are ratings data for both latest version and all versions. So we are about to compare the two columns to see if the raitng data of latest version could stands for that of all versions, based on paired t-test method."
   ]
  },
  {
   "cell_type": "code",
   "execution_count": 10,
   "metadata": {},
   "outputs": [
    {
     "data": {
      "text/plain": [
       "Ttest_relResult(statistic=20.14354452684445, pvalue=7.816183311408728e-88)"
      ]
     },
     "execution_count": 10,
     "metadata": {},
     "output_type": "execute_result"
    }
   ],
   "source": [
    "from scipy import stats\n",
    "stats.ttest_rel(data['user_rating'], data['user_rating_ver'])"
   ]
  },
  {
   "cell_type": "markdown",
   "metadata": {},
   "source": [
    "It seems that the rating data for latest version is not significantly same with that of all versions. So for later research we would use data of all versions of apps."
   ]
  },
  {
   "cell_type": "markdown",
   "metadata": {},
   "source": [
    "#### Define a more reasonable weighted rating variable"
   ]
  },
  {
   "cell_type": "markdown",
   "metadata": {},
   "source": [
    "Since the simple average ratings of an app could be significantly affected by the quantity of ratings it received, it is impossiable for us to believe the prediction based on such a variable. Thus, we would define a new weighted variable related to ratings, with the quantity of ratings considered. The method we are using is called shrinkage estimator, which is famous for being used by IMDB to rank their top 250 movies list. We would define our variable as following:\n",
    "\n",
    "weighted rating (WR) = (Q / (Q+M)) × R + (M / (Q+M)) × C , where:\n",
    "\n",
    "* R = average of ratings for the apps (mean) = (Ratings)\n",
    "* Q = quantity of ratings for the app = (Quantity)\n",
    "* M = minimum ratings required to be considered into prediction(we set it to be 500)\n",
    "* C = the mean rating across the whole report (3.526956\tfor the dataset)"
   ]
  },
  {
   "cell_type": "code",
   "execution_count": 11,
   "metadata": {},
   "outputs": [],
   "source": [
    "R = data['user_rating']\n",
    "Q = data['rating_count_tot']\n",
    "M = 500\n",
    "C = data['user_rating'].mean()\n",
    "\n",
    "data['rating_w'] = (Q/(Q+M))*R + (M/(Q+M))*C\n",
    "\n",
    "R_ver = data['user_rating_ver']\n",
    "Q_ver = data['rating_count_ver']\n",
    "M_ver = 500\n",
    "C_ver = data['user_rating_ver'].mean()\n",
    "\n",
    "data['rating_w_ver'] = (Q_ver/(Q_ver+M_ver))*R_ver + (M_ver/(Q_ver+M_ver))*C_ver"
   ]
  },
  {
   "cell_type": "code",
   "execution_count": 12,
   "metadata": {
    "scrolled": false
   },
   "outputs": [
    {
     "name": "stdout",
     "output_type": "stream",
     "text": [
      "<class 'pandas.core.frame.DataFrame'>\n",
      "RangeIndex: 7197 entries, 0 to 7196\n",
      "Data columns (total 20 columns):\n",
      "Unnamed: 0          7197 non-null int64\n",
      "id                  7197 non-null int64\n",
      "track_name          7197 non-null object\n",
      "size_bytes          7197 non-null int64\n",
      "currency            7197 non-null object\n",
      "price               7197 non-null float64\n",
      "rating_count_tot    7197 non-null int64\n",
      "rating_count_ver    7197 non-null int64\n",
      "user_rating         7197 non-null float64\n",
      "user_rating_ver     7197 non-null float64\n",
      "ver                 7197 non-null object\n",
      "cont_rating         7197 non-null int32\n",
      "prime_genre         7197 non-null int32\n",
      "sup_devices.num     7197 non-null int64\n",
      "ipadSc_urls.num     7197 non-null int64\n",
      "lang.num            7197 non-null int64\n",
      "vpp_lic             7197 non-null int64\n",
      "size_MB             7197 non-null float64\n",
      "rating_w            7197 non-null float64\n",
      "rating_w_ver        7197 non-null float64\n",
      "dtypes: float64(6), int32(2), int64(9), object(3)\n",
      "memory usage: 1.0+ MB\n"
     ]
    }
   ],
   "source": [
    "data.info()"
   ]
  },
  {
   "cell_type": "markdown",
   "metadata": {},
   "source": [
    "## Regression Analysis"
   ]
  },
  {
   "cell_type": "markdown",
   "metadata": {},
   "source": [
    "#### Specify the features and labels"
   ]
  },
  {
   "cell_type": "code",
   "execution_count": 13,
   "metadata": {},
   "outputs": [],
   "source": [
    "data_feature = data[['price', 'cont_rating', 'prime_genre', 'sup_devices.num', 'ipadSc_urls.num', 'lang.num', 'size_MB', 'rating_w']]\n",
    "data_target_R = data[['rating_w_ver']]"
   ]
  },
  {
   "cell_type": "markdown",
   "metadata": {},
   "source": [
    "#### Split dataset "
   ]
  },
  {
   "cell_type": "code",
   "execution_count": 14,
   "metadata": {},
   "outputs": [],
   "source": [
    "from sklearn.model_selection import train_test_split\n",
    "X_train_unscaled_R , X_test_unscaled_R, y_train_R, y_test_R = train_test_split(data_feature, data_target_R)"
   ]
  },
  {
   "cell_type": "markdown",
   "metadata": {},
   "source": [
    "#### Data Scaling "
   ]
  },
  {
   "cell_type": "code",
   "execution_count": 15,
   "metadata": {},
   "outputs": [],
   "source": [
    "from sklearn.model_selection import GridSearchCV\n",
    "from sklearn.preprocessing import StandardScaler\n",
    "scaler_R = StandardScaler()\n",
    "X_train_R = scaler_R.fit_transform(X_train_unscaled_R)\n",
    "X_test_R = scaler_R.fit_transform(X_test_unscaled_R)"
   ]
  },
  {
   "cell_type": "markdown",
   "metadata": {},
   "source": [
    "#### MODEL SELECTION"
   ]
  },
  {
   "cell_type": "markdown",
   "metadata": {},
   "source": [
    "* KNN Regression\n",
    "* Simple Linear Regression\n",
    "* Linear Regression with Ridge\n",
    "* Linear Regression with Lasso\n",
    "* Simple Linear Support Vector Machine"
   ]
  },
  {
   "cell_type": "markdown",
   "metadata": {},
   "source": [
    "##### KNN Regression"
   ]
  },
  {
   "cell_type": "code",
   "execution_count": 16,
   "metadata": {},
   "outputs": [
    {
     "data": {
      "text/plain": [
       "GridSearchCV(cv=5, error_score='raise',\n",
       "       estimator=KNeighborsRegressor(algorithm='auto', leaf_size=30, metric='minkowski',\n",
       "          metric_params=None, n_jobs=1, n_neighbors=5, p=2,\n",
       "          weights='uniform'),\n",
       "       fit_params=None, iid=True, n_jobs=1,\n",
       "       param_grid={'n_neighbors': [1, 5, 10, 15, 20]},\n",
       "       pre_dispatch='2*n_jobs', refit=True, return_train_score='warn',\n",
       "       scoring=None, verbose=0)"
      ]
     },
     "execution_count": 16,
     "metadata": {},
     "output_type": "execute_result"
    },
    {
     "data": {
      "text/plain": [
       "{'n_neighbors': 20}"
      ]
     },
     "execution_count": 16,
     "metadata": {},
     "output_type": "execute_result"
    },
    {
     "data": {
      "text/plain": [
       "array([1.        , 0.51755172, 0.45172443, 0.42371495, 0.40719935])"
      ]
     },
     "execution_count": 16,
     "metadata": {},
     "output_type": "execute_result"
    },
    {
     "data": {
      "text/plain": [
       "array([-0.17973232,  0.29021628,  0.33780772,  0.33764112,  0.34397758])"
      ]
     },
     "execution_count": 16,
     "metadata": {},
     "output_type": "execute_result"
    }
   ],
   "source": [
    "from sklearn.neighbors import KNeighborsRegressor\n",
    "from sklearn.metrics import r2_score\n",
    "\n",
    "knnR = KNeighborsRegressor()\n",
    "knnR_param_grid = {'n_neighbors':[1, 5, 10, 15, 20]}\n",
    "\n",
    "grid_knnR = GridSearchCV(knnR, param_grid=knnR_param_grid, cv = 5)\n",
    "\n",
    "grid_knnR.fit(X_train_R, y_train_R)\n",
    "\n",
    "grid_knnR.best_params_\n",
    "grid_knnR.cv_results_['mean_train_score']\n",
    "grid_knnR.cv_results_['mean_test_score']"
   ]
  },
  {
   "cell_type": "markdown",
   "metadata": {},
   "source": [
    "##### Simple Linear Regression"
   ]
  },
  {
   "cell_type": "code",
   "execution_count": 17,
   "metadata": {},
   "outputs": [
    {
     "data": {
      "text/plain": [
       "LinearRegression(copy_X=True, fit_intercept=True, n_jobs=1, normalize=False)"
      ]
     },
     "execution_count": 17,
     "metadata": {},
     "output_type": "execute_result"
    },
    {
     "name": "stdout",
     "output_type": "stream",
     "text": [
      "Average cross-validation train score: 0.34\n",
      "Average cross-validation test score: 0.35\n"
     ]
    }
   ],
   "source": [
    "from sklearn.linear_model import LinearRegression\n",
    "from sklearn.model_selection import cross_val_score\n",
    "\n",
    "lreg = LinearRegression()\n",
    "lreg.fit(X_train_R, y_train_R)\n",
    "\n",
    "lreg_train_scores = cross_val_score(lreg, X_train_R, y_train_R, cv=5)\n",
    "lreg_test_scores = cross_val_score(lreg, X_test_R, y_test_R, cv=5)\n",
    "print(\"Average cross-validation train score: {:.2f}\".format(lreg_train_scores.mean()))\n",
    "print(\"Average cross-validation test score: {:.2f}\".format(lreg_test_scores.mean()))"
   ]
  },
  {
   "cell_type": "markdown",
   "metadata": {},
   "source": [
    "##### Linear Regression with Ridge"
   ]
  },
  {
   "cell_type": "code",
   "execution_count": 18,
   "metadata": {},
   "outputs": [
    {
     "data": {
      "text/plain": [
       "GridSearchCV(cv=5, error_score='raise',\n",
       "       estimator=Ridge(alpha=1.0, copy_X=True, fit_intercept=True, max_iter=None,\n",
       "   normalize=False, random_state=None, solver='auto', tol=0.001),\n",
       "       fit_params=None, iid=True, n_jobs=1,\n",
       "       param_grid={'alpha': [0.01, 0.1, 1, 10, 100, 1000]},\n",
       "       pre_dispatch='2*n_jobs', refit=True, return_train_score='warn',\n",
       "       scoring=None, verbose=0)"
      ]
     },
     "execution_count": 18,
     "metadata": {},
     "output_type": "execute_result"
    },
    {
     "data": {
      "text/plain": [
       "{'alpha': 10}"
      ]
     },
     "execution_count": 18,
     "metadata": {},
     "output_type": "execute_result"
    },
    {
     "data": {
      "text/plain": [
       "array([0.34635314, 0.34635314, 0.34635312, 0.34635118, 0.34616633,\n",
       "       0.33388994])"
      ]
     },
     "execution_count": 18,
     "metadata": {},
     "output_type": "execute_result"
    },
    {
     "data": {
      "text/plain": [
       "array([0.34197102, 0.34197115, 0.34197242, 0.34198336, 0.34192228,\n",
       "       0.33052548])"
      ]
     },
     "execution_count": 18,
     "metadata": {},
     "output_type": "execute_result"
    }
   ],
   "source": [
    "from  sklearn.linear_model import Ridge\n",
    "\n",
    "ridge = Ridge()\n",
    "ridge_param_grid = {'alpha':[0.01, 0.1, 1, 10, 100, 1000]}\n",
    "\n",
    "grid_ridge = GridSearchCV(ridge, param_grid=ridge_param_grid, cv = 5)\n",
    "\n",
    "grid_ridge.fit(X_train_R, y_train_R)\n",
    "\n",
    "grid_ridge.best_params_\n",
    "grid_ridge.cv_results_['mean_train_score']\n",
    "grid_ridge.cv_results_['mean_test_score']"
   ]
  },
  {
   "cell_type": "markdown",
   "metadata": {},
   "source": [
    "##### Linear Regression with Lasso"
   ]
  },
  {
   "cell_type": "code",
   "execution_count": 19,
   "metadata": {},
   "outputs": [
    {
     "data": {
      "text/plain": [
       "GridSearchCV(cv=5, error_score='raise',\n",
       "       estimator=Lasso(alpha=1.0, copy_X=True, fit_intercept=True, max_iter=1000,\n",
       "   normalize=False, positive=False, precompute=False, random_state=None,\n",
       "   selection='cyclic', tol=0.0001, warm_start=False),\n",
       "       fit_params=None, iid=True, n_jobs=1,\n",
       "       param_grid={'alpha': [0.01, 0.1, 1, 10, 100, 1000]},\n",
       "       pre_dispatch='2*n_jobs', refit=True, return_train_score='warn',\n",
       "       scoring=None, verbose=0)"
      ]
     },
     "execution_count": 19,
     "metadata": {},
     "output_type": "execute_result"
    },
    {
     "data": {
      "text/plain": [
       "{'alpha': 0.01}"
      ]
     },
     "execution_count": 19,
     "metadata": {},
     "output_type": "execute_result"
    },
    {
     "data": {
      "text/plain": [
       "array([0.33918607, 0.12164916, 0.        , 0.        , 0.        ,\n",
       "       0.        ])"
      ]
     },
     "execution_count": 19,
     "metadata": {},
     "output_type": "execute_result"
    },
    {
     "data": {
      "text/plain": [
       "array([ 0.33702812,  0.1204213 , -0.00127789, -0.00127789, -0.00127789,\n",
       "       -0.00127789])"
      ]
     },
     "execution_count": 19,
     "metadata": {},
     "output_type": "execute_result"
    }
   ],
   "source": [
    "from sklearn.linear_model import Lasso\n",
    "\n",
    "lasso = Lasso()\n",
    "lasso_param_grid = {'alpha':[0.01, 0.1, 1, 10, 100, 1000]}\n",
    "\n",
    "grid_lasso = GridSearchCV(lasso, param_grid=lasso_param_grid, cv = 5)\n",
    "\n",
    "grid_lasso.fit(X_train_R, y_train_R)\n",
    "\n",
    "grid_lasso.best_params_\n",
    "grid_lasso.cv_results_['mean_train_score']\n",
    "grid_lasso.cv_results_['mean_test_score']"
   ]
  },
  {
   "cell_type": "markdown",
   "metadata": {},
   "source": [
    "##### Simple Linear Support Vector Machine"
   ]
  },
  {
   "cell_type": "code",
   "execution_count": 20,
   "metadata": {},
   "outputs": [
    {
     "data": {
      "text/plain": [
       "GridSearchCV(cv=5, error_score='raise',\n",
       "       estimator=LinearSVR(C=1.0, dual=True, epsilon=0.0, fit_intercept=True,\n",
       "     intercept_scaling=1.0, loss='epsilon_insensitive', max_iter=1000,\n",
       "     random_state=None, tol=0.0001, verbose=0),\n",
       "       fit_params=None, iid=True, n_jobs=1,\n",
       "       param_grid={'C': [0.001, 0.01, 0.1, 1, 10, 100]},\n",
       "       pre_dispatch='2*n_jobs', refit=True, return_train_score='warn',\n",
       "       scoring=None, verbose=0)"
      ]
     },
     "execution_count": 20,
     "metadata": {},
     "output_type": "execute_result"
    },
    {
     "data": {
      "text/plain": [
       "{'C': 1}"
      ]
     },
     "execution_count": 20,
     "metadata": {},
     "output_type": "execute_result"
    },
    {
     "data": {
      "text/plain": [
       "array([-0.13264097,  0.17911696,  0.21981234,  0.22189784,  0.1161829 ,\n",
       "       -0.15388982])"
      ]
     },
     "execution_count": 20,
     "metadata": {},
     "output_type": "execute_result"
    },
    {
     "data": {
      "text/plain": [
       "array([-0.1333017 ,  0.1788689 ,  0.21953503,  0.22071379,  0.11020525,\n",
       "       -0.12140809])"
      ]
     },
     "execution_count": 20,
     "metadata": {},
     "output_type": "execute_result"
    }
   ],
   "source": [
    "from sklearn.svm import LinearSVR\n",
    "\n",
    "svc_lin_R = LinearSVR()\n",
    "svc_lin_R_param_grid = {'C':[0.001, 0.01, 0.1, 1, 10, 100]}\n",
    "\n",
    "grid_svc_lin_R = GridSearchCV(svc_lin_R, svc_lin_R_param_grid, cv = 5)\n",
    "\n",
    "grid_svc_lin_R.fit(X_train_R, y_train_R)\n",
    "\n",
    "grid_svc_lin_R.best_params_\n",
    "grid_svc_lin_R.cv_results_['mean_train_score']\n",
    "grid_svc_lin_R.cv_results_['mean_test_score']"
   ]
  },
  {
   "cell_type": "markdown",
   "metadata": {},
   "source": [
    "#### Result"
   ]
  },
  {
   "cell_type": "markdown",
   "metadata": {},
   "source": [
    "Tried all the possible regression models, what performed not as expected is that the training score never reached high enough ---- which means that we can never significantly train a regression model to predict the precise rating score for the latest version of an app using features we currently have. So we have to try the classification."
   ]
  },
  {
   "cell_type": "markdown",
   "metadata": {},
   "source": [
    "## Classification"
   ]
  },
  {
   "cell_type": "markdown",
   "metadata": {},
   "source": [
    "#### Define Binary Dependent Variable"
   ]
  },
  {
   "cell_type": "markdown",
   "metadata": {},
   "source": [
    "For the weighted ratings variable we get above, we would also make it another binary one for the classification analysis. \n",
    "\n",
    "'high_rating_ver' = \n",
    "* 1 , if weighted rating is over 3.5 \n",
    "* 0 , if weighted rating is not"
   ]
  },
  {
   "cell_type": "code",
   "execution_count": 13,
   "metadata": {},
   "outputs": [],
   "source": [
    "data['high_rating_ver'] = data['rating_w_ver'].map(lambda x : 1 if x >= 3.5 else 0 )"
   ]
  },
  {
   "cell_type": "markdown",
   "metadata": {},
   "source": [
    "#### Specify the features and labels"
   ]
  },
  {
   "cell_type": "code",
   "execution_count": 14,
   "metadata": {},
   "outputs": [],
   "source": [
    "data_feature = data[['price', 'cont_rating', 'prime_genre', 'sup_devices.num', 'ipadSc_urls.num', 'lang.num', 'size_MB', 'rating_w']]\n",
    "data_target_C = data[['high_rating_ver']]"
   ]
  },
  {
   "cell_type": "markdown",
   "metadata": {},
   "source": [
    "#### Test for Balance of Dataset"
   ]
  },
  {
   "cell_type": "code",
   "execution_count": 15,
   "metadata": {},
   "outputs": [
    {
     "data": {
      "text/plain": [
       "high_rating_ver    0.224399\n",
       "dtype: float64"
      ]
     },
     "execution_count": 15,
     "metadata": {},
     "output_type": "execute_result"
    }
   ],
   "source": [
    "data_target_C.sum()/data_target_C.count()"
   ]
  },
  {
   "cell_type": "markdown",
   "metadata": {},
   "source": [
    "We cannot believe the result of accuracy since the dataset is extremely imbalanced. In this case we use roc_auc as our evaluation metric.Besides, we still need to define a Stratified k-Fold Cross-Validation for later use in Grid Search, in order to avoid the situation that only one class shows in the roc_auc scoring."
   ]
  },
  {
   "cell_type": "code",
   "execution_count": 16,
   "metadata": {},
   "outputs": [],
   "source": [
    "from sklearn.metrics import roc_auc_score"
   ]
  },
  {
   "cell_type": "markdown",
   "metadata": {},
   "source": [
    "#### Split dataset"
   ]
  },
  {
   "cell_type": "code",
   "execution_count": 17,
   "metadata": {},
   "outputs": [],
   "source": [
    "from sklearn.model_selection import train_test_split\n",
    "X_train_unscaled_C , X_test_unscaled_C, y_train_C, y_test_C = train_test_split(data_feature, data_target_C)"
   ]
  },
  {
   "cell_type": "markdown",
   "metadata": {},
   "source": [
    "#### Data Scaling"
   ]
  },
  {
   "cell_type": "code",
   "execution_count": 18,
   "metadata": {},
   "outputs": [],
   "source": [
    "from sklearn.model_selection import GridSearchCV\n",
    "from sklearn.preprocessing import MinMaxScaler\n",
    "scaler_C = MinMaxScaler()\n",
    "X_train_C = scaler_C.fit_transform(X_train_unscaled_C)\n",
    "X_test_C = scaler_C.fit_transform(X_test_unscaled_C)"
   ]
  },
  {
   "cell_type": "markdown",
   "metadata": {},
   "source": [
    "#### MODEL SELECTION"
   ]
  },
  {
   "cell_type": "markdown",
   "metadata": {},
   "source": [
    "* KNN Classification\n",
    "* Logistic Regression\n",
    "* Simple Linear Support Vector Machine\n",
    "* Linear Kernelized SVM\n",
    "* RBF Kernelized SVM\n",
    "* Polynomial Kernelized SVM\n",
    "* Decision Tree\n",
    "* Random Forest\n",
    "* AdaBoost\n",
    "* Gradient Boosting"
   ]
  },
  {
   "cell_type": "markdown",
   "metadata": {},
   "source": [
    "##### KNN Classfication"
   ]
  },
  {
   "cell_type": "code",
   "execution_count": 19,
   "metadata": {
    "scrolled": true
   },
   "outputs": [
    {
     "data": {
      "text/plain": [
       "GridSearchCV(cv=5, error_score='raise',\n",
       "       estimator=KNeighborsClassifier(algorithm='auto', leaf_size=30, metric='minkowski',\n",
       "           metric_params=None, n_jobs=1, n_neighbors=5, p=2,\n",
       "           weights='uniform'),\n",
       "       fit_params=None, iid=True, n_jobs=1,\n",
       "       param_grid={'n_neighbors': [10, 20, 30, 40, 50]},\n",
       "       pre_dispatch='2*n_jobs', refit=True, return_train_score='warn',\n",
       "       scoring='roc_auc', verbose=0)"
      ]
     },
     "execution_count": 19,
     "metadata": {},
     "output_type": "execute_result"
    }
   ],
   "source": [
    "from sklearn.neighbors import KNeighborsClassifier\n",
    "\n",
    "knnC = KNeighborsClassifier()\n",
    "knnC_param_grid = {'n_neighbors':[10, 20, 30, 40, 50]}\n",
    "\n",
    "grid_knnC = GridSearchCV(knnC, param_grid=knnC_param_grid, cv=5, scoring='roc_auc')\n",
    "\n",
    "grid_knnC.fit(X_train_C, y_train_C)"
   ]
  },
  {
   "cell_type": "code",
   "execution_count": 35,
   "metadata": {},
   "outputs": [
    {
     "data": {
      "text/plain": [
       "{'n_neighbors': 40}"
      ]
     },
     "execution_count": 35,
     "metadata": {},
     "output_type": "execute_result"
    },
    {
     "data": {
      "text/plain": [
       "array([0.92214569, 0.90808472, 0.90036901, 0.89658364, 0.89349612])"
      ]
     },
     "execution_count": 35,
     "metadata": {},
     "output_type": "execute_result"
    },
    {
     "data": {
      "text/plain": [
       "array([0.86894705, 0.87772045, 0.87889666, 0.87980513, 0.87957083])"
      ]
     },
     "execution_count": 35,
     "metadata": {},
     "output_type": "execute_result"
    }
   ],
   "source": [
    "grid_knnC.best_params_\n",
    "grid_knnC.cv_results_['mean_train_score']\n",
    "grid_knnC.cv_results_['mean_test_score']"
   ]
  },
  {
   "cell_type": "code",
   "execution_count": 38,
   "metadata": {},
   "outputs": [
    {
     "data": {
      "application/javascript": [
       "/* Put everything inside the global mpl namespace */\n",
       "window.mpl = {};\n",
       "\n",
       "\n",
       "mpl.get_websocket_type = function() {\n",
       "    if (typeof(WebSocket) !== 'undefined') {\n",
       "        return WebSocket;\n",
       "    } else if (typeof(MozWebSocket) !== 'undefined') {\n",
       "        return MozWebSocket;\n",
       "    } else {\n",
       "        alert('Your browser does not have WebSocket support.' +\n",
       "              'Please try Chrome, Safari or Firefox ≥ 6. ' +\n",
       "              'Firefox 4 and 5 are also supported but you ' +\n",
       "              'have to enable WebSockets in about:config.');\n",
       "    };\n",
       "}\n",
       "\n",
       "mpl.figure = function(figure_id, websocket, ondownload, parent_element) {\n",
       "    this.id = figure_id;\n",
       "\n",
       "    this.ws = websocket;\n",
       "\n",
       "    this.supports_binary = (this.ws.binaryType != undefined);\n",
       "\n",
       "    if (!this.supports_binary) {\n",
       "        var warnings = document.getElementById(\"mpl-warnings\");\n",
       "        if (warnings) {\n",
       "            warnings.style.display = 'block';\n",
       "            warnings.textContent = (\n",
       "                \"This browser does not support binary websocket messages. \" +\n",
       "                    \"Performance may be slow.\");\n",
       "        }\n",
       "    }\n",
       "\n",
       "    this.imageObj = new Image();\n",
       "\n",
       "    this.context = undefined;\n",
       "    this.message = undefined;\n",
       "    this.canvas = undefined;\n",
       "    this.rubberband_canvas = undefined;\n",
       "    this.rubberband_context = undefined;\n",
       "    this.format_dropdown = undefined;\n",
       "\n",
       "    this.image_mode = 'full';\n",
       "\n",
       "    this.root = $('<div/>');\n",
       "    this._root_extra_style(this.root)\n",
       "    this.root.attr('style', 'display: inline-block');\n",
       "\n",
       "    $(parent_element).append(this.root);\n",
       "\n",
       "    this._init_header(this);\n",
       "    this._init_canvas(this);\n",
       "    this._init_toolbar(this);\n",
       "\n",
       "    var fig = this;\n",
       "\n",
       "    this.waiting = false;\n",
       "\n",
       "    this.ws.onopen =  function () {\n",
       "            fig.send_message(\"supports_binary\", {value: fig.supports_binary});\n",
       "            fig.send_message(\"send_image_mode\", {});\n",
       "            if (mpl.ratio != 1) {\n",
       "                fig.send_message(\"set_dpi_ratio\", {'dpi_ratio': mpl.ratio});\n",
       "            }\n",
       "            fig.send_message(\"refresh\", {});\n",
       "        }\n",
       "\n",
       "    this.imageObj.onload = function() {\n",
       "            if (fig.image_mode == 'full') {\n",
       "                // Full images could contain transparency (where diff images\n",
       "                // almost always do), so we need to clear the canvas so that\n",
       "                // there is no ghosting.\n",
       "                fig.context.clearRect(0, 0, fig.canvas.width, fig.canvas.height);\n",
       "            }\n",
       "            fig.context.drawImage(fig.imageObj, 0, 0);\n",
       "        };\n",
       "\n",
       "    this.imageObj.onunload = function() {\n",
       "        fig.ws.close();\n",
       "    }\n",
       "\n",
       "    this.ws.onmessage = this._make_on_message_function(this);\n",
       "\n",
       "    this.ondownload = ondownload;\n",
       "}\n",
       "\n",
       "mpl.figure.prototype._init_header = function() {\n",
       "    var titlebar = $(\n",
       "        '<div class=\"ui-dialog-titlebar ui-widget-header ui-corner-all ' +\n",
       "        'ui-helper-clearfix\"/>');\n",
       "    var titletext = $(\n",
       "        '<div class=\"ui-dialog-title\" style=\"width: 100%; ' +\n",
       "        'text-align: center; padding: 3px;\"/>');\n",
       "    titlebar.append(titletext)\n",
       "    this.root.append(titlebar);\n",
       "    this.header = titletext[0];\n",
       "}\n",
       "\n",
       "\n",
       "\n",
       "mpl.figure.prototype._canvas_extra_style = function(canvas_div) {\n",
       "\n",
       "}\n",
       "\n",
       "\n",
       "mpl.figure.prototype._root_extra_style = function(canvas_div) {\n",
       "\n",
       "}\n",
       "\n",
       "mpl.figure.prototype._init_canvas = function() {\n",
       "    var fig = this;\n",
       "\n",
       "    var canvas_div = $('<div/>');\n",
       "\n",
       "    canvas_div.attr('style', 'position: relative; clear: both; outline: 0');\n",
       "\n",
       "    function canvas_keyboard_event(event) {\n",
       "        return fig.key_event(event, event['data']);\n",
       "    }\n",
       "\n",
       "    canvas_div.keydown('key_press', canvas_keyboard_event);\n",
       "    canvas_div.keyup('key_release', canvas_keyboard_event);\n",
       "    this.canvas_div = canvas_div\n",
       "    this._canvas_extra_style(canvas_div)\n",
       "    this.root.append(canvas_div);\n",
       "\n",
       "    var canvas = $('<canvas/>');\n",
       "    canvas.addClass('mpl-canvas');\n",
       "    canvas.attr('style', \"left: 0; top: 0; z-index: 0; outline: 0\")\n",
       "\n",
       "    this.canvas = canvas[0];\n",
       "    this.context = canvas[0].getContext(\"2d\");\n",
       "\n",
       "    var backingStore = this.context.backingStorePixelRatio ||\n",
       "\tthis.context.webkitBackingStorePixelRatio ||\n",
       "\tthis.context.mozBackingStorePixelRatio ||\n",
       "\tthis.context.msBackingStorePixelRatio ||\n",
       "\tthis.context.oBackingStorePixelRatio ||\n",
       "\tthis.context.backingStorePixelRatio || 1;\n",
       "\n",
       "    mpl.ratio = (window.devicePixelRatio || 1) / backingStore;\n",
       "\n",
       "    var rubberband = $('<canvas/>');\n",
       "    rubberband.attr('style', \"position: absolute; left: 0; top: 0; z-index: 1;\")\n",
       "\n",
       "    var pass_mouse_events = true;\n",
       "\n",
       "    canvas_div.resizable({\n",
       "        start: function(event, ui) {\n",
       "            pass_mouse_events = false;\n",
       "        },\n",
       "        resize: function(event, ui) {\n",
       "            fig.request_resize(ui.size.width, ui.size.height);\n",
       "        },\n",
       "        stop: function(event, ui) {\n",
       "            pass_mouse_events = true;\n",
       "            fig.request_resize(ui.size.width, ui.size.height);\n",
       "        },\n",
       "    });\n",
       "\n",
       "    function mouse_event_fn(event) {\n",
       "        if (pass_mouse_events)\n",
       "            return fig.mouse_event(event, event['data']);\n",
       "    }\n",
       "\n",
       "    rubberband.mousedown('button_press', mouse_event_fn);\n",
       "    rubberband.mouseup('button_release', mouse_event_fn);\n",
       "    // Throttle sequential mouse events to 1 every 20ms.\n",
       "    rubberband.mousemove('motion_notify', mouse_event_fn);\n",
       "\n",
       "    rubberband.mouseenter('figure_enter', mouse_event_fn);\n",
       "    rubberband.mouseleave('figure_leave', mouse_event_fn);\n",
       "\n",
       "    canvas_div.on(\"wheel\", function (event) {\n",
       "        event = event.originalEvent;\n",
       "        event['data'] = 'scroll'\n",
       "        if (event.deltaY < 0) {\n",
       "            event.step = 1;\n",
       "        } else {\n",
       "            event.step = -1;\n",
       "        }\n",
       "        mouse_event_fn(event);\n",
       "    });\n",
       "\n",
       "    canvas_div.append(canvas);\n",
       "    canvas_div.append(rubberband);\n",
       "\n",
       "    this.rubberband = rubberband;\n",
       "    this.rubberband_canvas = rubberband[0];\n",
       "    this.rubberband_context = rubberband[0].getContext(\"2d\");\n",
       "    this.rubberband_context.strokeStyle = \"#000000\";\n",
       "\n",
       "    this._resize_canvas = function(width, height) {\n",
       "        // Keep the size of the canvas, canvas container, and rubber band\n",
       "        // canvas in synch.\n",
       "        canvas_div.css('width', width)\n",
       "        canvas_div.css('height', height)\n",
       "\n",
       "        canvas.attr('width', width * mpl.ratio);\n",
       "        canvas.attr('height', height * mpl.ratio);\n",
       "        canvas.attr('style', 'width: ' + width + 'px; height: ' + height + 'px;');\n",
       "\n",
       "        rubberband.attr('width', width);\n",
       "        rubberband.attr('height', height);\n",
       "    }\n",
       "\n",
       "    // Set the figure to an initial 600x600px, this will subsequently be updated\n",
       "    // upon first draw.\n",
       "    this._resize_canvas(600, 600);\n",
       "\n",
       "    // Disable right mouse context menu.\n",
       "    $(this.rubberband_canvas).bind(\"contextmenu\",function(e){\n",
       "        return false;\n",
       "    });\n",
       "\n",
       "    function set_focus () {\n",
       "        canvas.focus();\n",
       "        canvas_div.focus();\n",
       "    }\n",
       "\n",
       "    window.setTimeout(set_focus, 100);\n",
       "}\n",
       "\n",
       "mpl.figure.prototype._init_toolbar = function() {\n",
       "    var fig = this;\n",
       "\n",
       "    var nav_element = $('<div/>')\n",
       "    nav_element.attr('style', 'width: 100%');\n",
       "    this.root.append(nav_element);\n",
       "\n",
       "    // Define a callback function for later on.\n",
       "    function toolbar_event(event) {\n",
       "        return fig.toolbar_button_onclick(event['data']);\n",
       "    }\n",
       "    function toolbar_mouse_event(event) {\n",
       "        return fig.toolbar_button_onmouseover(event['data']);\n",
       "    }\n",
       "\n",
       "    for(var toolbar_ind in mpl.toolbar_items) {\n",
       "        var name = mpl.toolbar_items[toolbar_ind][0];\n",
       "        var tooltip = mpl.toolbar_items[toolbar_ind][1];\n",
       "        var image = mpl.toolbar_items[toolbar_ind][2];\n",
       "        var method_name = mpl.toolbar_items[toolbar_ind][3];\n",
       "\n",
       "        if (!name) {\n",
       "            // put a spacer in here.\n",
       "            continue;\n",
       "        }\n",
       "        var button = $('<button/>');\n",
       "        button.addClass('ui-button ui-widget ui-state-default ui-corner-all ' +\n",
       "                        'ui-button-icon-only');\n",
       "        button.attr('role', 'button');\n",
       "        button.attr('aria-disabled', 'false');\n",
       "        button.click(method_name, toolbar_event);\n",
       "        button.mouseover(tooltip, toolbar_mouse_event);\n",
       "\n",
       "        var icon_img = $('<span/>');\n",
       "        icon_img.addClass('ui-button-icon-primary ui-icon');\n",
       "        icon_img.addClass(image);\n",
       "        icon_img.addClass('ui-corner-all');\n",
       "\n",
       "        var tooltip_span = $('<span/>');\n",
       "        tooltip_span.addClass('ui-button-text');\n",
       "        tooltip_span.html(tooltip);\n",
       "\n",
       "        button.append(icon_img);\n",
       "        button.append(tooltip_span);\n",
       "\n",
       "        nav_element.append(button);\n",
       "    }\n",
       "\n",
       "    var fmt_picker_span = $('<span/>');\n",
       "\n",
       "    var fmt_picker = $('<select/>');\n",
       "    fmt_picker.addClass('mpl-toolbar-option ui-widget ui-widget-content');\n",
       "    fmt_picker_span.append(fmt_picker);\n",
       "    nav_element.append(fmt_picker_span);\n",
       "    this.format_dropdown = fmt_picker[0];\n",
       "\n",
       "    for (var ind in mpl.extensions) {\n",
       "        var fmt = mpl.extensions[ind];\n",
       "        var option = $(\n",
       "            '<option/>', {selected: fmt === mpl.default_extension}).html(fmt);\n",
       "        fmt_picker.append(option)\n",
       "    }\n",
       "\n",
       "    // Add hover states to the ui-buttons\n",
       "    $( \".ui-button\" ).hover(\n",
       "        function() { $(this).addClass(\"ui-state-hover\");},\n",
       "        function() { $(this).removeClass(\"ui-state-hover\");}\n",
       "    );\n",
       "\n",
       "    var status_bar = $('<span class=\"mpl-message\"/>');\n",
       "    nav_element.append(status_bar);\n",
       "    this.message = status_bar[0];\n",
       "}\n",
       "\n",
       "mpl.figure.prototype.request_resize = function(x_pixels, y_pixels) {\n",
       "    // Request matplotlib to resize the figure. Matplotlib will then trigger a resize in the client,\n",
       "    // which will in turn request a refresh of the image.\n",
       "    this.send_message('resize', {'width': x_pixels, 'height': y_pixels});\n",
       "}\n",
       "\n",
       "mpl.figure.prototype.send_message = function(type, properties) {\n",
       "    properties['type'] = type;\n",
       "    properties['figure_id'] = this.id;\n",
       "    this.ws.send(JSON.stringify(properties));\n",
       "}\n",
       "\n",
       "mpl.figure.prototype.send_draw_message = function() {\n",
       "    if (!this.waiting) {\n",
       "        this.waiting = true;\n",
       "        this.ws.send(JSON.stringify({type: \"draw\", figure_id: this.id}));\n",
       "    }\n",
       "}\n",
       "\n",
       "\n",
       "mpl.figure.prototype.handle_save = function(fig, msg) {\n",
       "    var format_dropdown = fig.format_dropdown;\n",
       "    var format = format_dropdown.options[format_dropdown.selectedIndex].value;\n",
       "    fig.ondownload(fig, format);\n",
       "}\n",
       "\n",
       "\n",
       "mpl.figure.prototype.handle_resize = function(fig, msg) {\n",
       "    var size = msg['size'];\n",
       "    if (size[0] != fig.canvas.width || size[1] != fig.canvas.height) {\n",
       "        fig._resize_canvas(size[0], size[1]);\n",
       "        fig.send_message(\"refresh\", {});\n",
       "    };\n",
       "}\n",
       "\n",
       "mpl.figure.prototype.handle_rubberband = function(fig, msg) {\n",
       "    var x0 = msg['x0'] / mpl.ratio;\n",
       "    var y0 = (fig.canvas.height - msg['y0']) / mpl.ratio;\n",
       "    var x1 = msg['x1'] / mpl.ratio;\n",
       "    var y1 = (fig.canvas.height - msg['y1']) / mpl.ratio;\n",
       "    x0 = Math.floor(x0) + 0.5;\n",
       "    y0 = Math.floor(y0) + 0.5;\n",
       "    x1 = Math.floor(x1) + 0.5;\n",
       "    y1 = Math.floor(y1) + 0.5;\n",
       "    var min_x = Math.min(x0, x1);\n",
       "    var min_y = Math.min(y0, y1);\n",
       "    var width = Math.abs(x1 - x0);\n",
       "    var height = Math.abs(y1 - y0);\n",
       "\n",
       "    fig.rubberband_context.clearRect(\n",
       "        0, 0, fig.canvas.width, fig.canvas.height);\n",
       "\n",
       "    fig.rubberband_context.strokeRect(min_x, min_y, width, height);\n",
       "}\n",
       "\n",
       "mpl.figure.prototype.handle_figure_label = function(fig, msg) {\n",
       "    // Updates the figure title.\n",
       "    fig.header.textContent = msg['label'];\n",
       "}\n",
       "\n",
       "mpl.figure.prototype.handle_cursor = function(fig, msg) {\n",
       "    var cursor = msg['cursor'];\n",
       "    switch(cursor)\n",
       "    {\n",
       "    case 0:\n",
       "        cursor = 'pointer';\n",
       "        break;\n",
       "    case 1:\n",
       "        cursor = 'default';\n",
       "        break;\n",
       "    case 2:\n",
       "        cursor = 'crosshair';\n",
       "        break;\n",
       "    case 3:\n",
       "        cursor = 'move';\n",
       "        break;\n",
       "    }\n",
       "    fig.rubberband_canvas.style.cursor = cursor;\n",
       "}\n",
       "\n",
       "mpl.figure.prototype.handle_message = function(fig, msg) {\n",
       "    fig.message.textContent = msg['message'];\n",
       "}\n",
       "\n",
       "mpl.figure.prototype.handle_draw = function(fig, msg) {\n",
       "    // Request the server to send over a new figure.\n",
       "    fig.send_draw_message();\n",
       "}\n",
       "\n",
       "mpl.figure.prototype.handle_image_mode = function(fig, msg) {\n",
       "    fig.image_mode = msg['mode'];\n",
       "}\n",
       "\n",
       "mpl.figure.prototype.updated_canvas_event = function() {\n",
       "    // Called whenever the canvas gets updated.\n",
       "    this.send_message(\"ack\", {});\n",
       "}\n",
       "\n",
       "// A function to construct a web socket function for onmessage handling.\n",
       "// Called in the figure constructor.\n",
       "mpl.figure.prototype._make_on_message_function = function(fig) {\n",
       "    return function socket_on_message(evt) {\n",
       "        if (evt.data instanceof Blob) {\n",
       "            /* FIXME: We get \"Resource interpreted as Image but\n",
       "             * transferred with MIME type text/plain:\" errors on\n",
       "             * Chrome.  But how to set the MIME type?  It doesn't seem\n",
       "             * to be part of the websocket stream */\n",
       "            evt.data.type = \"image/png\";\n",
       "\n",
       "            /* Free the memory for the previous frames */\n",
       "            if (fig.imageObj.src) {\n",
       "                (window.URL || window.webkitURL).revokeObjectURL(\n",
       "                    fig.imageObj.src);\n",
       "            }\n",
       "\n",
       "            fig.imageObj.src = (window.URL || window.webkitURL).createObjectURL(\n",
       "                evt.data);\n",
       "            fig.updated_canvas_event();\n",
       "            fig.waiting = false;\n",
       "            return;\n",
       "        }\n",
       "        else if (typeof evt.data === 'string' && evt.data.slice(0, 21) == \"data:image/png;base64\") {\n",
       "            fig.imageObj.src = evt.data;\n",
       "            fig.updated_canvas_event();\n",
       "            fig.waiting = false;\n",
       "            return;\n",
       "        }\n",
       "\n",
       "        var msg = JSON.parse(evt.data);\n",
       "        var msg_type = msg['type'];\n",
       "\n",
       "        // Call the  \"handle_{type}\" callback, which takes\n",
       "        // the figure and JSON message as its only arguments.\n",
       "        try {\n",
       "            var callback = fig[\"handle_\" + msg_type];\n",
       "        } catch (e) {\n",
       "            console.log(\"No handler for the '\" + msg_type + \"' message type: \", msg);\n",
       "            return;\n",
       "        }\n",
       "\n",
       "        if (callback) {\n",
       "            try {\n",
       "                // console.log(\"Handling '\" + msg_type + \"' message: \", msg);\n",
       "                callback(fig, msg);\n",
       "            } catch (e) {\n",
       "                console.log(\"Exception inside the 'handler_\" + msg_type + \"' callback:\", e, e.stack, msg);\n",
       "            }\n",
       "        }\n",
       "    };\n",
       "}\n",
       "\n",
       "// from http://stackoverflow.com/questions/1114465/getting-mouse-location-in-canvas\n",
       "mpl.findpos = function(e) {\n",
       "    //this section is from http://www.quirksmode.org/js/events_properties.html\n",
       "    var targ;\n",
       "    if (!e)\n",
       "        e = window.event;\n",
       "    if (e.target)\n",
       "        targ = e.target;\n",
       "    else if (e.srcElement)\n",
       "        targ = e.srcElement;\n",
       "    if (targ.nodeType == 3) // defeat Safari bug\n",
       "        targ = targ.parentNode;\n",
       "\n",
       "    // jQuery normalizes the pageX and pageY\n",
       "    // pageX,Y are the mouse positions relative to the document\n",
       "    // offset() returns the position of the element relative to the document\n",
       "    var x = e.pageX - $(targ).offset().left;\n",
       "    var y = e.pageY - $(targ).offset().top;\n",
       "\n",
       "    return {\"x\": x, \"y\": y};\n",
       "};\n",
       "\n",
       "/*\n",
       " * return a copy of an object with only non-object keys\n",
       " * we need this to avoid circular references\n",
       " * http://stackoverflow.com/a/24161582/3208463\n",
       " */\n",
       "function simpleKeys (original) {\n",
       "  return Object.keys(original).reduce(function (obj, key) {\n",
       "    if (typeof original[key] !== 'object')\n",
       "        obj[key] = original[key]\n",
       "    return obj;\n",
       "  }, {});\n",
       "}\n",
       "\n",
       "mpl.figure.prototype.mouse_event = function(event, name) {\n",
       "    var canvas_pos = mpl.findpos(event)\n",
       "\n",
       "    if (name === 'button_press')\n",
       "    {\n",
       "        this.canvas.focus();\n",
       "        this.canvas_div.focus();\n",
       "    }\n",
       "\n",
       "    var x = canvas_pos.x * mpl.ratio;\n",
       "    var y = canvas_pos.y * mpl.ratio;\n",
       "\n",
       "    this.send_message(name, {x: x, y: y, button: event.button,\n",
       "                             step: event.step,\n",
       "                             guiEvent: simpleKeys(event)});\n",
       "\n",
       "    /* This prevents the web browser from automatically changing to\n",
       "     * the text insertion cursor when the button is pressed.  We want\n",
       "     * to control all of the cursor setting manually through the\n",
       "     * 'cursor' event from matplotlib */\n",
       "    event.preventDefault();\n",
       "    return false;\n",
       "}\n",
       "\n",
       "mpl.figure.prototype._key_event_extra = function(event, name) {\n",
       "    // Handle any extra behaviour associated with a key event\n",
       "}\n",
       "\n",
       "mpl.figure.prototype.key_event = function(event, name) {\n",
       "\n",
       "    // Prevent repeat events\n",
       "    if (name == 'key_press')\n",
       "    {\n",
       "        if (event.which === this._key)\n",
       "            return;\n",
       "        else\n",
       "            this._key = event.which;\n",
       "    }\n",
       "    if (name == 'key_release')\n",
       "        this._key = null;\n",
       "\n",
       "    var value = '';\n",
       "    if (event.ctrlKey && event.which != 17)\n",
       "        value += \"ctrl+\";\n",
       "    if (event.altKey && event.which != 18)\n",
       "        value += \"alt+\";\n",
       "    if (event.shiftKey && event.which != 16)\n",
       "        value += \"shift+\";\n",
       "\n",
       "    value += 'k';\n",
       "    value += event.which.toString();\n",
       "\n",
       "    this._key_event_extra(event, name);\n",
       "\n",
       "    this.send_message(name, {key: value,\n",
       "                             guiEvent: simpleKeys(event)});\n",
       "    return false;\n",
       "}\n",
       "\n",
       "mpl.figure.prototype.toolbar_button_onclick = function(name) {\n",
       "    if (name == 'download') {\n",
       "        this.handle_save(this, null);\n",
       "    } else {\n",
       "        this.send_message(\"toolbar_button\", {name: name});\n",
       "    }\n",
       "};\n",
       "\n",
       "mpl.figure.prototype.toolbar_button_onmouseover = function(tooltip) {\n",
       "    this.message.textContent = tooltip;\n",
       "};\n",
       "mpl.toolbar_items = [[\"Home\", \"Reset original view\", \"fa fa-home icon-home\", \"home\"], [\"Back\", \"Back to  previous view\", \"fa fa-arrow-left icon-arrow-left\", \"back\"], [\"Forward\", \"Forward to next view\", \"fa fa-arrow-right icon-arrow-right\", \"forward\"], [\"\", \"\", \"\", \"\"], [\"Pan\", \"Pan axes with left mouse, zoom with right\", \"fa fa-arrows icon-move\", \"pan\"], [\"Zoom\", \"Zoom to rectangle\", \"fa fa-square-o icon-check-empty\", \"zoom\"], [\"\", \"\", \"\", \"\"], [\"Download\", \"Download plot\", \"fa fa-floppy-o icon-save\", \"download\"]];\n",
       "\n",
       "mpl.extensions = [\"eps\", \"jpeg\", \"pdf\", \"png\", \"ps\", \"raw\", \"svg\", \"tif\"];\n",
       "\n",
       "mpl.default_extension = \"png\";var comm_websocket_adapter = function(comm) {\n",
       "    // Create a \"websocket\"-like object which calls the given IPython comm\n",
       "    // object with the appropriate methods. Currently this is a non binary\n",
       "    // socket, so there is still some room for performance tuning.\n",
       "    var ws = {};\n",
       "\n",
       "    ws.close = function() {\n",
       "        comm.close()\n",
       "    };\n",
       "    ws.send = function(m) {\n",
       "        //console.log('sending', m);\n",
       "        comm.send(m);\n",
       "    };\n",
       "    // Register the callback with on_msg.\n",
       "    comm.on_msg(function(msg) {\n",
       "        //console.log('receiving', msg['content']['data'], msg);\n",
       "        // Pass the mpl event to the overridden (by mpl) onmessage function.\n",
       "        ws.onmessage(msg['content']['data'])\n",
       "    });\n",
       "    return ws;\n",
       "}\n",
       "\n",
       "mpl.mpl_figure_comm = function(comm, msg) {\n",
       "    // This is the function which gets called when the mpl process\n",
       "    // starts-up an IPython Comm through the \"matplotlib\" channel.\n",
       "\n",
       "    var id = msg.content.data.id;\n",
       "    // Get hold of the div created by the display call when the Comm\n",
       "    // socket was opened in Python.\n",
       "    var element = $(\"#\" + id);\n",
       "    var ws_proxy = comm_websocket_adapter(comm)\n",
       "\n",
       "    function ondownload(figure, format) {\n",
       "        window.open(figure.imageObj.src);\n",
       "    }\n",
       "\n",
       "    var fig = new mpl.figure(id, ws_proxy,\n",
       "                           ondownload,\n",
       "                           element.get(0));\n",
       "\n",
       "    // Call onopen now - mpl needs it, as it is assuming we've passed it a real\n",
       "    // web socket which is closed, not our websocket->open comm proxy.\n",
       "    ws_proxy.onopen();\n",
       "\n",
       "    fig.parent_element = element.get(0);\n",
       "    fig.cell_info = mpl.find_output_cell(\"<div id='\" + id + \"'></div>\");\n",
       "    if (!fig.cell_info) {\n",
       "        console.error(\"Failed to find cell for figure\", id, fig);\n",
       "        return;\n",
       "    }\n",
       "\n",
       "    var output_index = fig.cell_info[2]\n",
       "    var cell = fig.cell_info[0];\n",
       "\n",
       "};\n",
       "\n",
       "mpl.figure.prototype.handle_close = function(fig, msg) {\n",
       "    var width = fig.canvas.width/mpl.ratio\n",
       "    fig.root.unbind('remove')\n",
       "\n",
       "    // Update the output cell to use the data from the current canvas.\n",
       "    fig.push_to_output();\n",
       "    var dataURL = fig.canvas.toDataURL();\n",
       "    // Re-enable the keyboard manager in IPython - without this line, in FF,\n",
       "    // the notebook keyboard shortcuts fail.\n",
       "    IPython.keyboard_manager.enable()\n",
       "    $(fig.parent_element).html('<img src=\"' + dataURL + '\" width=\"' + width + '\">');\n",
       "    fig.close_ws(fig, msg);\n",
       "}\n",
       "\n",
       "mpl.figure.prototype.close_ws = function(fig, msg){\n",
       "    fig.send_message('closing', msg);\n",
       "    // fig.ws.close()\n",
       "}\n",
       "\n",
       "mpl.figure.prototype.push_to_output = function(remove_interactive) {\n",
       "    // Turn the data on the canvas into data in the output cell.\n",
       "    var width = this.canvas.width/mpl.ratio\n",
       "    var dataURL = this.canvas.toDataURL();\n",
       "    this.cell_info[1]['text/html'] = '<img src=\"' + dataURL + '\" width=\"' + width + '\">';\n",
       "}\n",
       "\n",
       "mpl.figure.prototype.updated_canvas_event = function() {\n",
       "    // Tell IPython that the notebook contents must change.\n",
       "    IPython.notebook.set_dirty(true);\n",
       "    this.send_message(\"ack\", {});\n",
       "    var fig = this;\n",
       "    // Wait a second, then push the new image to the DOM so\n",
       "    // that it is saved nicely (might be nice to debounce this).\n",
       "    setTimeout(function () { fig.push_to_output() }, 1000);\n",
       "}\n",
       "\n",
       "mpl.figure.prototype._init_toolbar = function() {\n",
       "    var fig = this;\n",
       "\n",
       "    var nav_element = $('<div/>')\n",
       "    nav_element.attr('style', 'width: 100%');\n",
       "    this.root.append(nav_element);\n",
       "\n",
       "    // Define a callback function for later on.\n",
       "    function toolbar_event(event) {\n",
       "        return fig.toolbar_button_onclick(event['data']);\n",
       "    }\n",
       "    function toolbar_mouse_event(event) {\n",
       "        return fig.toolbar_button_onmouseover(event['data']);\n",
       "    }\n",
       "\n",
       "    for(var toolbar_ind in mpl.toolbar_items){\n",
       "        var name = mpl.toolbar_items[toolbar_ind][0];\n",
       "        var tooltip = mpl.toolbar_items[toolbar_ind][1];\n",
       "        var image = mpl.toolbar_items[toolbar_ind][2];\n",
       "        var method_name = mpl.toolbar_items[toolbar_ind][3];\n",
       "\n",
       "        if (!name) { continue; };\n",
       "\n",
       "        var button = $('<button class=\"btn btn-default\" href=\"#\" title=\"' + name + '\"><i class=\"fa ' + image + ' fa-lg\"></i></button>');\n",
       "        button.click(method_name, toolbar_event);\n",
       "        button.mouseover(tooltip, toolbar_mouse_event);\n",
       "        nav_element.append(button);\n",
       "    }\n",
       "\n",
       "    // Add the status bar.\n",
       "    var status_bar = $('<span class=\"mpl-message\" style=\"text-align:right; float: right;\"/>');\n",
       "    nav_element.append(status_bar);\n",
       "    this.message = status_bar[0];\n",
       "\n",
       "    // Add the close button to the window.\n",
       "    var buttongrp = $('<div class=\"btn-group inline pull-right\"></div>');\n",
       "    var button = $('<button class=\"btn btn-mini btn-primary\" href=\"#\" title=\"Stop Interaction\"><i class=\"fa fa-power-off icon-remove icon-large\"></i></button>');\n",
       "    button.click(function (evt) { fig.handle_close(fig, {}); } );\n",
       "    button.mouseover('Stop Interaction', toolbar_mouse_event);\n",
       "    buttongrp.append(button);\n",
       "    var titlebar = this.root.find($('.ui-dialog-titlebar'));\n",
       "    titlebar.prepend(buttongrp);\n",
       "}\n",
       "\n",
       "mpl.figure.prototype._root_extra_style = function(el){\n",
       "    var fig = this\n",
       "    el.on(\"remove\", function(){\n",
       "\tfig.close_ws(fig, {});\n",
       "    });\n",
       "}\n",
       "\n",
       "mpl.figure.prototype._canvas_extra_style = function(el){\n",
       "    // this is important to make the div 'focusable\n",
       "    el.attr('tabindex', 0)\n",
       "    // reach out to IPython and tell the keyboard manager to turn it's self\n",
       "    // off when our div gets focus\n",
       "\n",
       "    // location in version 3\n",
       "    if (IPython.notebook.keyboard_manager) {\n",
       "        IPython.notebook.keyboard_manager.register_events(el);\n",
       "    }\n",
       "    else {\n",
       "        // location in version 2\n",
       "        IPython.keyboard_manager.register_events(el);\n",
       "    }\n",
       "\n",
       "}\n",
       "\n",
       "mpl.figure.prototype._key_event_extra = function(event, name) {\n",
       "    var manager = IPython.notebook.keyboard_manager;\n",
       "    if (!manager)\n",
       "        manager = IPython.keyboard_manager;\n",
       "\n",
       "    // Check for shift+enter\n",
       "    if (event.shiftKey && event.which == 13) {\n",
       "        this.canvas_div.blur();\n",
       "        event.shiftKey = false;\n",
       "        // Send a \"J\" for go to next cell\n",
       "        event.which = 74;\n",
       "        event.keyCode = 74;\n",
       "        manager.command_mode();\n",
       "        manager.handle_keydown(event);\n",
       "    }\n",
       "}\n",
       "\n",
       "mpl.figure.prototype.handle_save = function(fig, msg) {\n",
       "    fig.ondownload(fig, null);\n",
       "}\n",
       "\n",
       "\n",
       "mpl.find_output_cell = function(html_output) {\n",
       "    // Return the cell and output element which can be found *uniquely* in the notebook.\n",
       "    // Note - this is a bit hacky, but it is done because the \"notebook_saving.Notebook\"\n",
       "    // IPython event is triggered only after the cells have been serialised, which for\n",
       "    // our purposes (turning an active figure into a static one), is too late.\n",
       "    var cells = IPython.notebook.get_cells();\n",
       "    var ncells = cells.length;\n",
       "    for (var i=0; i<ncells; i++) {\n",
       "        var cell = cells[i];\n",
       "        if (cell.cell_type === 'code'){\n",
       "            for (var j=0; j<cell.output_area.outputs.length; j++) {\n",
       "                var data = cell.output_area.outputs[j];\n",
       "                if (data.data) {\n",
       "                    // IPython >= 3 moved mimebundle to data attribute of output\n",
       "                    data = data.data;\n",
       "                }\n",
       "                if (data['text/html'] == html_output) {\n",
       "                    return [cell, data, j];\n",
       "                }\n",
       "            }\n",
       "        }\n",
       "    }\n",
       "}\n",
       "\n",
       "// Register the function which deals with the matplotlib target/channel.\n",
       "// The kernel may be null if the page has been refreshed.\n",
       "if (IPython.notebook.kernel != null) {\n",
       "    IPython.notebook.kernel.comm_manager.register_target('matplotlib', mpl.mpl_figure_comm);\n",
       "}\n"
      ],
      "text/plain": [
       "<IPython.core.display.Javascript object>"
      ]
     },
     "metadata": {},
     "output_type": "display_data"
    },
    {
     "data": {
      "text/html": [
       "<img src=\"data:image/png;base64,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\" width=\"432\">"
      ],
      "text/plain": [
       "<IPython.core.display.HTML object>"
      ]
     },
     "metadata": {},
     "output_type": "display_data"
    },
    {
     "data": {
      "text/plain": [
       "<BarContainer object of 5 artists>"
      ]
     },
     "execution_count": 38,
     "metadata": {},
     "output_type": "execute_result"
    },
    {
     "data": {
      "text/plain": [
       "Text(0.5,0,'Number of Neighbors')"
      ]
     },
     "execution_count": 38,
     "metadata": {},
     "output_type": "execute_result"
    },
    {
     "data": {
      "text/plain": [
       "Text(0,0.5,'Avg Tset Score(cv = 5) ')"
      ]
     },
     "execution_count": 38,
     "metadata": {},
     "output_type": "execute_result"
    },
    {
     "data": {
      "text/plain": [
       "Text(0.5,1,'Knn Classification Parameter Selection')"
      ]
     },
     "execution_count": 38,
     "metadata": {},
     "output_type": "execute_result"
    }
   ],
   "source": [
    "%matplotlib notebook \n",
    "plt.bar(knnC_param_grid['n_neighbors'],grid_knnC.cv_results_['mean_test_score'])\n",
    "plt.xlabel('Number of Neighbors')\n",
    "plt.ylabel('Avg Tset Score(cv = 5) ')\n",
    "plt.title('Knn Classification Parameter Selection')\n",
    "plt.show()"
   ]
  },
  {
   "cell_type": "code",
   "execution_count": 23,
   "metadata": {},
   "outputs": [],
   "source": [
    "y_knnC_predict = grid_knnC.predict(X_test_C)\n",
    "y_knnC_train_predict = grid_knnC.predict(X_train_C)"
   ]
  },
  {
   "cell_type": "code",
   "execution_count": 39,
   "metadata": {},
   "outputs": [
    {
     "data": {
      "text/plain": [
       "Text(0.5,1,'knnC Confusion matrix')"
      ]
     },
     "execution_count": 39,
     "metadata": {},
     "output_type": "execute_result"
    },
    {
     "data": {
      "image/png": "[encoded data removed]",
      "text/plain": [
       "<Figure size 432x288 with 1 Axes>"
      ]
     },
     "metadata": {},
     "output_type": "display_data"
    }
   ],
   "source": [
    "%matplotlib inline\n",
    "from sklearn.metrics import confusion_matrix\n",
    "\n",
    "knnC_scores_image = mg.tools.heatmap(confusion_matrix(y_test_C, y_knnC_predict), \n",
    "                                     xlabel='Predicted label',ylabel='True label',\n",
    "                                     xticklabels=' ',yticklabels=' ', \n",
    "                                     cmap=\"viridis\", fmt=\"%d\")\n",
    "plt.title(\"knnC Confusion matrix\")\n",
    "plt.gca().invert_yaxis()"
   ]
  },
  {
   "cell_type": "code",
   "execution_count": 40,
   "metadata": {
    "scrolled": true
   },
   "outputs": [
    {
     "data": {
      "text/plain": [
       "[['knn',\n",
       "  {'n_neighbors': 40},\n",
       "  0.8977148661384727,\n",
       "  0.8889098953290315,\n",
       "  0.7775324637711686,\n",
       "  0.7642531467986439]]"
      ]
     },
     "execution_count": 40,
     "metadata": {},
     "output_type": "execute_result"
    }
   ],
   "source": [
    "report_table_knnC = [['knn',grid_knnC.best_params_ , grid_knnC.score(X_train_C, y_train_C), grid_knnC.score(X_test_C, y_test_C), roc_auc_score(y_knnC_train_predict, y_train_C), roc_auc_score(y_knnC_predict, y_test_C) ]]\n",
    "report_table_knnC"
   ]
  },
  {
   "cell_type": "markdown",
   "metadata": {},
   "source": [
    "##### Logistic Regression"
   ]
  },
  {
   "cell_type": "code",
   "execution_count": 43,
   "metadata": {},
   "outputs": [
    {
     "data": {
      "text/plain": [
       "GridSearchCV(cv=5, error_score='raise',\n",
       "       estimator=LogisticRegression(C=1.0, class_weight=None, dual=False, fit_intercept=True,\n",
       "          intercept_scaling=1, max_iter=100, multi_class='ovr', n_jobs=1,\n",
       "          penalty='l2', random_state=None, solver='liblinear', tol=0.0001,\n",
       "          verbose=0, warm_start=False),\n",
       "       fit_params=None, iid=True, n_jobs=1,\n",
       "       param_grid={'C': [0.1, 1, 10, 100, 1000, 10000]},\n",
       "       pre_dispatch='2*n_jobs', refit=True, return_train_score='warn',\n",
       "       scoring='roc_auc', verbose=0)"
      ]
     },
     "execution_count": 43,
     "metadata": {},
     "output_type": "execute_result"
    }
   ],
   "source": [
    "from sklearn.linear_model import LogisticRegression\n",
    "\n",
    "logreg = LogisticRegression()\n",
    "logreg_param_grid = {'C':[0.1, 1, 10, 100, 1000, 10000]}\n",
    "\n",
    "grid_logreg = GridSearchCV(logreg, logreg_param_grid, cv = 5, scoring='roc_auc')\n",
    "\n",
    "grid_logreg.fit(X_train_C, y_train_C)"
   ]
  },
  {
   "cell_type": "code",
   "execution_count": 44,
   "metadata": {},
   "outputs": [
    {
     "data": {
      "text/plain": [
       "{'C': 1000}"
      ]
     },
     "execution_count": 44,
     "metadata": {},
     "output_type": "execute_result"
    },
    {
     "data": {
      "text/plain": [
       "array([0.87196445, 0.8843215 , 0.88528745, 0.8853888 , 0.88540387,\n",
       "       0.88540553])"
      ]
     },
     "execution_count": 44,
     "metadata": {},
     "output_type": "execute_result"
    },
    {
     "data": {
      "text/plain": [
       "array([0.8705146 , 0.88287447, 0.88380909, 0.88390729, 0.88393491,\n",
       "       0.88392995])"
      ]
     },
     "execution_count": 44,
     "metadata": {},
     "output_type": "execute_result"
    }
   ],
   "source": [
    "grid_logreg.best_params_\n",
    "grid_logreg.cv_results_['mean_train_score']\n",
    "grid_logreg.cv_results_['mean_test_score']"
   ]
  },
  {
   "cell_type": "code",
   "execution_count": 45,
   "metadata": {},
   "outputs": [
    {
     "data": {
      "application/javascript": [
       "/* Put everything inside the global mpl namespace */\n",
       "window.mpl = {};\n",
       "\n",
       "\n",
       "mpl.get_websocket_type = function() {\n",
       "    if (typeof(WebSocket) !== 'undefined') {\n",
       "        return WebSocket;\n",
       "    } else if (typeof(MozWebSocket) !== 'undefined') {\n",
       "        return MozWebSocket;\n",
       "    } else {\n",
       "        alert('Your browser does not have WebSocket support.' +\n",
       "              'Please try Chrome, Safari or Firefox ≥ 6. ' +\n",
       "              'Firefox 4 and 5 are also supported but you ' +\n",
       "              'have to enable WebSockets in about:config.');\n",
       "    };\n",
       "}\n",
       "\n",
       "mpl.figure = function(figure_id, websocket, ondownload, parent_element) {\n",
       "    this.id = figure_id;\n",
       "\n",
       "    this.ws = websocket;\n",
       "\n",
       "    this.supports_binary = (this.ws.binaryType != undefined);\n",
       "\n",
       "    if (!this.supports_binary) {\n",
       "        var warnings = document.getElementById(\"mpl-warnings\");\n",
       "        if (warnings) {\n",
       "            warnings.style.display = 'block';\n",
       "            warnings.textContent = (\n",
       "                \"This browser does not support binary websocket messages. \" +\n",
       "                    \"Performance may be slow.\");\n",
       "        }\n",
       "    }\n",
       "\n",
       "    this.imageObj = new Image();\n",
       "\n",
       "    this.context = undefined;\n",
       "    this.message = undefined;\n",
       "    this.canvas = undefined;\n",
       "    this.rubberband_canvas = undefined;\n",
       "    this.rubberband_context = undefined;\n",
       "    this.format_dropdown = undefined;\n",
       "\n",
       "    this.image_mode = 'full';\n",
       "\n",
       "    this.root = $('<div/>');\n",
       "    this._root_extra_style(this.root)\n",
       "    this.root.attr('style', 'display: inline-block');\n",
       "\n",
       "    $(parent_element).append(this.root);\n",
       "\n",
       "    this._init_header(this);\n",
       "    this._init_canvas(this);\n",
       "    this._init_toolbar(this);\n",
       "\n",
       "    var fig = this;\n",
       "\n",
       "    this.waiting = false;\n",
       "\n",
       "    this.ws.onopen =  function () {\n",
       "            fig.send_message(\"supports_binary\", {value: fig.supports_binary});\n",
       "            fig.send_message(\"send_image_mode\", {});\n",
       "            if (mpl.ratio != 1) {\n",
       "                fig.send_message(\"set_dpi_ratio\", {'dpi_ratio': mpl.ratio});\n",
       "            }\n",
       "            fig.send_message(\"refresh\", {});\n",
       "        }\n",
       "\n",
       "    this.imageObj.onload = function() {\n",
       "            if (fig.image_mode == 'full') {\n",
       "                // Full images could contain transparency (where diff images\n",
       "                // almost always do), so we need to clear the canvas so that\n",
       "                // there is no ghosting.\n",
       "                fig.context.clearRect(0, 0, fig.canvas.width, fig.canvas.height);\n",
       "            }\n",
       "            fig.context.drawImage(fig.imageObj, 0, 0);\n",
       "        };\n",
       "\n",
       "    this.imageObj.onunload = function() {\n",
       "        fig.ws.close();\n",
       "    }\n",
       "\n",
       "    this.ws.onmessage = this._make_on_message_function(this);\n",
       "\n",
       "    this.ondownload = ondownload;\n",
       "}\n",
       "\n",
       "mpl.figure.prototype._init_header = function() {\n",
       "    var titlebar = $(\n",
       "        '<div class=\"ui-dialog-titlebar ui-widget-header ui-corner-all ' +\n",
       "        'ui-helper-clearfix\"/>');\n",
       "    var titletext = $(\n",
       "        '<div class=\"ui-dialog-title\" style=\"width: 100%; ' +\n",
       "        'text-align: center; padding: 3px;\"/>');\n",
       "    titlebar.append(titletext)\n",
       "    this.root.append(titlebar);\n",
       "    this.header = titletext[0];\n",
       "}\n",
       "\n",
       "\n",
       "\n",
       "mpl.figure.prototype._canvas_extra_style = function(canvas_div) {\n",
       "\n",
       "}\n",
       "\n",
       "\n",
       "mpl.figure.prototype._root_extra_style = function(canvas_div) {\n",
       "\n",
       "}\n",
       "\n",
       "mpl.figure.prototype._init_canvas = function() {\n",
       "    var fig = this;\n",
       "\n",
       "    var canvas_div = $('<div/>');\n",
       "\n",
       "    canvas_div.attr('style', 'position: relative; clear: both; outline: 0');\n",
       "\n",
       "    function canvas_keyboard_event(event) {\n",
       "        return fig.key_event(event, event['data']);\n",
       "    }\n",
       "\n",
       "    canvas_div.keydown('key_press', canvas_keyboard_event);\n",
       "    canvas_div.keyup('key_release', canvas_keyboard_event);\n",
       "    this.canvas_div = canvas_div\n",
       "    this._canvas_extra_style(canvas_div)\n",
       "    this.root.append(canvas_div);\n",
       "\n",
       "    var canvas = $('<canvas/>');\n",
       "    canvas.addClass('mpl-canvas');\n",
       "    canvas.attr('style', \"left: 0; top: 0; z-index: 0; outline: 0\")\n",
       "\n",
       "    this.canvas = canvas[0];\n",
       "    this.context = canvas[0].getContext(\"2d\");\n",
       "\n",
       "    var backingStore = this.context.backingStorePixelRatio ||\n",
       "\tthis.context.webkitBackingStorePixelRatio ||\n",
       "\tthis.context.mozBackingStorePixelRatio ||\n",
       "\tthis.context.msBackingStorePixelRatio ||\n",
       "\tthis.context.oBackingStorePixelRatio ||\n",
       "\tthis.context.backingStorePixelRatio || 1;\n",
       "\n",
       "    mpl.ratio = (window.devicePixelRatio || 1) / backingStore;\n",
       "\n",
       "    var rubberband = $('<canvas/>');\n",
       "    rubberband.attr('style', \"position: absolute; left: 0; top: 0; z-index: 1;\")\n",
       "\n",
       "    var pass_mouse_events = true;\n",
       "\n",
       "    canvas_div.resizable({\n",
       "        start: function(event, ui) {\n",
       "            pass_mouse_events = false;\n",
       "        },\n",
       "        resize: function(event, ui) {\n",
       "            fig.request_resize(ui.size.width, ui.size.height);\n",
       "        },\n",
       "        stop: function(event, ui) {\n",
       "            pass_mouse_events = true;\n",
       "            fig.request_resize(ui.size.width, ui.size.height);\n",
       "        },\n",
       "    });\n",
       "\n",
       "    function mouse_event_fn(event) {\n",
       "        if (pass_mouse_events)\n",
       "            return fig.mouse_event(event, event['data']);\n",
       "    }\n",
       "\n",
       "    rubberband.mousedown('button_press', mouse_event_fn);\n",
       "    rubberband.mouseup('button_release', mouse_event_fn);\n",
       "    // Throttle sequential mouse events to 1 every 20ms.\n",
       "    rubberband.mousemove('motion_notify', mouse_event_fn);\n",
       "\n",
       "    rubberband.mouseenter('figure_enter', mouse_event_fn);\n",
       "    rubberband.mouseleave('figure_leave', mouse_event_fn);\n",
       "\n",
       "    canvas_div.on(\"wheel\", function (event) {\n",
       "        event = event.originalEvent;\n",
       "        event['data'] = 'scroll'\n",
       "        if (event.deltaY < 0) {\n",
       "            event.step = 1;\n",
       "        } else {\n",
       "            event.step = -1;\n",
       "        }\n",
       "        mouse_event_fn(event);\n",
       "    });\n",
       "\n",
       "    canvas_div.append(canvas);\n",
       "    canvas_div.append(rubberband);\n",
       "\n",
       "    this.rubberband = rubberband;\n",
       "    this.rubberband_canvas = rubberband[0];\n",
       "    this.rubberband_context = rubberband[0].getContext(\"2d\");\n",
       "    this.rubberband_context.strokeStyle = \"#000000\";\n",
       "\n",
       "    this._resize_canvas = function(width, height) {\n",
       "        // Keep the size of the canvas, canvas container, and rubber band\n",
       "        // canvas in synch.\n",
       "        canvas_div.css('width', width)\n",
       "        canvas_div.css('height', height)\n",
       "\n",
       "        canvas.attr('width', width * mpl.ratio);\n",
       "        canvas.attr('height', height * mpl.ratio);\n",
       "        canvas.attr('style', 'width: ' + width + 'px; height: ' + height + 'px;');\n",
       "\n",
       "        rubberband.attr('width', width);\n",
       "        rubberband.attr('height', height);\n",
       "    }\n",
       "\n",
       "    // Set the figure to an initial 600x600px, this will subsequently be updated\n",
       "    // upon first draw.\n",
       "    this._resize_canvas(600, 600);\n",
       "\n",
       "    // Disable right mouse context menu.\n",
       "    $(this.rubberband_canvas).bind(\"contextmenu\",function(e){\n",
       "        return false;\n",
       "    });\n",
       "\n",
       "    function set_focus () {\n",
       "        canvas.focus();\n",
       "        canvas_div.focus();\n",
       "    }\n",
       "\n",
       "    window.setTimeout(set_focus, 100);\n",
       "}\n",
       "\n",
       "mpl.figure.prototype._init_toolbar = function() {\n",
       "    var fig = this;\n",
       "\n",
       "    var nav_element = $('<div/>')\n",
       "    nav_element.attr('style', 'width: 100%');\n",
       "    this.root.append(nav_element);\n",
       "\n",
       "    // Define a callback function for later on.\n",
       "    function toolbar_event(event) {\n",
       "        return fig.toolbar_button_onclick(event['data']);\n",
       "    }\n",
       "    function toolbar_mouse_event(event) {\n",
       "        return fig.toolbar_button_onmouseover(event['data']);\n",
       "    }\n",
       "\n",
       "    for(var toolbar_ind in mpl.toolbar_items) {\n",
       "        var name = mpl.toolbar_items[toolbar_ind][0];\n",
       "        var tooltip = mpl.toolbar_items[toolbar_ind][1];\n",
       "        var image = mpl.toolbar_items[toolbar_ind][2];\n",
       "        var method_name = mpl.toolbar_items[toolbar_ind][3];\n",
       "\n",
       "        if (!name) {\n",
       "            // put a spacer in here.\n",
       "            continue;\n",
       "        }\n",
       "        var button = $('<button/>');\n",
       "        button.addClass('ui-button ui-widget ui-state-default ui-corner-all ' +\n",
       "                        'ui-button-icon-only');\n",
       "        button.attr('role', 'button');\n",
       "        button.attr('aria-disabled', 'false');\n",
       "        button.click(method_name, toolbar_event);\n",
       "        button.mouseover(tooltip, toolbar_mouse_event);\n",
       "\n",
       "        var icon_img = $('<span/>');\n",
       "        icon_img.addClass('ui-button-icon-primary ui-icon');\n",
       "        icon_img.addClass(image);\n",
       "        icon_img.addClass('ui-corner-all');\n",
       "\n",
       "        var tooltip_span = $('<span/>');\n",
       "        tooltip_span.addClass('ui-button-text');\n",
       "        tooltip_span.html(tooltip);\n",
       "\n",
       "        button.append(icon_img);\n",
       "        button.append(tooltip_span);\n",
       "\n",
       "        nav_element.append(button);\n",
       "    }\n",
       "\n",
       "    var fmt_picker_span = $('<span/>');\n",
       "\n",
       "    var fmt_picker = $('<select/>');\n",
       "    fmt_picker.addClass('mpl-toolbar-option ui-widget ui-widget-content');\n",
       "    fmt_picker_span.append(fmt_picker);\n",
       "    nav_element.append(fmt_picker_span);\n",
       "    this.format_dropdown = fmt_picker[0];\n",
       "\n",
       "    for (var ind in mpl.extensions) {\n",
       "        var fmt = mpl.extensions[ind];\n",
       "        var option = $(\n",
       "            '<option/>', {selected: fmt === mpl.default_extension}).html(fmt);\n",
       "        fmt_picker.append(option)\n",
       "    }\n",
       "\n",
       "    // Add hover states to the ui-buttons\n",
       "    $( \".ui-button\" ).hover(\n",
       "        function() { $(this).addClass(\"ui-state-hover\");},\n",
       "        function() { $(this).removeClass(\"ui-state-hover\");}\n",
       "    );\n",
       "\n",
       "    var status_bar = $('<span class=\"mpl-message\"/>');\n",
       "    nav_element.append(status_bar);\n",
       "    this.message = status_bar[0];\n",
       "}\n",
       "\n",
       "mpl.figure.prototype.request_resize = function(x_pixels, y_pixels) {\n",
       "    // Request matplotlib to resize the figure. Matplotlib will then trigger a resize in the client,\n",
       "    // which will in turn request a refresh of the image.\n",
       "    this.send_message('resize', {'width': x_pixels, 'height': y_pixels});\n",
       "}\n",
       "\n",
       "mpl.figure.prototype.send_message = function(type, properties) {\n",
       "    properties['type'] = type;\n",
       "    properties['figure_id'] = this.id;\n",
       "    this.ws.send(JSON.stringify(properties));\n",
       "}\n",
       "\n",
       "mpl.figure.prototype.send_draw_message = function() {\n",
       "    if (!this.waiting) {\n",
       "        this.waiting = true;\n",
       "        this.ws.send(JSON.stringify({type: \"draw\", figure_id: this.id}));\n",
       "    }\n",
       "}\n",
       "\n",
       "\n",
       "mpl.figure.prototype.handle_save = function(fig, msg) {\n",
       "    var format_dropdown = fig.format_dropdown;\n",
       "    var format = format_dropdown.options[format_dropdown.selectedIndex].value;\n",
       "    fig.ondownload(fig, format);\n",
       "}\n",
       "\n",
       "\n",
       "mpl.figure.prototype.handle_resize = function(fig, msg) {\n",
       "    var size = msg['size'];\n",
       "    if (size[0] != fig.canvas.width || size[1] != fig.canvas.height) {\n",
       "        fig._resize_canvas(size[0], size[1]);\n",
       "        fig.send_message(\"refresh\", {});\n",
       "    };\n",
       "}\n",
       "\n",
       "mpl.figure.prototype.handle_rubberband = function(fig, msg) {\n",
       "    var x0 = msg['x0'] / mpl.ratio;\n",
       "    var y0 = (fig.canvas.height - msg['y0']) / mpl.ratio;\n",
       "    var x1 = msg['x1'] / mpl.ratio;\n",
       "    var y1 = (fig.canvas.height - msg['y1']) / mpl.ratio;\n",
       "    x0 = Math.floor(x0) + 0.5;\n",
       "    y0 = Math.floor(y0) + 0.5;\n",
       "    x1 = Math.floor(x1) + 0.5;\n",
       "    y1 = Math.floor(y1) + 0.5;\n",
       "    var min_x = Math.min(x0, x1);\n",
       "    var min_y = Math.min(y0, y1);\n",
       "    var width = Math.abs(x1 - x0);\n",
       "    var height = Math.abs(y1 - y0);\n",
       "\n",
       "    fig.rubberband_context.clearRect(\n",
       "        0, 0, fig.canvas.width, fig.canvas.height);\n",
       "\n",
       "    fig.rubberband_context.strokeRect(min_x, min_y, width, height);\n",
       "}\n",
       "\n",
       "mpl.figure.prototype.handle_figure_label = function(fig, msg) {\n",
       "    // Updates the figure title.\n",
       "    fig.header.textContent = msg['label'];\n",
       "}\n",
       "\n",
       "mpl.figure.prototype.handle_cursor = function(fig, msg) {\n",
       "    var cursor = msg['cursor'];\n",
       "    switch(cursor)\n",
       "    {\n",
       "    case 0:\n",
       "        cursor = 'pointer';\n",
       "        break;\n",
       "    case 1:\n",
       "        cursor = 'default';\n",
       "        break;\n",
       "    case 2:\n",
       "        cursor = 'crosshair';\n",
       "        break;\n",
       "    case 3:\n",
       "        cursor = 'move';\n",
       "        break;\n",
       "    }\n",
       "    fig.rubberband_canvas.style.cursor = cursor;\n",
       "}\n",
       "\n",
       "mpl.figure.prototype.handle_message = function(fig, msg) {\n",
       "    fig.message.textContent = msg['message'];\n",
       "}\n",
       "\n",
       "mpl.figure.prototype.handle_draw = function(fig, msg) {\n",
       "    // Request the server to send over a new figure.\n",
       "    fig.send_draw_message();\n",
       "}\n",
       "\n",
       "mpl.figure.prototype.handle_image_mode = function(fig, msg) {\n",
       "    fig.image_mode = msg['mode'];\n",
       "}\n",
       "\n",
       "mpl.figure.prototype.updated_canvas_event = function() {\n",
       "    // Called whenever the canvas gets updated.\n",
       "    this.send_message(\"ack\", {});\n",
       "}\n",
       "\n",
       "// A function to construct a web socket function for onmessage handling.\n",
       "// Called in the figure constructor.\n",
       "mpl.figure.prototype._make_on_message_function = function(fig) {\n",
       "    return function socket_on_message(evt) {\n",
       "        if (evt.data instanceof Blob) {\n",
       "            /* FIXME: We get \"Resource interpreted as Image but\n",
       "             * transferred with MIME type text/plain:\" errors on\n",
       "             * Chrome.  But how to set the MIME type?  It doesn't seem\n",
       "             * to be part of the websocket stream */\n",
       "            evt.data.type = \"image/png\";\n",
       "\n",
       "            /* Free the memory for the previous frames */\n",
       "            if (fig.imageObj.src) {\n",
       "                (window.URL || window.webkitURL).revokeObjectURL(\n",
       "                    fig.imageObj.src);\n",
       "            }\n",
       "\n",
       "            fig.imageObj.src = (window.URL || window.webkitURL).createObjectURL(\n",
       "                evt.data);\n",
       "            fig.updated_canvas_event();\n",
       "            fig.waiting = false;\n",
       "            return;\n",
       "        }\n",
       "        else if (typeof evt.data === 'string' && evt.data.slice(0, 21) == \"data:image/png;base64\") {\n",
       "            fig.imageObj.src = evt.data;\n",
       "            fig.updated_canvas_event();\n",
       "            fig.waiting = false;\n",
       "            return;\n",
       "        }\n",
       "\n",
       "        var msg = JSON.parse(evt.data);\n",
       "        var msg_type = msg['type'];\n",
       "\n",
       "        // Call the  \"handle_{type}\" callback, which takes\n",
       "        // the figure and JSON message as its only arguments.\n",
       "        try {\n",
       "            var callback = fig[\"handle_\" + msg_type];\n",
       "        } catch (e) {\n",
       "            console.log(\"No handler for the '\" + msg_type + \"' message type: \", msg);\n",
       "            return;\n",
       "        }\n",
       "\n",
       "        if (callback) {\n",
       "            try {\n",
       "                // console.log(\"Handling '\" + msg_type + \"' message: \", msg);\n",
       "                callback(fig, msg);\n",
       "            } catch (e) {\n",
       "                console.log(\"Exception inside the 'handler_\" + msg_type + \"' callback:\", e, e.stack, msg);\n",
       "            }\n",
       "        }\n",
       "    };\n",
       "}\n",
       "\n",
       "// from http://stackoverflow.com/questions/1114465/getting-mouse-location-in-canvas\n",
       "mpl.findpos = function(e) {\n",
       "    //this section is from http://www.quirksmode.org/js/events_properties.html\n",
       "    var targ;\n",
       "    if (!e)\n",
       "        e = window.event;\n",
       "    if (e.target)\n",
       "        targ = e.target;\n",
       "    else if (e.srcElement)\n",
       "        targ = e.srcElement;\n",
       "    if (targ.nodeType == 3) // defeat Safari bug\n",
       "        targ = targ.parentNode;\n",
       "\n",
       "    // jQuery normalizes the pageX and pageY\n",
       "    // pageX,Y are the mouse positions relative to the document\n",
       "    // offset() returns the position of the element relative to the document\n",
       "    var x = e.pageX - $(targ).offset().left;\n",
       "    var y = e.pageY - $(targ).offset().top;\n",
       "\n",
       "    return {\"x\": x, \"y\": y};\n",
       "};\n",
       "\n",
       "/*\n",
       " * return a copy of an object with only non-object keys\n",
       " * we need this to avoid circular references\n",
       " * http://stackoverflow.com/a/24161582/3208463\n",
       " */\n",
       "function simpleKeys (original) {\n",
       "  return Object.keys(original).reduce(function (obj, key) {\n",
       "    if (typeof original[key] !== 'object')\n",
       "        obj[key] = original[key]\n",
       "    return obj;\n",
       "  }, {});\n",
       "}\n",
       "\n",
       "mpl.figure.prototype.mouse_event = function(event, name) {\n",
       "    var canvas_pos = mpl.findpos(event)\n",
       "\n",
       "    if (name === 'button_press')\n",
       "    {\n",
       "        this.canvas.focus();\n",
       "        this.canvas_div.focus();\n",
       "    }\n",
       "\n",
       "    var x = canvas_pos.x * mpl.ratio;\n",
       "    var y = canvas_pos.y * mpl.ratio;\n",
       "\n",
       "    this.send_message(name, {x: x, y: y, button: event.button,\n",
       "                             step: event.step,\n",
       "                             guiEvent: simpleKeys(event)});\n",
       "\n",
       "    /* This prevents the web browser from automatically changing to\n",
       "     * the text insertion cursor when the button is pressed.  We want\n",
       "     * to control all of the cursor setting manually through the\n",
       "     * 'cursor' event from matplotlib */\n",
       "    event.preventDefault();\n",
       "    return false;\n",
       "}\n",
       "\n",
       "mpl.figure.prototype._key_event_extra = function(event, name) {\n",
       "    // Handle any extra behaviour associated with a key event\n",
       "}\n",
       "\n",
       "mpl.figure.prototype.key_event = function(event, name) {\n",
       "\n",
       "    // Prevent repeat events\n",
       "    if (name == 'key_press')\n",
       "    {\n",
       "        if (event.which === this._key)\n",
       "            return;\n",
       "        else\n",
       "            this._key = event.which;\n",
       "    }\n",
       "    if (name == 'key_release')\n",
       "        this._key = null;\n",
       "\n",
       "    var value = '';\n",
       "    if (event.ctrlKey && event.which != 17)\n",
       "        value += \"ctrl+\";\n",
       "    if (event.altKey && event.which != 18)\n",
       "        value += \"alt+\";\n",
       "    if (event.shiftKey && event.which != 16)\n",
       "        value += \"shift+\";\n",
       "\n",
       "    value += 'k';\n",
       "    value += event.which.toString();\n",
       "\n",
       "    this._key_event_extra(event, name);\n",
       "\n",
       "    this.send_message(name, {key: value,\n",
       "                             guiEvent: simpleKeys(event)});\n",
       "    return false;\n",
       "}\n",
       "\n",
       "mpl.figure.prototype.toolbar_button_onclick = function(name) {\n",
       "    if (name == 'download') {\n",
       "        this.handle_save(this, null);\n",
       "    } else {\n",
       "        this.send_message(\"toolbar_button\", {name: name});\n",
       "    }\n",
       "};\n",
       "\n",
       "mpl.figure.prototype.toolbar_button_onmouseover = function(tooltip) {\n",
       "    this.message.textContent = tooltip;\n",
       "};\n",
       "mpl.toolbar_items = [[\"Home\", \"Reset original view\", \"fa fa-home icon-home\", \"home\"], [\"Back\", \"Back to  previous view\", \"fa fa-arrow-left icon-arrow-left\", \"back\"], [\"Forward\", \"Forward to next view\", \"fa fa-arrow-right icon-arrow-right\", \"forward\"], [\"\", \"\", \"\", \"\"], [\"Pan\", \"Pan axes with left mouse, zoom with right\", \"fa fa-arrows icon-move\", \"pan\"], [\"Zoom\", \"Zoom to rectangle\", \"fa fa-square-o icon-check-empty\", \"zoom\"], [\"\", \"\", \"\", \"\"], [\"Download\", \"Download plot\", \"fa fa-floppy-o icon-save\", \"download\"]];\n",
       "\n",
       "mpl.extensions = [\"eps\", \"jpeg\", \"pdf\", \"png\", \"ps\", \"raw\", \"svg\", \"tif\"];\n",
       "\n",
       "mpl.default_extension = \"png\";var comm_websocket_adapter = function(comm) {\n",
       "    // Create a \"websocket\"-like object which calls the given IPython comm\n",
       "    // object with the appropriate methods. Currently this is a non binary\n",
       "    // socket, so there is still some room for performance tuning.\n",
       "    var ws = {};\n",
       "\n",
       "    ws.close = function() {\n",
       "        comm.close()\n",
       "    };\n",
       "    ws.send = function(m) {\n",
       "        //console.log('sending', m);\n",
       "        comm.send(m);\n",
       "    };\n",
       "    // Register the callback with on_msg.\n",
       "    comm.on_msg(function(msg) {\n",
       "        //console.log('receiving', msg['content']['data'], msg);\n",
       "        // Pass the mpl event to the overridden (by mpl) onmessage function.\n",
       "        ws.onmessage(msg['content']['data'])\n",
       "    });\n",
       "    return ws;\n",
       "}\n",
       "\n",
       "mpl.mpl_figure_comm = function(comm, msg) {\n",
       "    // This is the function which gets called when the mpl process\n",
       "    // starts-up an IPython Comm through the \"matplotlib\" channel.\n",
       "\n",
       "    var id = msg.content.data.id;\n",
       "    // Get hold of the div created by the display call when the Comm\n",
       "    // socket was opened in Python.\n",
       "    var element = $(\"#\" + id);\n",
       "    var ws_proxy = comm_websocket_adapter(comm)\n",
       "\n",
       "    function ondownload(figure, format) {\n",
       "        window.open(figure.imageObj.src);\n",
       "    }\n",
       "\n",
       "    var fig = new mpl.figure(id, ws_proxy,\n",
       "                           ondownload,\n",
       "                           element.get(0));\n",
       "\n",
       "    // Call onopen now - mpl needs it, as it is assuming we've passed it a real\n",
       "    // web socket which is closed, not our websocket->open comm proxy.\n",
       "    ws_proxy.onopen();\n",
       "\n",
       "    fig.parent_element = element.get(0);\n",
       "    fig.cell_info = mpl.find_output_cell(\"<div id='\" + id + \"'></div>\");\n",
       "    if (!fig.cell_info) {\n",
       "        console.error(\"Failed to find cell for figure\", id, fig);\n",
       "        return;\n",
       "    }\n",
       "\n",
       "    var output_index = fig.cell_info[2]\n",
       "    var cell = fig.cell_info[0];\n",
       "\n",
       "};\n",
       "\n",
       "mpl.figure.prototype.handle_close = function(fig, msg) {\n",
       "    var width = fig.canvas.width/mpl.ratio\n",
       "    fig.root.unbind('remove')\n",
       "\n",
       "    // Update the output cell to use the data from the current canvas.\n",
       "    fig.push_to_output();\n",
       "    var dataURL = fig.canvas.toDataURL();\n",
       "    // Re-enable the keyboard manager in IPython - without this line, in FF,\n",
       "    // the notebook keyboard shortcuts fail.\n",
       "    IPython.keyboard_manager.enable()\n",
       "    $(fig.parent_element).html('<img src=\"' + dataURL + '\" width=\"' + width + '\">');\n",
       "    fig.close_ws(fig, msg);\n",
       "}\n",
       "\n",
       "mpl.figure.prototype.close_ws = function(fig, msg){\n",
       "    fig.send_message('closing', msg);\n",
       "    // fig.ws.close()\n",
       "}\n",
       "\n",
       "mpl.figure.prototype.push_to_output = function(remove_interactive) {\n",
       "    // Turn the data on the canvas into data in the output cell.\n",
       "    var width = this.canvas.width/mpl.ratio\n",
       "    var dataURL = this.canvas.toDataURL();\n",
       "    this.cell_info[1]['text/html'] = '<img src=\"' + dataURL + '\" width=\"' + width + '\">';\n",
       "}\n",
       "\n",
       "mpl.figure.prototype.updated_canvas_event = function() {\n",
       "    // Tell IPython that the notebook contents must change.\n",
       "    IPython.notebook.set_dirty(true);\n",
       "    this.send_message(\"ack\", {});\n",
       "    var fig = this;\n",
       "    // Wait a second, then push the new image to the DOM so\n",
       "    // that it is saved nicely (might be nice to debounce this).\n",
       "    setTimeout(function () { fig.push_to_output() }, 1000);\n",
       "}\n",
       "\n",
       "mpl.figure.prototype._init_toolbar = function() {\n",
       "    var fig = this;\n",
       "\n",
       "    var nav_element = $('<div/>')\n",
       "    nav_element.attr('style', 'width: 100%');\n",
       "    this.root.append(nav_element);\n",
       "\n",
       "    // Define a callback function for later on.\n",
       "    function toolbar_event(event) {\n",
       "        return fig.toolbar_button_onclick(event['data']);\n",
       "    }\n",
       "    function toolbar_mouse_event(event) {\n",
       "        return fig.toolbar_button_onmouseover(event['data']);\n",
       "    }\n",
       "\n",
       "    for(var toolbar_ind in mpl.toolbar_items){\n",
       "        var name = mpl.toolbar_items[toolbar_ind][0];\n",
       "        var tooltip = mpl.toolbar_items[toolbar_ind][1];\n",
       "        var image = mpl.toolbar_items[toolbar_ind][2];\n",
       "        var method_name = mpl.toolbar_items[toolbar_ind][3];\n",
       "\n",
       "        if (!name) { continue; };\n",
       "\n",
       "        var button = $('<button class=\"btn btn-default\" href=\"#\" title=\"' + name + '\"><i class=\"fa ' + image + ' fa-lg\"></i></button>');\n",
       "        button.click(method_name, toolbar_event);\n",
       "        button.mouseover(tooltip, toolbar_mouse_event);\n",
       "        nav_element.append(button);\n",
       "    }\n",
       "\n",
       "    // Add the status bar.\n",
       "    var status_bar = $('<span class=\"mpl-message\" style=\"text-align:right; float: right;\"/>');\n",
       "    nav_element.append(status_bar);\n",
       "    this.message = status_bar[0];\n",
       "\n",
       "    // Add the close button to the window.\n",
       "    var buttongrp = $('<div class=\"btn-group inline pull-right\"></div>');\n",
       "    var button = $('<button class=\"btn btn-mini btn-primary\" href=\"#\" title=\"Stop Interaction\"><i class=\"fa fa-power-off icon-remove icon-large\"></i></button>');\n",
       "    button.click(function (evt) { fig.handle_close(fig, {}); } );\n",
       "    button.mouseover('Stop Interaction', toolbar_mouse_event);\n",
       "    buttongrp.append(button);\n",
       "    var titlebar = this.root.find($('.ui-dialog-titlebar'));\n",
       "    titlebar.prepend(buttongrp);\n",
       "}\n",
       "\n",
       "mpl.figure.prototype._root_extra_style = function(el){\n",
       "    var fig = this\n",
       "    el.on(\"remove\", function(){\n",
       "\tfig.close_ws(fig, {});\n",
       "    });\n",
       "}\n",
       "\n",
       "mpl.figure.prototype._canvas_extra_style = function(el){\n",
       "    // this is important to make the div 'focusable\n",
       "    el.attr('tabindex', 0)\n",
       "    // reach out to IPython and tell the keyboard manager to turn it's self\n",
       "    // off when our div gets focus\n",
       "\n",
       "    // location in version 3\n",
       "    if (IPython.notebook.keyboard_manager) {\n",
       "        IPython.notebook.keyboard_manager.register_events(el);\n",
       "    }\n",
       "    else {\n",
       "        // location in version 2\n",
       "        IPython.keyboard_manager.register_events(el);\n",
       "    }\n",
       "\n",
       "}\n",
       "\n",
       "mpl.figure.prototype._key_event_extra = function(event, name) {\n",
       "    var manager = IPython.notebook.keyboard_manager;\n",
       "    if (!manager)\n",
       "        manager = IPython.keyboard_manager;\n",
       "\n",
       "    // Check for shift+enter\n",
       "    if (event.shiftKey && event.which == 13) {\n",
       "        this.canvas_div.blur();\n",
       "        event.shiftKey = false;\n",
       "        // Send a \"J\" for go to next cell\n",
       "        event.which = 74;\n",
       "        event.keyCode = 74;\n",
       "        manager.command_mode();\n",
       "        manager.handle_keydown(event);\n",
       "    }\n",
       "}\n",
       "\n",
       "mpl.figure.prototype.handle_save = function(fig, msg) {\n",
       "    fig.ondownload(fig, null);\n",
       "}\n",
       "\n",
       "\n",
       "mpl.find_output_cell = function(html_output) {\n",
       "    // Return the cell and output element which can be found *uniquely* in the notebook.\n",
       "    // Note - this is a bit hacky, but it is done because the \"notebook_saving.Notebook\"\n",
       "    // IPython event is triggered only after the cells have been serialised, which for\n",
       "    // our purposes (turning an active figure into a static one), is too late.\n",
       "    var cells = IPython.notebook.get_cells();\n",
       "    var ncells = cells.length;\n",
       "    for (var i=0; i<ncells; i++) {\n",
       "        var cell = cells[i];\n",
       "        if (cell.cell_type === 'code'){\n",
       "            for (var j=0; j<cell.output_area.outputs.length; j++) {\n",
       "                var data = cell.output_area.outputs[j];\n",
       "                if (data.data) {\n",
       "                    // IPython >= 3 moved mimebundle to data attribute of output\n",
       "                    data = data.data;\n",
       "                }\n",
       "                if (data['text/html'] == html_output) {\n",
       "                    return [cell, data, j];\n",
       "                }\n",
       "            }\n",
       "        }\n",
       "    }\n",
       "}\n",
       "\n",
       "// Register the function which deals with the matplotlib target/channel.\n",
       "// The kernel may be null if the page has been refreshed.\n",
       "if (IPython.notebook.kernel != null) {\n",
       "    IPython.notebook.kernel.comm_manager.register_target('matplotlib', mpl.mpl_figure_comm);\n",
       "}\n"
      ],
      "text/plain": [
       "<IPython.core.display.Javascript object>"
      ]
     },
     "metadata": {},
     "output_type": "display_data"
    },
    {
     "data": {
      "text/html": [
       "<img src=\"data:image/png;base64,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\" width=\"432\">"
      ],
      "text/plain": [
       "<IPython.core.display.HTML object>"
      ]
     },
     "metadata": {},
     "output_type": "display_data"
    },
    {
     "data": {
      "text/plain": [
       "<matplotlib.collections.PathCollection at 0x19f47c77ef0>"
      ]
     },
     "execution_count": 45,
     "metadata": {},
     "output_type": "execute_result"
    },
    {
     "data": {
      "text/plain": [
       "Text(0.5,0,'Value of C')"
      ]
     },
     "execution_count": 45,
     "metadata": {},
     "output_type": "execute_result"
    },
    {
     "data": {
      "text/plain": [
       "Text(0,0.5,'Avg Tset Score(cv = 5) ')"
      ]
     },
     "execution_count": 45,
     "metadata": {},
     "output_type": "execute_result"
    },
    {
     "data": {
      "text/plain": [
       "Text(0.5,1,'Logstic Regression Parameter Selection')"
      ]
     },
     "execution_count": 45,
     "metadata": {},
     "output_type": "execute_result"
    }
   ],
   "source": [
    "%matplotlib notebook \n",
    "plt.scatter(logreg_param_grid['C'],grid_logreg.cv_results_['mean_test_score'],edgecolors = 'r')\n",
    "plt.xlabel('Value of C')\n",
    "plt.ylabel('Avg Tset Score(cv = 5) ')\n",
    "plt.title('Logstic Regression Parameter Selection')\n",
    "plt.show()"
   ]
  },
  {
   "cell_type": "code",
   "execution_count": 46,
   "metadata": {},
   "outputs": [],
   "source": [
    "y_logreg_predict = grid_logreg.predict(X_test_C)\n",
    "y_logreg_train_predict = grid_logreg.predict(X_train_C)"
   ]
  },
  {
   "cell_type": "code",
   "execution_count": 47,
   "metadata": {},
   "outputs": [
    {
     "data": {
      "text/plain": [
       "Text(0.5,1,'logreg Confusion matrix')"
      ]
     },
     "execution_count": 47,
     "metadata": {},
     "output_type": "execute_result"
    },
    {
     "data": {
      "image/png": "[encoded data removed]",
      "text/plain": [
       "<Figure size 432x288 with 1 Axes>"
      ]
     },
     "metadata": {},
     "output_type": "display_data"
    }
   ],
   "source": [
    "%matplotlib inline\n",
    "logreg_scores_image = mg.tools.heatmap(confusion_matrix(y_test_C, y_logreg_predict), \n",
    "                                       xlabel='Predicted label',ylabel='True label', \n",
    "                                       xticklabels=' ',yticklabels=' ',\n",
    "                                       cmap=\"viridis\", fmt=\"%d\")\n",
    "plt.title(\"logreg Confusion matrix\")\n",
    "plt.gca().invert_yaxis()"
   ]
  },
  {
   "cell_type": "code",
   "execution_count": 48,
   "metadata": {
    "scrolled": true
   },
   "outputs": [
    {
     "data": {
      "text/plain": [
       "[['Logistic Reg',\n",
       "  {'C': 1000},\n",
       "  0.8854225669781637,\n",
       "  0.8896219547533057,\n",
       "  0.7579448442174765,\n",
       "  0.7800239055729867]]"
      ]
     },
     "execution_count": 48,
     "metadata": {},
     "output_type": "execute_result"
    }
   ],
   "source": [
    "report_table_logreg = [['Logistic Reg', grid_logreg.best_params_, grid_logreg.score(X_train_C, y_train_C), grid_logreg.score(X_test_C, y_test_C), roc_auc_score(y_logreg_train_predict, y_train_C), roc_auc_score(y_logreg_predict, y_test_C) ]]\n",
    "report_table_logreg"
   ]
  },
  {
   "cell_type": "markdown",
   "metadata": {},
   "source": [
    "##### Simple Linear SVM"
   ]
  },
  {
   "cell_type": "code",
   "execution_count": 32,
   "metadata": {},
   "outputs": [
    {
     "data": {
      "text/plain": [
       "GridSearchCV(cv=5, error_score='raise',\n",
       "       estimator=LinearSVC(C=1.0, class_weight=None, dual=True, fit_intercept=True,\n",
       "     intercept_scaling=1, loss='squared_hinge', max_iter=1000,\n",
       "     multi_class='ovr', penalty='l2', random_state=None, tol=0.0001,\n",
       "     verbose=0),\n",
       "       fit_params=None, iid=True, n_jobs=1,\n",
       "       param_grid={'C': [0.001, 0.01, 0.1, 1, 10, 100]},\n",
       "       pre_dispatch='2*n_jobs', refit=True, return_train_score='warn',\n",
       "       scoring='roc_auc', verbose=0)"
      ]
     },
     "execution_count": 32,
     "metadata": {},
     "output_type": "execute_result"
    }
   ],
   "source": [
    "from sklearn.svm import LinearSVC\n",
    "\n",
    "svc_lin_C = LinearSVC()\n",
    "svc_lin_C_param_grid = {'C': [0.001, 0.01, 0.1, 1, 10, 100]}\n",
    "\n",
    "grid_svc_lin_C = GridSearchCV(svc_lin_C, svc_lin_C_param_grid, cv = 5, scoring='roc_auc')\n",
    "\n",
    "grid_svc_lin_C.fit(X_train_C, y_train_C)"
   ]
  },
  {
   "cell_type": "code",
   "execution_count": 33,
   "metadata": {},
   "outputs": [
    {
     "data": {
      "text/plain": [
       "{'C': 10}"
      ]
     },
     "execution_count": 33,
     "metadata": {},
     "output_type": "execute_result"
    },
    {
     "data": {
      "text/plain": [
       "array([0.75238825, 0.87404484, 0.8848123 , 0.88571144, 0.88589815,\n",
       "       0.88522263])"
      ]
     },
     "execution_count": 33,
     "metadata": {},
     "output_type": "execute_result"
    },
    {
     "data": {
      "text/plain": [
       "array([0.75011255, 0.87280449, 0.88345501, 0.88414163, 0.8844543 ,\n",
       "       0.88365293])"
      ]
     },
     "execution_count": 33,
     "metadata": {},
     "output_type": "execute_result"
    }
   ],
   "source": [
    "grid_svc_lin_C.best_params_\n",
    "grid_svc_lin_C.cv_results_['mean_train_score']\n",
    "grid_svc_lin_C.cv_results_['mean_test_score']"
   ]
  },
  {
   "cell_type": "code",
   "execution_count": 49,
   "metadata": {},
   "outputs": [
    {
     "data": {
      "application/javascript": [
       "/* Put everything inside the global mpl namespace */\n",
       "window.mpl = {};\n",
       "\n",
       "\n",
       "mpl.get_websocket_type = function() {\n",
       "    if (typeof(WebSocket) !== 'undefined') {\n",
       "        return WebSocket;\n",
       "    } else if (typeof(MozWebSocket) !== 'undefined') {\n",
       "        return MozWebSocket;\n",
       "    } else {\n",
       "        alert('Your browser does not have WebSocket support.' +\n",
       "              'Please try Chrome, Safari or Firefox ≥ 6. ' +\n",
       "              'Firefox 4 and 5 are also supported but you ' +\n",
       "              'have to enable WebSockets in about:config.');\n",
       "    };\n",
       "}\n",
       "\n",
       "mpl.figure = function(figure_id, websocket, ondownload, parent_element) {\n",
       "    this.id = figure_id;\n",
       "\n",
       "    this.ws = websocket;\n",
       "\n",
       "    this.supports_binary = (this.ws.binaryType != undefined);\n",
       "\n",
       "    if (!this.supports_binary) {\n",
       "        var warnings = document.getElementById(\"mpl-warnings\");\n",
       "        if (warnings) {\n",
       "            warnings.style.display = 'block';\n",
       "            warnings.textContent = (\n",
       "                \"This browser does not support binary websocket messages. \" +\n",
       "                    \"Performance may be slow.\");\n",
       "        }\n",
       "    }\n",
       "\n",
       "    this.imageObj = new Image();\n",
       "\n",
       "    this.context = undefined;\n",
       "    this.message = undefined;\n",
       "    this.canvas = undefined;\n",
       "    this.rubberband_canvas = undefined;\n",
       "    this.rubberband_context = undefined;\n",
       "    this.format_dropdown = undefined;\n",
       "\n",
       "    this.image_mode = 'full';\n",
       "\n",
       "    this.root = $('<div/>');\n",
       "    this._root_extra_style(this.root)\n",
       "    this.root.attr('style', 'display: inline-block');\n",
       "\n",
       "    $(parent_element).append(this.root);\n",
       "\n",
       "    this._init_header(this);\n",
       "    this._init_canvas(this);\n",
       "    this._init_toolbar(this);\n",
       "\n",
       "    var fig = this;\n",
       "\n",
       "    this.waiting = false;\n",
       "\n",
       "    this.ws.onopen =  function () {\n",
       "            fig.send_message(\"supports_binary\", {value: fig.supports_binary});\n",
       "            fig.send_message(\"send_image_mode\", {});\n",
       "            if (mpl.ratio != 1) {\n",
       "                fig.send_message(\"set_dpi_ratio\", {'dpi_ratio': mpl.ratio});\n",
       "            }\n",
       "            fig.send_message(\"refresh\", {});\n",
       "        }\n",
       "\n",
       "    this.imageObj.onload = function() {\n",
       "            if (fig.image_mode == 'full') {\n",
       "                // Full images could contain transparency (where diff images\n",
       "                // almost always do), so we need to clear the canvas so that\n",
       "                // there is no ghosting.\n",
       "                fig.context.clearRect(0, 0, fig.canvas.width, fig.canvas.height);\n",
       "            }\n",
       "            fig.context.drawImage(fig.imageObj, 0, 0);\n",
       "        };\n",
       "\n",
       "    this.imageObj.onunload = function() {\n",
       "        fig.ws.close();\n",
       "    }\n",
       "\n",
       "    this.ws.onmessage = this._make_on_message_function(this);\n",
       "\n",
       "    this.ondownload = ondownload;\n",
       "}\n",
       "\n",
       "mpl.figure.prototype._init_header = function() {\n",
       "    var titlebar = $(\n",
       "        '<div class=\"ui-dialog-titlebar ui-widget-header ui-corner-all ' +\n",
       "        'ui-helper-clearfix\"/>');\n",
       "    var titletext = $(\n",
       "        '<div class=\"ui-dialog-title\" style=\"width: 100%; ' +\n",
       "        'text-align: center; padding: 3px;\"/>');\n",
       "    titlebar.append(titletext)\n",
       "    this.root.append(titlebar);\n",
       "    this.header = titletext[0];\n",
       "}\n",
       "\n",
       "\n",
       "\n",
       "mpl.figure.prototype._canvas_extra_style = function(canvas_div) {\n",
       "\n",
       "}\n",
       "\n",
       "\n",
       "mpl.figure.prototype._root_extra_style = function(canvas_div) {\n",
       "\n",
       "}\n",
       "\n",
       "mpl.figure.prototype._init_canvas = function() {\n",
       "    var fig = this;\n",
       "\n",
       "    var canvas_div = $('<div/>');\n",
       "\n",
       "    canvas_div.attr('style', 'position: relative; clear: both; outline: 0');\n",
       "\n",
       "    function canvas_keyboard_event(event) {\n",
       "        return fig.key_event(event, event['data']);\n",
       "    }\n",
       "\n",
       "    canvas_div.keydown('key_press', canvas_keyboard_event);\n",
       "    canvas_div.keyup('key_release', canvas_keyboard_event);\n",
       "    this.canvas_div = canvas_div\n",
       "    this._canvas_extra_style(canvas_div)\n",
       "    this.root.append(canvas_div);\n",
       "\n",
       "    var canvas = $('<canvas/>');\n",
       "    canvas.addClass('mpl-canvas');\n",
       "    canvas.attr('style', \"left: 0; top: 0; z-index: 0; outline: 0\")\n",
       "\n",
       "    this.canvas = canvas[0];\n",
       "    this.context = canvas[0].getContext(\"2d\");\n",
       "\n",
       "    var backingStore = this.context.backingStorePixelRatio ||\n",
       "\tthis.context.webkitBackingStorePixelRatio ||\n",
       "\tthis.context.mozBackingStorePixelRatio ||\n",
       "\tthis.context.msBackingStorePixelRatio ||\n",
       "\tthis.context.oBackingStorePixelRatio ||\n",
       "\tthis.context.backingStorePixelRatio || 1;\n",
       "\n",
       "    mpl.ratio = (window.devicePixelRatio || 1) / backingStore;\n",
       "\n",
       "    var rubberband = $('<canvas/>');\n",
       "    rubberband.attr('style', \"position: absolute; left: 0; top: 0; z-index: 1;\")\n",
       "\n",
       "    var pass_mouse_events = true;\n",
       "\n",
       "    canvas_div.resizable({\n",
       "        start: function(event, ui) {\n",
       "            pass_mouse_events = false;\n",
       "        },\n",
       "        resize: function(event, ui) {\n",
       "            fig.request_resize(ui.size.width, ui.size.height);\n",
       "        },\n",
       "        stop: function(event, ui) {\n",
       "            pass_mouse_events = true;\n",
       "            fig.request_resize(ui.size.width, ui.size.height);\n",
       "        },\n",
       "    });\n",
       "\n",
       "    function mouse_event_fn(event) {\n",
       "        if (pass_mouse_events)\n",
       "            return fig.mouse_event(event, event['data']);\n",
       "    }\n",
       "\n",
       "    rubberband.mousedown('button_press', mouse_event_fn);\n",
       "    rubberband.mouseup('button_release', mouse_event_fn);\n",
       "    // Throttle sequential mouse events to 1 every 20ms.\n",
       "    rubberband.mousemove('motion_notify', mouse_event_fn);\n",
       "\n",
       "    rubberband.mouseenter('figure_enter', mouse_event_fn);\n",
       "    rubberband.mouseleave('figure_leave', mouse_event_fn);\n",
       "\n",
       "    canvas_div.on(\"wheel\", function (event) {\n",
       "        event = event.originalEvent;\n",
       "        event['data'] = 'scroll'\n",
       "        if (event.deltaY < 0) {\n",
       "            event.step = 1;\n",
       "        } else {\n",
       "            event.step = -1;\n",
       "        }\n",
       "        mouse_event_fn(event);\n",
       "    });\n",
       "\n",
       "    canvas_div.append(canvas);\n",
       "    canvas_div.append(rubberband);\n",
       "\n",
       "    this.rubberband = rubberband;\n",
       "    this.rubberband_canvas = rubberband[0];\n",
       "    this.rubberband_context = rubberband[0].getContext(\"2d\");\n",
       "    this.rubberband_context.strokeStyle = \"#000000\";\n",
       "\n",
       "    this._resize_canvas = function(width, height) {\n",
       "        // Keep the size of the canvas, canvas container, and rubber band\n",
       "        // canvas in synch.\n",
       "        canvas_div.css('width', width)\n",
       "        canvas_div.css('height', height)\n",
       "\n",
       "        canvas.attr('width', width * mpl.ratio);\n",
       "        canvas.attr('height', height * mpl.ratio);\n",
       "        canvas.attr('style', 'width: ' + width + 'px; height: ' + height + 'px;');\n",
       "\n",
       "        rubberband.attr('width', width);\n",
       "        rubberband.attr('height', height);\n",
       "    }\n",
       "\n",
       "    // Set the figure to an initial 600x600px, this will subsequently be updated\n",
       "    // upon first draw.\n",
       "    this._resize_canvas(600, 600);\n",
       "\n",
       "    // Disable right mouse context menu.\n",
       "    $(this.rubberband_canvas).bind(\"contextmenu\",function(e){\n",
       "        return false;\n",
       "    });\n",
       "\n",
       "    function set_focus () {\n",
       "        canvas.focus();\n",
       "        canvas_div.focus();\n",
       "    }\n",
       "\n",
       "    window.setTimeout(set_focus, 100);\n",
       "}\n",
       "\n",
       "mpl.figure.prototype._init_toolbar = function() {\n",
       "    var fig = this;\n",
       "\n",
       "    var nav_element = $('<div/>')\n",
       "    nav_element.attr('style', 'width: 100%');\n",
       "    this.root.append(nav_element);\n",
       "\n",
       "    // Define a callback function for later on.\n",
       "    function toolbar_event(event) {\n",
       "        return fig.toolbar_button_onclick(event['data']);\n",
       "    }\n",
       "    function toolbar_mouse_event(event) {\n",
       "        return fig.toolbar_button_onmouseover(event['data']);\n",
       "    }\n",
       "\n",
       "    for(var toolbar_ind in mpl.toolbar_items) {\n",
       "        var name = mpl.toolbar_items[toolbar_ind][0];\n",
       "        var tooltip = mpl.toolbar_items[toolbar_ind][1];\n",
       "        var image = mpl.toolbar_items[toolbar_ind][2];\n",
       "        var method_name = mpl.toolbar_items[toolbar_ind][3];\n",
       "\n",
       "        if (!name) {\n",
       "            // put a spacer in here.\n",
       "            continue;\n",
       "        }\n",
       "        var button = $('<button/>');\n",
       "        button.addClass('ui-button ui-widget ui-state-default ui-corner-all ' +\n",
       "                        'ui-button-icon-only');\n",
       "        button.attr('role', 'button');\n",
       "        button.attr('aria-disabled', 'false');\n",
       "        button.click(method_name, toolbar_event);\n",
       "        button.mouseover(tooltip, toolbar_mouse_event);\n",
       "\n",
       "        var icon_img = $('<span/>');\n",
       "        icon_img.addClass('ui-button-icon-primary ui-icon');\n",
       "        icon_img.addClass(image);\n",
       "        icon_img.addClass('ui-corner-all');\n",
       "\n",
       "        var tooltip_span = $('<span/>');\n",
       "        tooltip_span.addClass('ui-button-text');\n",
       "        tooltip_span.html(tooltip);\n",
       "\n",
       "        button.append(icon_img);\n",
       "        button.append(tooltip_span);\n",
       "\n",
       "        nav_element.append(button);\n",
       "    }\n",
       "\n",
       "    var fmt_picker_span = $('<span/>');\n",
       "\n",
       "    var fmt_picker = $('<select/>');\n",
       "    fmt_picker.addClass('mpl-toolbar-option ui-widget ui-widget-content');\n",
       "    fmt_picker_span.append(fmt_picker);\n",
       "    nav_element.append(fmt_picker_span);\n",
       "    this.format_dropdown = fmt_picker[0];\n",
       "\n",
       "    for (var ind in mpl.extensions) {\n",
       "        var fmt = mpl.extensions[ind];\n",
       "        var option = $(\n",
       "            '<option/>', {selected: fmt === mpl.default_extension}).html(fmt);\n",
       "        fmt_picker.append(option)\n",
       "    }\n",
       "\n",
       "    // Add hover states to the ui-buttons\n",
       "    $( \".ui-button\" ).hover(\n",
       "        function() { $(this).addClass(\"ui-state-hover\");},\n",
       "        function() { $(this).removeClass(\"ui-state-hover\");}\n",
       "    );\n",
       "\n",
       "    var status_bar = $('<span class=\"mpl-message\"/>');\n",
       "    nav_element.append(status_bar);\n",
       "    this.message = status_bar[0];\n",
       "}\n",
       "\n",
       "mpl.figure.prototype.request_resize = function(x_pixels, y_pixels) {\n",
       "    // Request matplotlib to resize the figure. Matplotlib will then trigger a resize in the client,\n",
       "    // which will in turn request a refresh of the image.\n",
       "    this.send_message('resize', {'width': x_pixels, 'height': y_pixels});\n",
       "}\n",
       "\n",
       "mpl.figure.prototype.send_message = function(type, properties) {\n",
       "    properties['type'] = type;\n",
       "    properties['figure_id'] = this.id;\n",
       "    this.ws.send(JSON.stringify(properties));\n",
       "}\n",
       "\n",
       "mpl.figure.prototype.send_draw_message = function() {\n",
       "    if (!this.waiting) {\n",
       "        this.waiting = true;\n",
       "        this.ws.send(JSON.stringify({type: \"draw\", figure_id: this.id}));\n",
       "    }\n",
       "}\n",
       "\n",
       "\n",
       "mpl.figure.prototype.handle_save = function(fig, msg) {\n",
       "    var format_dropdown = fig.format_dropdown;\n",
       "    var format = format_dropdown.options[format_dropdown.selectedIndex].value;\n",
       "    fig.ondownload(fig, format);\n",
       "}\n",
       "\n",
       "\n",
       "mpl.figure.prototype.handle_resize = function(fig, msg) {\n",
       "    var size = msg['size'];\n",
       "    if (size[0] != fig.canvas.width || size[1] != fig.canvas.height) {\n",
       "        fig._resize_canvas(size[0], size[1]);\n",
       "        fig.send_message(\"refresh\", {});\n",
       "    };\n",
       "}\n",
       "\n",
       "mpl.figure.prototype.handle_rubberband = function(fig, msg) {\n",
       "    var x0 = msg['x0'] / mpl.ratio;\n",
       "    var y0 = (fig.canvas.height - msg['y0']) / mpl.ratio;\n",
       "    var x1 = msg['x1'] / mpl.ratio;\n",
       "    var y1 = (fig.canvas.height - msg['y1']) / mpl.ratio;\n",
       "    x0 = Math.floor(x0) + 0.5;\n",
       "    y0 = Math.floor(y0) + 0.5;\n",
       "    x1 = Math.floor(x1) + 0.5;\n",
       "    y1 = Math.floor(y1) + 0.5;\n",
       "    var min_x = Math.min(x0, x1);\n",
       "    var min_y = Math.min(y0, y1);\n",
       "    var width = Math.abs(x1 - x0);\n",
       "    var height = Math.abs(y1 - y0);\n",
       "\n",
       "    fig.rubberband_context.clearRect(\n",
       "        0, 0, fig.canvas.width, fig.canvas.height);\n",
       "\n",
       "    fig.rubberband_context.strokeRect(min_x, min_y, width, height);\n",
       "}\n",
       "\n",
       "mpl.figure.prototype.handle_figure_label = function(fig, msg) {\n",
       "    // Updates the figure title.\n",
       "    fig.header.textContent = msg['label'];\n",
       "}\n",
       "\n",
       "mpl.figure.prototype.handle_cursor = function(fig, msg) {\n",
       "    var cursor = msg['cursor'];\n",
       "    switch(cursor)\n",
       "    {\n",
       "    case 0:\n",
       "        cursor = 'pointer';\n",
       "        break;\n",
       "    case 1:\n",
       "        cursor = 'default';\n",
       "        break;\n",
       "    case 2:\n",
       "        cursor = 'crosshair';\n",
       "        break;\n",
       "    case 3:\n",
       "        cursor = 'move';\n",
       "        break;\n",
       "    }\n",
       "    fig.rubberband_canvas.style.cursor = cursor;\n",
       "}\n",
       "\n",
       "mpl.figure.prototype.handle_message = function(fig, msg) {\n",
       "    fig.message.textContent = msg['message'];\n",
       "}\n",
       "\n",
       "mpl.figure.prototype.handle_draw = function(fig, msg) {\n",
       "    // Request the server to send over a new figure.\n",
       "    fig.send_draw_message();\n",
       "}\n",
       "\n",
       "mpl.figure.prototype.handle_image_mode = function(fig, msg) {\n",
       "    fig.image_mode = msg['mode'];\n",
       "}\n",
       "\n",
       "mpl.figure.prototype.updated_canvas_event = function() {\n",
       "    // Called whenever the canvas gets updated.\n",
       "    this.send_message(\"ack\", {});\n",
       "}\n",
       "\n",
       "// A function to construct a web socket function for onmessage handling.\n",
       "// Called in the figure constructor.\n",
       "mpl.figure.prototype._make_on_message_function = function(fig) {\n",
       "    return function socket_on_message(evt) {\n",
       "        if (evt.data instanceof Blob) {\n",
       "            /* FIXME: We get \"Resource interpreted as Image but\n",
       "             * transferred with MIME type text/plain:\" errors on\n",
       "             * Chrome.  But how to set the MIME type?  It doesn't seem\n",
       "             * to be part of the websocket stream */\n",
       "            evt.data.type = \"image/png\";\n",
       "\n",
       "            /* Free the memory for the previous frames */\n",
       "            if (fig.imageObj.src) {\n",
       "                (window.URL || window.webkitURL).revokeObjectURL(\n",
       "                    fig.imageObj.src);\n",
       "            }\n",
       "\n",
       "            fig.imageObj.src = (window.URL || window.webkitURL).createObjectURL(\n",
       "                evt.data);\n",
       "            fig.updated_canvas_event();\n",
       "            fig.waiting = false;\n",
       "            return;\n",
       "        }\n",
       "        else if (typeof evt.data === 'string' && evt.data.slice(0, 21) == \"data:image/png;base64\") {\n",
       "            fig.imageObj.src = evt.data;\n",
       "            fig.updated_canvas_event();\n",
       "            fig.waiting = false;\n",
       "            return;\n",
       "        }\n",
       "\n",
       "        var msg = JSON.parse(evt.data);\n",
       "        var msg_type = msg['type'];\n",
       "\n",
       "        // Call the  \"handle_{type}\" callback, which takes\n",
       "        // the figure and JSON message as its only arguments.\n",
       "        try {\n",
       "            var callback = fig[\"handle_\" + msg_type];\n",
       "        } catch (e) {\n",
       "            console.log(\"No handler for the '\" + msg_type + \"' message type: \", msg);\n",
       "            return;\n",
       "        }\n",
       "\n",
       "        if (callback) {\n",
       "            try {\n",
       "                // console.log(\"Handling '\" + msg_type + \"' message: \", msg);\n",
       "                callback(fig, msg);\n",
       "            } catch (e) {\n",
       "                console.log(\"Exception inside the 'handler_\" + msg_type + \"' callback:\", e, e.stack, msg);\n",
       "            }\n",
       "        }\n",
       "    };\n",
       "}\n",
       "\n",
       "// from http://stackoverflow.com/questions/1114465/getting-mouse-location-in-canvas\n",
       "mpl.findpos = function(e) {\n",
       "    //this section is from http://www.quirksmode.org/js/events_properties.html\n",
       "    var targ;\n",
       "    if (!e)\n",
       "        e = window.event;\n",
       "    if (e.target)\n",
       "        targ = e.target;\n",
       "    else if (e.srcElement)\n",
       "        targ = e.srcElement;\n",
       "    if (targ.nodeType == 3) // defeat Safari bug\n",
       "        targ = targ.parentNode;\n",
       "\n",
       "    // jQuery normalizes the pageX and pageY\n",
       "    // pageX,Y are the mouse positions relative to the document\n",
       "    // offset() returns the position of the element relative to the document\n",
       "    var x = e.pageX - $(targ).offset().left;\n",
       "    var y = e.pageY - $(targ).offset().top;\n",
       "\n",
       "    return {\"x\": x, \"y\": y};\n",
       "};\n",
       "\n",
       "/*\n",
       " * return a copy of an object with only non-object keys\n",
       " * we need this to avoid circular references\n",
       " * http://stackoverflow.com/a/24161582/3208463\n",
       " */\n",
       "function simpleKeys (original) {\n",
       "  return Object.keys(original).reduce(function (obj, key) {\n",
       "    if (typeof original[key] !== 'object')\n",
       "        obj[key] = original[key]\n",
       "    return obj;\n",
       "  }, {});\n",
       "}\n",
       "\n",
       "mpl.figure.prototype.mouse_event = function(event, name) {\n",
       "    var canvas_pos = mpl.findpos(event)\n",
       "\n",
       "    if (name === 'button_press')\n",
       "    {\n",
       "        this.canvas.focus();\n",
       "        this.canvas_div.focus();\n",
       "    }\n",
       "\n",
       "    var x = canvas_pos.x * mpl.ratio;\n",
       "    var y = canvas_pos.y * mpl.ratio;\n",
       "\n",
       "    this.send_message(name, {x: x, y: y, button: event.button,\n",
       "                             step: event.step,\n",
       "                             guiEvent: simpleKeys(event)});\n",
       "\n",
       "    /* This prevents the web browser from automatically changing to\n",
       "     * the text insertion cursor when the button is pressed.  We want\n",
       "     * to control all of the cursor setting manually through the\n",
       "     * 'cursor' event from matplotlib */\n",
       "    event.preventDefault();\n",
       "    return false;\n",
       "}\n",
       "\n",
       "mpl.figure.prototype._key_event_extra = function(event, name) {\n",
       "    // Handle any extra behaviour associated with a key event\n",
       "}\n",
       "\n",
       "mpl.figure.prototype.key_event = function(event, name) {\n",
       "\n",
       "    // Prevent repeat events\n",
       "    if (name == 'key_press')\n",
       "    {\n",
       "        if (event.which === this._key)\n",
       "            return;\n",
       "        else\n",
       "            this._key = event.which;\n",
       "    }\n",
       "    if (name == 'key_release')\n",
       "        this._key = null;\n",
       "\n",
       "    var value = '';\n",
       "    if (event.ctrlKey && event.which != 17)\n",
       "        value += \"ctrl+\";\n",
       "    if (event.altKey && event.which != 18)\n",
       "        value += \"alt+\";\n",
       "    if (event.shiftKey && event.which != 16)\n",
       "        value += \"shift+\";\n",
       "\n",
       "    value += 'k';\n",
       "    value += event.which.toString();\n",
       "\n",
       "    this._key_event_extra(event, name);\n",
       "\n",
       "    this.send_message(name, {key: value,\n",
       "                             guiEvent: simpleKeys(event)});\n",
       "    return false;\n",
       "}\n",
       "\n",
       "mpl.figure.prototype.toolbar_button_onclick = function(name) {\n",
       "    if (name == 'download') {\n",
       "        this.handle_save(this, null);\n",
       "    } else {\n",
       "        this.send_message(\"toolbar_button\", {name: name});\n",
       "    }\n",
       "};\n",
       "\n",
       "mpl.figure.prototype.toolbar_button_onmouseover = function(tooltip) {\n",
       "    this.message.textContent = tooltip;\n",
       "};\n",
       "mpl.toolbar_items = [[\"Home\", \"Reset original view\", \"fa fa-home icon-home\", \"home\"], [\"Back\", \"Back to  previous view\", \"fa fa-arrow-left icon-arrow-left\", \"back\"], [\"Forward\", \"Forward to next view\", \"fa fa-arrow-right icon-arrow-right\", \"forward\"], [\"\", \"\", \"\", \"\"], [\"Pan\", \"Pan axes with left mouse, zoom with right\", \"fa fa-arrows icon-move\", \"pan\"], [\"Zoom\", \"Zoom to rectangle\", \"fa fa-square-o icon-check-empty\", \"zoom\"], [\"\", \"\", \"\", \"\"], [\"Download\", \"Download plot\", \"fa fa-floppy-o icon-save\", \"download\"]];\n",
       "\n",
       "mpl.extensions = [\"eps\", \"jpeg\", \"pdf\", \"png\", \"ps\", \"raw\", \"svg\", \"tif\"];\n",
       "\n",
       "mpl.default_extension = \"png\";var comm_websocket_adapter = function(comm) {\n",
       "    // Create a \"websocket\"-like object which calls the given IPython comm\n",
       "    // object with the appropriate methods. Currently this is a non binary\n",
       "    // socket, so there is still some room for performance tuning.\n",
       "    var ws = {};\n",
       "\n",
       "    ws.close = function() {\n",
       "        comm.close()\n",
       "    };\n",
       "    ws.send = function(m) {\n",
       "        //console.log('sending', m);\n",
       "        comm.send(m);\n",
       "    };\n",
       "    // Register the callback with on_msg.\n",
       "    comm.on_msg(function(msg) {\n",
       "        //console.log('receiving', msg['content']['data'], msg);\n",
       "        // Pass the mpl event to the overridden (by mpl) onmessage function.\n",
       "        ws.onmessage(msg['content']['data'])\n",
       "    });\n",
       "    return ws;\n",
       "}\n",
       "\n",
       "mpl.mpl_figure_comm = function(comm, msg) {\n",
       "    // This is the function which gets called when the mpl process\n",
       "    // starts-up an IPython Comm through the \"matplotlib\" channel.\n",
       "\n",
       "    var id = msg.content.data.id;\n",
       "    // Get hold of the div created by the display call when the Comm\n",
       "    // socket was opened in Python.\n",
       "    var element = $(\"#\" + id);\n",
       "    var ws_proxy = comm_websocket_adapter(comm)\n",
       "\n",
       "    function ondownload(figure, format) {\n",
       "        window.open(figure.imageObj.src);\n",
       "    }\n",
       "\n",
       "    var fig = new mpl.figure(id, ws_proxy,\n",
       "                           ondownload,\n",
       "                           element.get(0));\n",
       "\n",
       "    // Call onopen now - mpl needs it, as it is assuming we've passed it a real\n",
       "    // web socket which is closed, not our websocket->open comm proxy.\n",
       "    ws_proxy.onopen();\n",
       "\n",
       "    fig.parent_element = element.get(0);\n",
       "    fig.cell_info = mpl.find_output_cell(\"<div id='\" + id + \"'></div>\");\n",
       "    if (!fig.cell_info) {\n",
       "        console.error(\"Failed to find cell for figure\", id, fig);\n",
       "        return;\n",
       "    }\n",
       "\n",
       "    var output_index = fig.cell_info[2]\n",
       "    var cell = fig.cell_info[0];\n",
       "\n",
       "};\n",
       "\n",
       "mpl.figure.prototype.handle_close = function(fig, msg) {\n",
       "    var width = fig.canvas.width/mpl.ratio\n",
       "    fig.root.unbind('remove')\n",
       "\n",
       "    // Update the output cell to use the data from the current canvas.\n",
       "    fig.push_to_output();\n",
       "    var dataURL = fig.canvas.toDataURL();\n",
       "    // Re-enable the keyboard manager in IPython - without this line, in FF,\n",
       "    // the notebook keyboard shortcuts fail.\n",
       "    IPython.keyboard_manager.enable()\n",
       "    $(fig.parent_element).html('<img src=\"' + dataURL + '\" width=\"' + width + '\">');\n",
       "    fig.close_ws(fig, msg);\n",
       "}\n",
       "\n",
       "mpl.figure.prototype.close_ws = function(fig, msg){\n",
       "    fig.send_message('closing', msg);\n",
       "    // fig.ws.close()\n",
       "}\n",
       "\n",
       "mpl.figure.prototype.push_to_output = function(remove_interactive) {\n",
       "    // Turn the data on the canvas into data in the output cell.\n",
       "    var width = this.canvas.width/mpl.ratio\n",
       "    var dataURL = this.canvas.toDataURL();\n",
       "    this.cell_info[1]['text/html'] = '<img src=\"' + dataURL + '\" width=\"' + width + '\">';\n",
       "}\n",
       "\n",
       "mpl.figure.prototype.updated_canvas_event = function() {\n",
       "    // Tell IPython that the notebook contents must change.\n",
       "    IPython.notebook.set_dirty(true);\n",
       "    this.send_message(\"ack\", {});\n",
       "    var fig = this;\n",
       "    // Wait a second, then push the new image to the DOM so\n",
       "    // that it is saved nicely (might be nice to debounce this).\n",
       "    setTimeout(function () { fig.push_to_output() }, 1000);\n",
       "}\n",
       "\n",
       "mpl.figure.prototype._init_toolbar = function() {\n",
       "    var fig = this;\n",
       "\n",
       "    var nav_element = $('<div/>')\n",
       "    nav_element.attr('style', 'width: 100%');\n",
       "    this.root.append(nav_element);\n",
       "\n",
       "    // Define a callback function for later on.\n",
       "    function toolbar_event(event) {\n",
       "        return fig.toolbar_button_onclick(event['data']);\n",
       "    }\n",
       "    function toolbar_mouse_event(event) {\n",
       "        return fig.toolbar_button_onmouseover(event['data']);\n",
       "    }\n",
       "\n",
       "    for(var toolbar_ind in mpl.toolbar_items){\n",
       "        var name = mpl.toolbar_items[toolbar_ind][0];\n",
       "        var tooltip = mpl.toolbar_items[toolbar_ind][1];\n",
       "        var image = mpl.toolbar_items[toolbar_ind][2];\n",
       "        var method_name = mpl.toolbar_items[toolbar_ind][3];\n",
       "\n",
       "        if (!name) { continue; };\n",
       "\n",
       "        var button = $('<button class=\"btn btn-default\" href=\"#\" title=\"' + name + '\"><i class=\"fa ' + image + ' fa-lg\"></i></button>');\n",
       "        button.click(method_name, toolbar_event);\n",
       "        button.mouseover(tooltip, toolbar_mouse_event);\n",
       "        nav_element.append(button);\n",
       "    }\n",
       "\n",
       "    // Add the status bar.\n",
       "    var status_bar = $('<span class=\"mpl-message\" style=\"text-align:right; float: right;\"/>');\n",
       "    nav_element.append(status_bar);\n",
       "    this.message = status_bar[0];\n",
       "\n",
       "    // Add the close button to the window.\n",
       "    var buttongrp = $('<div class=\"btn-group inline pull-right\"></div>');\n",
       "    var button = $('<button class=\"btn btn-mini btn-primary\" href=\"#\" title=\"Stop Interaction\"><i class=\"fa fa-power-off icon-remove icon-large\"></i></button>');\n",
       "    button.click(function (evt) { fig.handle_close(fig, {}); } );\n",
       "    button.mouseover('Stop Interaction', toolbar_mouse_event);\n",
       "    buttongrp.append(button);\n",
       "    var titlebar = this.root.find($('.ui-dialog-titlebar'));\n",
       "    titlebar.prepend(buttongrp);\n",
       "}\n",
       "\n",
       "mpl.figure.prototype._root_extra_style = function(el){\n",
       "    var fig = this\n",
       "    el.on(\"remove\", function(){\n",
       "\tfig.close_ws(fig, {});\n",
       "    });\n",
       "}\n",
       "\n",
       "mpl.figure.prototype._canvas_extra_style = function(el){\n",
       "    // this is important to make the div 'focusable\n",
       "    el.attr('tabindex', 0)\n",
       "    // reach out to IPython and tell the keyboard manager to turn it's self\n",
       "    // off when our div gets focus\n",
       "\n",
       "    // location in version 3\n",
       "    if (IPython.notebook.keyboard_manager) {\n",
       "        IPython.notebook.keyboard_manager.register_events(el);\n",
       "    }\n",
       "    else {\n",
       "        // location in version 2\n",
       "        IPython.keyboard_manager.register_events(el);\n",
       "    }\n",
       "\n",
       "}\n",
       "\n",
       "mpl.figure.prototype._key_event_extra = function(event, name) {\n",
       "    var manager = IPython.notebook.keyboard_manager;\n",
       "    if (!manager)\n",
       "        manager = IPython.keyboard_manager;\n",
       "\n",
       "    // Check for shift+enter\n",
       "    if (event.shiftKey && event.which == 13) {\n",
       "        this.canvas_div.blur();\n",
       "        event.shiftKey = false;\n",
       "        // Send a \"J\" for go to next cell\n",
       "        event.which = 74;\n",
       "        event.keyCode = 74;\n",
       "        manager.command_mode();\n",
       "        manager.handle_keydown(event);\n",
       "    }\n",
       "}\n",
       "\n",
       "mpl.figure.prototype.handle_save = function(fig, msg) {\n",
       "    fig.ondownload(fig, null);\n",
       "}\n",
       "\n",
       "\n",
       "mpl.find_output_cell = function(html_output) {\n",
       "    // Return the cell and output element which can be found *uniquely* in the notebook.\n",
       "    // Note - this is a bit hacky, but it is done because the \"notebook_saving.Notebook\"\n",
       "    // IPython event is triggered only after the cells have been serialised, which for\n",
       "    // our purposes (turning an active figure into a static one), is too late.\n",
       "    var cells = IPython.notebook.get_cells();\n",
       "    var ncells = cells.length;\n",
       "    for (var i=0; i<ncells; i++) {\n",
       "        var cell = cells[i];\n",
       "        if (cell.cell_type === 'code'){\n",
       "            for (var j=0; j<cell.output_area.outputs.length; j++) {\n",
       "                var data = cell.output_area.outputs[j];\n",
       "                if (data.data) {\n",
       "                    // IPython >= 3 moved mimebundle to data attribute of output\n",
       "                    data = data.data;\n",
       "                }\n",
       "                if (data['text/html'] == html_output) {\n",
       "                    return [cell, data, j];\n",
       "                }\n",
       "            }\n",
       "        }\n",
       "    }\n",
       "}\n",
       "\n",
       "// Register the function which deals with the matplotlib target/channel.\n",
       "// The kernel may be null if the page has been refreshed.\n",
       "if (IPython.notebook.kernel != null) {\n",
       "    IPython.notebook.kernel.comm_manager.register_target('matplotlib', mpl.mpl_figure_comm);\n",
       "}\n"
      ],
      "text/plain": [
       "<IPython.core.display.Javascript object>"
      ]
     },
     "metadata": {},
     "output_type": "display_data"
    },
    {
     "data": {
      "text/html": [
       "<img src=\"data:image/png;base64,iVBORw0KGgoAAAANSUhEUgAAAbAAAAEgCAYAAADVKCZpAAAgAElEQVR4Xu2dCZRdVZWGPxJQDEEmQREokG4QIiAQpoADGGgGbSZBZkFAVAwoaaBBVGIQAWlGaRHCFFAEURRkxrQCttAmEURIKzS0BUFldGBQlKHX3+4Ll5eqN9R7VXXOvf9ZK6sq9e6wz7fvu//d5+y7z0K4mYAJmIAJmECGBBbK0GabbAImYAImYAJYwHwRmIAJmIAJZEnAApal22y0CZiACZiABczXgAmYgAmYQJYELGBZus1Gm4AJmIAJWMB8DZiACZiACWRJwAKWpdtstAmYgAmYgAXM14AJmIAJmECWBCxgWbrNRpuACZiACVjAfA2YgAmYgAlkScAClqXbbLQJmIAJmIAFzNeACZiACZhAlgQsYFm6zUabgAmYgAlYwHwNmIAJmIAJZEnAApal22y0CZiACZiABczXgAmYgAmYQJYELGBZus1Gm4AJmIAJWMB8DZiACZiACWRJwAKWpduG3eh3A+cBbx/2M/kEVSWwH3Ag8K4ed3AvYF/gn3p8XB8uQwIWsAyd1kOTfx03mR/08Ji9PtSSwKnAdsBiwG+B84GTgF8CXwYuaDjpp4B9gA3i71sDxwDrAX8B5gGnAFcPYOy02PZ54IXY9l+A23vdsR4fb3Pg68CKPT7uZ4CPAssCfwD+E9itjXP0QsBWAf4XWCR80cZpvUmdCFjA6uTtBfuamoAtPMCN6sIQro8BfwRWB9YCvg0cDUicdPMutznATOArwC4hcFOBK4CnAUWYe8eNuZGKBOwf43PdOI8PMXwr8HIHl8tAfelg94437VbABrJXkc5RwAeAB4C3ANsD57ZhnQWsDUjepDsCFrDu+OW+92AC1ngz1HZnAR8GVgZuiGEcRTNqusF9EdATs6KbjwN3x2e6AeoJfjng4Yhuvhuf6Sanz34ax/sq8NkGqPfE3743AGxFG7LtH4D++HxN4OeABOfJ+LuE7OQ2nVUWMO3yDkA2KAJZApgBvDPE7EbgkxGZaFvZcjagYS4NvypiPLzN/n8EeCqEUyJ9HPB64IgQYx1f/5egfih+F8fDgDHAE/G356KfOsbvgCPj/IpkZ4VvdJ4iutEw37Fh+3saGMnnikI/PQg78Sii45cAPWzoWC8CjQK2RjxQTAQeBz4HfCuO+4a4fvSwITt/AWwF/ApYCXg2ttPfxLU8NLkpcEY82NwHKPr+SWz/I+A24H3AOhFF7xms2rwcvFnKBCxgKXtn+G3rRMAeA3aMITgNI+mm8TVg/RC0fwYU+Siy+ULcaDQMt2sMO+lmqt813KcIR0OBuslprk03Yd34FfH8uaHb+nwS8G/Aj4H7Gz6/GbglboD66ARAIiZbddP8b2DVGIpqh2hZwCQYEubd40Yqu98G3Aq8EfgO8LPSDV48NcwmFhIU9aWd/kvELw5uekj4PqCI8b1xjuWBZ4DToy/i9jfg0hBXRaIDRWASHtkuYZBonBl271ESsEuATwASoEb28qX2EdMfAneGOBUc9VDxaNgqsb4mhnfPaRAwfabh3s8DOp/E5Kbo373Av8eDgoRf18nGwFxA/W4cQiwL49IRGR4KfDNY6yFIftLDiwRMArhtPDxdD9wRUWU714K3SZyABSxxBw2zeZ0ImCIjzbGoad5JN3BFWhIe3az1RF00PTkfFMLS2IW74in9qrjJTQf6mvRTT+cSuA/GjU+R1iGAbkZqusnq3HoyVySiPukpXNHJZiF6OkYRLbZCKgHTvI8imb+GQCgK0g21sUkkFXFobk1N51Z/Gufkyvs19l9zc6vFBmtH5KqhOgmDmm7EkyOqlIjp5q/hPDUJu0RMojqQgEm8p0Tkpe0lCA8B4qHoVeKg6PXBJlAkKooOdS4xVCR7IvDmOJYipkL4JIzy+xYNAqY5M9mhoduiSeR+E5GmIqxNoo9lUwaaAysLmOY5dS1sVNpJc5U69kUhYJrf1UOI2sExBLpNq4vAn+dBwAKWh5+Gy8pOBEzDNkWyRzlKuS5unrrZF+11wAHxVKyIQtGEbkZq4wHNZykRoxhClNC00ySaGpLUE7dET0Nh4+KpXVlp+l3DUho+lD3dRmCNNmkYVBGJbsSLh2D+Pp7yta14KppSVFi0Vv0vD4cpclCEWf5ezo8oSsNjEjXNAxZN240NpgMJmERYQ4CKroq2aIiWol0JmHylaK5V0/YS7G9EhKl+K5r5U2lHPUBomFjDrmWh0TCmRKQY3tQumnNTNKYHAPVLPCXQ5dZKwP41EnUU5RbtshiC1FCrIjA9dCmKV+vFvFwrTv58BAlYwEYQdoKn6oWA6WlXT/W6YTQ2zZfpxqsIQk/GmhtRBKK5Fd1UhnJDkQAqEUMZhkVUpIhH0YEiCz3N62lfTde3IjaJjoYg22mNc2DlfSS6EkkdX5GRbujqS5H518iz0/43EzDN6+gGr2jtkQE6ouFGiUs5C1GR8P4xhNu4y1Az/DRMrOE6RX6K3CQ8EsnGVvatIjPZoTmsxibRGywCEz8xLWchtorAxElJJkUEZgFr56rPdBsLWKaO65HZujlo/kPzG0XTzUjv7pRTshtvzOWbvIREw3WaZ1Eyhm7wigY0T6T5B80RKenhfyIJREkQGnpsV8A0PKikESVm6GanlHYlRujYxRO7bt5Xxo1OYjm71B/ZJeHRfJDmrLSPJv4VGWm4q7E1EzBFd4qAZL+G+fR/3WQHE7AJHfa/mYBp/k/zjhoGlIBqTnKFyMhUMomiTc1Rya4iStPQ6w6RICMhVyKK+q7h23YETGKhuTP5UiKjjE9xlhDJHh1H14Z8JK4ayhQLzUmWhUYiVyTjKEJSWzf20TCn5sBkv4YEFY1pSFDXjaJLPaxoTlMPQmrl4y4Tw6kaGpQvNMysBypx1LC2I7Ae3ShSPYwFLFXPjIxduvnoBlxuiqQ0VNiugGlfzSkoa07RgeZDdHPTE7duPjpekSSgRAVloWnoqF0B09ybEhE0ZChxVXaj5qiKTDOdX9ex5oWUNKKbXWOTfcV7YLJPiQOay7m2QwHT0Jj6oPk2CbL6IZEYTMB0+E7630rANPynRAjxeFNEYpqDVISppkhUgqUbv8RTCRESbg3ZalhVond58GtHwHaOBwYdS8eUCOr9OUU3aspC1HyYklYkUorI9H6eRKoxuhYzZSxKnPQgogcSDS0rIlfkrEQRDQUqwtZnEkv5SnOKun4UhcmPErrysKsetiTsYiefaP5T15+aBWxk7iOjdhYL2Kih94lNwARMwAS6IWAB64ae9zUBEzABExg1AhawUUPvE5uACZiACXRDwALWDT3vawImYAImMGoELGCjht4nNgETMAET6IaABawbet7XBEzABExg1AhUVsCWWWaZl1dZpSj+MGp8fWITMAETyIrA3Llz9Q6d3hlMvlVWwCZOnPjynDkqGuBmAiZgAibQLoGFFlpIFW6KtfTa3W1UtrOAjQp2n9QETMAE0iRgAUvAL47AEnCCTTABE8iOgAUsAZdZwBJwgk0wARPIjoAFLAGXWcAScIJNMAETyI6ABSwBl1nAEnCCTTABE8iOgAUsAZdZwBJwgk0wARPIjoAFLAGXWcAScIJNMAETyI6ABSwBl1nAEnCCTTABExhVAi9941KemzadcQ/ez3Orrsa4aZ9nzF57NrXJAjaqLvv7yS1gCTjBJpiACYwaAYnXk4cdwaGTpzB7xQlsOH8eZ846i2VOO7mpiFnARs1lr57YApaAE2yCCZjAqBF4ZrU1+OgG+3L7yuu8YsOk/ruZMWcm4+//5aB2WcBGzWUWsATQ2wQTMIEECLw0diyrT72SF8Yu/Io1C7/4AvedujNjXnzRApaAjwY1wRFYyt6xbSZgAsNNwBHYcBMexuNXWcCGMjE7jKh9aBMwgQQJeA5saE7ZBjgDGAucB5zYcJg+YCawZGxzFHAdsEhsvz6gmPdi4ITSvjqeyss/AnyglWlVFbChXpStePlzEzCB6hEYysNunefAJDL3AVsB84HZwB7AvNKlcS5wJ3A2MCHESwt3Kbdze2B3YFzssznw69h3apT4f2OdBWyowwLV+2q6RyZgAsNBoM4CNgmYBmwdYI+On+VI6hzgQeAkQNufAmwaQicR2wlYArgd2AR4ClgxorbjAQlZfSOwIU7MDseF7mOagAlUj0CdBWwXQEOIB4Zb9wE2BqaU3Lw8cBOwFLAYsCWgBdQ0hHgJMDkisMMARWtq347hxMWBw+ssYI7AqnfDcI9MICUCdRawXSP6KgvYRsAhJQcpgtJCmoq8FIGdD6wVvx8M7BfidhuwbQwzbgfoMw0pNhOwgwD9o6+vb2J/f39K10VPbPEcWE8w+iAmYAKDEKizgLUzhHhvRGkPBz8NJ2qo8FjgjojC9NEFwA3AeoAiuReARQHNgV0J7N3sCqxqEof6PJSJWX9bTcAETKAdAnUWMGUPKolDw4DKFlQSh+a1JFpFux64HLgIWBOYBawAHAmsAewfQ4jaVwkdd5f2bRWBvbJplQWsnYvQ25iACZjAUAjUWcDES8N9p0eKvKIoJV5MjxT4q2NIcAYwHng5hEtzYvr/hfG5hhj1+8kNDrCADeWK9D4mYAIm0CaBugtYm5iGdzNHYMPL10c3AROoJgELWAJ+tYAl4ASbYAImkB0BC1gCLhtpAXNiRQJOtwkmYAJdE7CAdY2w+wOMpIA5tb17f/kIJmACaRCwgCXgh5EUML9cnIDDbYIJmEBPCFjAeoKxu4OMpIANdd2d7nrovU3ABEyg9wQsYL1n2vERR1LAHIF17B7vYAImkCgBC1gCjhlJAfMcWAIOtwkmYAI9IWAB6wnG7g4ykgImS52F2J2/vLcJmEAaBCxgCfhhpAUsgS7bBBMwARPomoAFrGuE3R/AAtY9Qx/BBEygfgQsYAn43AKWgBNsggmYQHYELGAJuMwCloATbIIJmEB2BCxgCbjMApaAE2yCCZhAdgQsYAm4zAKWgBNsggmYQHYELGAJuMwCloATbIIJmEB2BCxgCbjMApaAE2yCCZhAdgQsYAm4zAKWgBNsggmYQHYELGAJuMwCloATbIIJmEB2BCxgCbjMApaAE2yCCZhAdgQsYAm4zAKWgBNsggmYQHYELGAJuMwCloATbIIJmEB2BCxgCbjMApaAE2yCCZhAdgQsYAm4zAKWgBNsggmYQHYE6i5g2wBnAGOB84ATGzzYB8wEloxtjgKuAxaJ7dcHFgYuBk4AVorf36Jlt4Bz4/hNLwwLWHbfGxtsAiaQAIE6C5hE6z5gK2A+MBvYA5hX8osE6E7gbGBCiNcqwJ7A9sDuwLjYZ3PgeWB54GfA4sBcYMeGYy7gdgtYAt8Em2ACJpAdgToL2CRgGrB1eO3o+KlIqmjnAA8CJwHa/hRg0xA6idhOwBLA7cAmwFMNV8BVwFnAzc2uDAtYdt8bG2wCJpAAgToL2C6AhhAPDD/sA2wMTCn5RdHUTcBSwGLAlhFVaQjxEmByRGCHxXBh2aWK1G4F1gL+ZAFL4Gq3CSZgApUiUGcB2zWir7KAbQQcUvLwVGChiLwUgZ0fgqTfDwb2C3G7Ddg2ojXtPh64BTgeuHKQK+YgQP/o6+ub2N/fX6kLy50xARMwgeEmUGcBa2cI8d6I0h4OR2g4UUOFxwJ3RBSmjy4AbgC+FQke1wA3Aqe240APIbZDyduYgAmYwGsJ1FnAlD2oJA4NAz4SSRya15JoFe164HLgImBNYBawAnAksAawfwwhKgFECR2/iKxFzYV9ut2LzQLWLilvZwImYAKvEshdwDYE9gbeHdl/fwbuAa4FLgWebuHs7YDTI0VeUZSG/KYDc4CrI/NwRgwJvhzCpTkxDRFeGJ9riFG/nwy8C9BwooRMafRqn4nsxUFNsYD5K2kCJmACnRPIWcA0TPckoEw/Cc5jwKLA6sAWwPuBLwPaLulmAUvaPTbOBEwgUQI5C9ibgUdbcF0uhC1R/H83ywKWtHtsnAmYQKIEchawRJF2bpYFrHNm3sMETMAEchawfSNhQl58a8xDaU5Mc2AHAPfn4l4LWC6esp0mYAIpEchZwFSuSbUI1S6Ll4ZV+knVMT4WLx2nxHpQWyxgWbjJRpqACSRGoCoCdhewbomt6heulxhrC1guDrGdJmACWRDIWcCUdfj1qJShqhpvA/4W1JXGvnYWHnASRy5usp0mYAKJEchZwDTPVW7fjWK6WspEJaD0snEWzUOIWbjJRpqACSRGIGcBSwzl0M2xgA2dnfc0AROoLwELWAK+t4Al4ASbYAImkB0BC1gCLrOAJeAEm2ACJpAdAQtYAi6zgCXgBJtgAiaQHYGqCNh7Y/2t4mdWjrCAZeUuG2sCJpAIgaoIWPFSc/nl5kQQtzbDAtaakbcwARMwgUYCVROwrF5gLpxhAfMX0wRMwAQ6J2AB65xZz/ewgPUcqQ9oAiZQAwIWsAScbAFLwAk2wQRMIDsCFrAEXGYBS8AJNsEETCA7AlURsP8ENgOKn1k5wgKWlbtsrAmYQCIEqiJgieAcmhkWsKFx814mYAL1JmABS8D/FrAEnGATTMAEsiNgAUvAZRawBJxgE0zABLIjYAFLwGUWsAScYBNMwASyI1AFATsEuAL4XXb0w2ALWK6es90mYAKjSaAKAnYcoBWZfwtcBnwHeKJNqNsAZwBjgfOAExv26wNmAkvGNkcB1wGLxPbrAwsDFwMnxL6tjrmAaRawNr3lzUzABEygRKAKAlZ0R2KyG7AT8CAgIWnWJFr3AVsB84HZwB7AvNJO5wIqT3U2MCHEaxVgT2B7YHdgXOyzOfBwG8e0gPkraAImYAI9IFAlAVsW2CVERb9LcJq1ScA0YOvY6Oj4WURS+u85IYYnAdr+FGDTEDqJmMRyCeB2YBPg7W0c0wLWgwvXhzABEzCBKgjYRyPyWjGGDy8H7m7DtRI7RWkHxrb7ABsDU0r7Lg/cBCwFLAZsCcyNIcRLgMkRgR0GKFpr55gWsDac401MwARMoBWBKgjYv8Xc15xWnW34XPNmir7KArYRoKSQok0FForISxHY+cBaEY0dDOwX4nYbsC0wsY1jFsc+CNA/+vr6Jvb393dovjc3ARMwgXoTqIKAbQj8N/BMuHLxGMprJWjtDCHeG1Ga5rbUNLemocJjgTsARWFqFwA3xBxYq2FJR2D1/s659yZgAj0iUAUBU5KFIp+XgsmYSMjQ35o1ZQ8qiUPDgI/EPprXkmgV7XpAQ5IXAWsCs4AVgCOBNYD9YwhRCSBK6FACSKtjWsB6dPH6MCZgAvUmUAUB+znwzgY3ag5snTZcux1weqTIK4o6HpgOKHq7OhJBZgDjgZdDuDQnpv9fGJ9riFG/nxznG+iYTU1xGn0bnvImJmACJtBAoAoC9j3gxkiikMh8IuahlOaeRbOAZeEmG2kCJpAYgSoI2JuBfwf0HpYE7IeRiPFoYqwHNccClounbKcJmEBKBKogYCnxHJItFrAhYfNOJmACNSeQs4CprJMqZPxxEB++J+aqVPop6WYBS9o9Ns4ETCBRAjkL2AeBI4A/xcvFjwOLAqtFVuItwBeB5IcSLWCJfjtslgmYQNIEchawAqzS2zcDVDXjz/FO2I+AZ5MmXzLOApaLp2ynCZhASgSqIGAFz9cDz6cEt11bLGDtkvJ2JmACJvAqgSoImMo/qcSTiupq+RO9E6byUOWSUEn73AKWtHtsnAmYQKIEqiBgKumkZVT0Pth6wfmeqFmYKPbXmmUBy8JNNtIETCAxAlUQsJ8CisJUUqoQsIGqcySG/lVzLGDJusaGmYAJJEygCgKmFZi1XtfXABX21dChkjpUbT6LZgHLwk020gRMIDECVRCw5YAzY60u4f1BrOn1RGKsBzXHApaLp2ynCZhASgRyF7CxwCdDwFLi2pEtFrCOcHljEzABE/h/ArkLmPqgF5bfm7M/LWA5e8+2m4AJjBaBKgiYqm1oEcvLGl5e1pIqWTQLWBZuspEmYAKJEaiCgN02AFNVpVctxCyaBSwLN9lIEzCBxAhUQcASQ9q5ORawzpl5DxMwAROogoBp+PBzpYirKOL7dC7utYDl4inbaQImkBKBKgjYFcB9wMwAuw+gAr+7pAS6mS0WsFw8ZTtNwARSIlAFAbsLWLcB6kB/S4n7a2yxgCXrGhtmAiaQMIEqCJhqIR4G3B6cNwFOB/Qzi2YBy8JNNtIETCAxAlUQsPWBSwAtp6KmNcE+HLURE8M9sDkWsCzcZCNNwAQSI1AFASuQLq0Xs4EnE2Pc0hwLWEtE3sAETMAEFiBQBQE7DjgF+EP0bing08CxufjbApaLp2ynCZhASgSqIGDlZVQKtj8DNLTYqm0DnAGopuJ5wIkNO2iBTGU3LhnbHAVcB+wFHFHadp04n5JH9gA+A+hl6t8AewNNCwtbwFq5yZ+bgAmYwIIEqiBgKhm1AfDX6N6iwJw2FrSUaCn9fitgPjA7xGdeCdO5MZd2NjAhxGuVBoxrA1cBqwILh2hpW4nWl4HngGnNLj4LmL+aJmACJtA5gSoImKKdrYELIuo5ALgBOKEFjkkhLNpX7ej4Wd7vHODBWG9M22uoctOG434pznsMsEgImAT1IUDCp2hQQjhos4B1fuF6DxMwAROogoDJix8orQd2M3BtG67Vi84aQjwwttUL0BvHWmLF7ssDNwGaV1sszjG34dgPADsA98TfdVyJ6bPA/cAWwIsWsDY84k1MwARMoAMCVREwdVlZiFqJWZHPz9tgoBWbFX2VBWyjWNG52H1qZDYq8lIEdn4MTb4UG0jwNHemYUQ1RWCK/g6KyO0rwO8AVcxvbNpG/+jr65vY39/fhsnexARMwARMoCCQs4B9D/hsRD5viaE6CZfmqL4KSDyatXaGEO+NKO3hOJCGE/WC9GPx/9OAxwENI6ptGIkgk+P/qoivxI/tmhniIUR/IU3ABEygcwI5C5jE5R3RZc1fKXFCw4BvBH4MKDOwWVPChZI4JDaPRBLHnoCOW7TrgcuBi6K+4ixghZjzGhPRnkRKwqb2VkBDjDq3hE0p/uOAf7GAdX5xeg8TMAETaEYgZwEr1zv8QQzvfTM6224tREVGKjuljETNWx0PTI8sxqtDFGcA40O0jow5MZ1m84i2GktWfRz4FPA3QOOC+7V6udoRmL+kJmACJtA5gZwFTIka10QK/MWRxv57QGn0yvxTRJZFs4Bl4SYbaQImkBiBnAVM815KjlCm4FmAhvvU3hdzUSclxnpQcyxguXjKdpqACaREIGcBS4ljV7ZYwLrC551NwARqSsACloDjLWAJOMEmmIAJZEfAApaAyyxgCTjBJpiACWRHoAoCpixALWpZbgP9LVnnWMCSdY0NMwETSJhAFQRsoMrzehdrYsLcX2OaBSwXT9lOEzCBlAjkLGAq+6RqGocDJ5eg6kXmD7XxInMyfrCAJeMKG2ICJpARgZwFTEVylTKvWoaqR1i0p2N5k1/l4gcLWC6esp0mYAIpEchZwAqOWodLpZxeDzyfEtx2bbGAtUvK25mACZjAqwSqIGAaSlSV+CVU2B14Z0Rlh+TiaAtYLp6ynSZgAikRqIKAKQNxN0DV6dcLuFqba62UQDezxQKWi6dspwmYQEoEqiBgPwUUhd1ZEjAtq6JILItmAcvCTTbSBEwgMQJVELDvAKp7+LWogaihQy1sqQUrs2gWsCzcZCNNwAQSI1AFAVsOOBPYMthqaZUpwBOJsR7UHAtYLp6ynSZgAikRqIKApcRzSLZYwIaEzTuZgAnUnEAVBOwEQP+ei/XBlMhxGHBpLr61gOXiKdtpAiaQEoEqCFix+vKOwAeBqYCGEZ3EkdKVZltMwARMoMcEqiBgRcr8uZFKfx1QiFqPcQ3P4RyBDQ9XH9UETKDaBKogYKqDuC3wIrBBvNB8LbBxLq6zgOXiKdtpAiaQEoGcBay8ZIoyEZ8CXgDGh4g9khLoZrZYwHLxlO00ARNIiUDOAjbQMiopsW3bFgtY26i8oQmYgAm8QsAClsDFYAFLwAk2wQRMIDsCOQvYH4BbmxDfPhdvWMBy8ZTtNAETSIlAzgJ2f1SdH4znLSmB9hxYLt6wnSZgArkQyFnAejEHtg1wBjA2FsU8scFxWp5lJrBkbHMUoDT9vYAjStuuA6wf6fuvA84CNgdeAo4BVK9x0OYILJevi+00ARNIiUDOAnYlsHMXMCVa9wFbAfOB2cAewLzSMfVumarcnw1MCPFapeGca8cK0FpYU+0LIXafBcYAS7eqy2gB68KL3tUETKC2BHIWsG6dNgmYBmwdBzo6fqosVdHOidWeVe1e258CbNpw4i8BL0ekpY8eBtYAnm3XQAtYu6S8nQmYgAm8SqDOArYLoCHEAwPHPvHysyrZF2154CZgKWCxqHg/t+ECegDYAVBFEA01/gK4IoYQ9ZmO92izi84C5q+kCZiACXROoM4CpvXCFH2VBUwLY2o9saKpruJCEXkpAjs/VnrW3Jaaqn2cB2gYUe1NwOOAxFHzXtpfxYUljo3tIED/6Ovrm9jf39+597yHCZiACdSYQBUETMkTje2PgBRBlTkGa+0MId4bUZqGBdUeBFQB5LH4/2khWBpGVJPYPQMsHgkcKwE3AO9odo05AqvxN9BdNwETGDKBKgjYHZEBeHcIyFqAfl8G+HgMAQ4EaOFI4pgMqOyUkjj2BCRaRbseuBy4CFgTmAWsEHNeStB4CHhPCFuxz2WAkj/+A9gPeH+r1aEtYEO+fr2jCZhAjQlUQcAkGMeVhEfZgkpx19+UqbhuE/9uB5weWYMXAMcD04E5wNWReTgj6isqUePIkiAqTV5p94rIym1l4JKYD9Nw4kdC6AY1wwJW42+gu24CJjBkAlUQsIGWTin+lsWyKhawIV+/3tEETKDGBKogYBriUyV6RWJqu0UyhRInfgxsmLp/LWCpe8j2mYAJpEigCgL2BuBg4F0xBybR+irwF2BcJFWkyP4VmyxgSbvHxpmACUYoQfwAAA6iSURBVCRKoAoCtlNUyHg+UcYtzbKAtUTkDUzABExgAQJVELALgfdFZXoNI97YIn0+ucvAApacS2yQCZhABgSqIGDCvAiwbcx/aSjx5haV6pNyjQUsKXfYGBMwgUwIVEXAChFTaSilrb8bWDYTH2ABy8VTttMETCAlAlUQMInW7sAWwI/ixWPVL2xWhSMlH1jAkvKGjTEBE8iFQBUETPNe+qeqGVkmcjgCy+XrYjtNwARSIlAFAWvkuVmUhPpkSqCb2WIBy8VTttMETCAlAlURMJWLUh3DDwH/GyWkvpISaAtYLt6wnSZgArkQyFnAVo+5L62i/GTMfR0OqBZhVs0RWFbusrEmYAKJEMhZwLQm123AAcD/BE8td7JqImzbNsMC1jYqb2gCJmACrxDIWcBUgUPZh5vGmltK5NDikm/Lzb8WsNw8ZntNwARSIJCzgBX8FgN2BDSUqIocM4HvNlkHLAXur7HBApacS2yQCZhABgSqIGBlzEvH4pGqSC8xy6JZwLJwk400ARNIjEDVBCwxvO2ZYwFrj5O3MgETMIEyAQtYAteDBSwBJ9gEEzCB7AhYwBJwmQUsASfYBBMwgewIWMAScJkFLAEn2AQTMIHsCFjAEnCZBSwBJ9gEEzCB7AhYwBJwmQUsASfYBBMwgewIWMAScJkFLAEn2AQTMIHsCFjAEnCZBSwBJ9gEEzCB7AjUXcC0GOYZwNgoQ3Vigwf7orLHkrHNUcB1wF7AEaVt1wHWB+4q/e3qqMu4VqurwgLWipA/NwETMIEFCdRZwCRa9wFbAfOB2VGOal4J07nAncDZwIQQr1UaMK4NXNVQRHhnYBdAwmYB8zfPBEzABIaBQJ0FbBIwDdg6uB4dP08ocT4HUIX7kwBtf0oUDy674kvAy8Ax8cfxUVz4IOBbFrBhuGp9SBMwARMA6ixgipA0hHhgXAn7ABsDU0pXxvJRFHgpQEWDtwTmNlw5DwA7APfE308Dbo3I7RoLmL9nJmACJjA8BOosYLtG9FUWsI2AQ0qop0rkI/JSBHZ+CJLWIlOT4GkJFw0jqmll6OOAfwY01NhMwBSh6R99fX0T+/v7h8fDPqoJmIAJVJRAnQWsnSHEeyNKezj8r+HETYDHStHW44CGEdU+AXwO+CuwMLAc8BNg82bXj5M4KvrtcrdMwASGlUCdBUwCoySOycAjkcSxJyDRKtr1wOXARcCawCxghZjzGgM8BLwn5skaHdUqAntlewvYsF7jPrgJmEBFCdRZwOTS7YDTI0X+AuB4YDowB1AavDIPZwBKzFCixpGlhTIVVSntXhHZQM0CVtEvjbtlAiaQBoG6C1gSXnAEloQbbIQJmEBmBCxgCTjMApaAE2yCCZhAdgQsYAm4zAKWgBNsggmYQHYELGAJuMwCloATbIIJmEB2BCxgCbjMApaAE2yCCZhAdgQsYAm4zAKWgBNsggmYQHYELGAJuMwCloATbIIJmEB2BCxgCbjMApaAE2yCCZhAdgQsYAm4zAKWgBNsggmYQHYELGAJuMwCloATbIIJmEB2BCxgCbjMApaAE2yCCZhAdgQsYAm4zAKWgBNsggmYQHYELGAJuGykBOylb1zKc9OmM+7B+3lu1dUYN+3zjNlLBfjdTMAETCA/AhawBHw2EgIm8XrysCM4dPIUZq84gQ3nz+PMWWexzGknW8QSuAZsggmYQOcELGCdM+v5HiMhYM+stgYf3WBfbl95nVfsn9R/NzPmzGT8/b/seZ98QBMwARMYbgIWsOEm3MbxR0LAXho7ltWnXskLY7WO59/bwi++wH2n7syYF19sw0pvYgImYAJpEbCAJeCPkRAwR2AJONommIAJ9JSABaynOId2sJEQMM+BDc033ssETCBdAhawBHwzEgKmbjoLMQFn2wQTMIGeEbCA9Qzl0A80UgI2dAu9pwmYgAmkR8ACloBPLGAJOMEmmIAJZEfAApaAyyxgCTjBJpiACWRHwAKWgMssYAk4wSaYgAlkR8ACloDLLGAJOMEmmIAJZEeg7gK2DXAGMBY4DzixwYN9wExgydjmKOA6YC/giNK2Km+xPnAfcAXwD4DeDv4+oH2aNgtYK0L+3ARMwAQWJFBnAZNoSXC2AuYDs4E9gHklTOcCdwJnAxNCvFZpwLg2cBWwKjAO2Bj4IfA6YBbwJeD6ZhefBcxfTRMwARPonECdBWwSMA3YOrAdHT9PKGE8B3gQOAnQ9qcAmzZglkC9DBwzAH5Fd/cAMyxgnV+c3sMETMAEmhGos4DtAmgI8cAAtE9ET1NKwJYHbgKWAhYDtgTmNgB9ANghhKr8kYYdfxb7SAQHbY7A/CU1ARMwgc4J1FnAdo3oqyxgGwGHlDBOBRaKyEsR2PnAWipqEdtouFBzZxpGLDdVzNX8143A6YO45SBA/+jr65vY39/fufe8hwmYgAnUmECdBaydIcR7I0p7OK4RRVKbAI/F/08DHo95rvJldAHwDHBoO9eWI7B2KHkbEzABE3gtgToLmKIkJXFMBh6JJA4tTyzRKpqSLy4HLgLWjKSMFWLOawzwEPCemCcr9vlibKsIr4jUml53FjB/LU3ABEygcwJ1FjDR2i6G+JSRqKjpeGA6MAe4OjIPlYAxPkTryJgT076bR9q9IrKirQgoWtMKkc/HH8+KYcZBvWMB6/zC9R4mYAImUHcBS+IKsIAl4QYbYQImkBkBC1gaDtM82khlcbwJeCKNbo+IFXXqr/s6IpfUiJ+kTn4V3E76uzKw7Ih7ZAgnVDagW/cENDy6QfeHyeYIdeqv+5rNZdmRoXXyq8BUsr8WsI6u+UE3ruTF0QRNnfrrvvbmO5LaUerkVwtYaldfYvb4y5CYQ3poTp1867728MJJ7FCV9K0jsN5cZXp5WjUe69Lq1F/3tZpXdZ38Kg9Wsr8WsGp+Od0rEzABE6g8AQtY5V3sDpqACZhANQlYwLr3a6v1z7o/QxpHWAm4GHhLVEPRkKlWBqhy08v4mjtQVZkPVLmjsT6fapCqLqlWgtgfuL2ifT4sCo6rn78APgL8pUJ9VQEJXa8qzyd/qi0dFZC0dNWvgQ8Bv8+9zxaw7jzYzvpn3Z0hnb21ioD+aTWAxWMFgR0b1npLx9reWKLC03o94o01EDAtMntbVLjRuntah+8PvcGY1FFUtu7HURHoz8C3Yk1ClbarSlMpPtWN1QNnIWBfBp6KSkdaEFirgfxr7h22gHXnwXaKF3d3hnT31oKjKul1c7omdmWZSpjppq5SaBKyKkdgEuifxwKyikqq3CRgdwDvBP4EfA84s1TOrip9V6R1TUnAfhWl+n4bD6I/At6ee2ctYN15sJ31z7o7Q5p768txa3w5dBOoYvs2oIVYFW0eXnEBWzeyaLVyum7sWp/vU8CzVXRs9E0PJorAtDbhXhXsZ6OAKZrWeopF0/ChorCsmwWsO/e1s/5Zd2dIb28VYb4lIpMr0zOvJxYp2lJR6oPjqbXqAqZhUkUlmwH/FXObejD5XE9opnUQ3bS/A+wWQ6RXAHpY+XpaZnZtjQWsa4TVP0DdhhAXiWEJLSp6aoXdq8hLq4m/ACwac2AS670r2mcl5kjAdNNTezegeZL3V7C/euhU4tUB0bcPx3qEelipUvMQYpW8OUx9aWf9s2E69YgfVtG65oQ0EfzpET/76J1QS/xUPQITXSVwaCV1zZVMAxYDjhg97MN2Zq34riy9DWMIUckbyjT9yrCdcXQO3ChgJwNPlpI4lJWopayybh5C7N59A61/1v1R0zvCu+Imp7TjYlHRz0QGV3rW9s6iugiY5sGURq8MRK2SrtTy7NOsB7kMvhBDiIqw7wzhLtYa7N2VM3pH+mYMfasC/aPAsZGsoozLvlg0WJGoHkazbhawrN1n403ABEygvgQsYPX1vXtuAiZgAlkTsIBl7T4bbwImYAL1JWABq6/v3XMTMAETyJqABSxr99l4EzABE6gvAQtYfX3vnpuACZhA1gQsYFm7z8YPAwHViNOLzHpZu2h67231qMwx2ClVPFVVSoarLRsvkSvN/dB4paE4l14wPw74IKB08Ocidfr64TLGxzWBFAhYwFLwgm1IicDHojKD3oMqmqpU6KVevew7WgK2O7AtsO8ABpwYBVq16q4E7M3Ae6PSekpsbYsJ9JSABaynOH2wChBYBvgloGr0EoOicPHKUZ1CVfhVT09Rz2cB/V+tiMAaX3xWxX5VelDFh4lRgkuR2hPAfoCqg5ebzqNKEYq4Ho8XilU14WrgDbE2mUqYqRCtmpY9eRh4W1RXr4AL3AUTaI+ABaw9Tt6qXgSujersEifVBJSoKQJT6TAJhgrdqsqBIrPVYgHIVgL2jSiCvEMIk4rJbh0LR5bpfj+Ky6pslxaV3B7QumsSOxXdndLginWixNd69XKRe2sCYAHzVWACCxJQ0V4Vst0DuCuERAt5Kuo6DdCCgSqnpfWUFPn8ro0ITFHYT6JMk86oxVAVff1Tw+kVmWnh0L/F+bSNxNIC5ivVBBoIWMB8SZjAggQ0xKd6gKparrpyxcJ/EhHNQ0ngJDBaml1DhvpZRGCqGakakaqRqab6gloBWGtsnQto+K9ZaxSw38Rw4mACVgwhaqjzaTvTBOpEwAJWJ2+7r50QUOFTZR5qxV5VZ1fTIo//CBwCbAH8R0RgZQFbKZI9JHpaikURnIrHXgpowUgt03J7RFc6/r0NRmmuS2tUXRJRl4Ycd2oSgWl3LRevOTMloPw1IrjJFVzjqhP/edsaELCA1cDJ7uKQCEg0tAbYmpHUoYNoKE9zVBpKlDBpAUhFZGUBKwRFwnN/CIpESUkcqviu5euXiPm004EZDdYpklISh85VJHE81ELAlFr/RWBn4C+xkvLnG14FGBIE72QCKROwgKXsHdtmAiZgAiYwKAELmC8OEzABEzCBLAlYwLJ0m402ARMwAROwgPkaMAETMAETyJKABSxLt9loEzABEzABC5ivARMwARMwgSwJWMCydJuNNgETMAET+D9WteDGXeoniwAAAABJRU5ErkJggg==\" width=\"432\">"
      ],
      "text/plain": [
       "<IPython.core.display.HTML object>"
      ]
     },
     "metadata": {},
     "output_type": "display_data"
    },
    {
     "data": {
      "text/plain": [
       "<matplotlib.collections.PathCollection at 0x19f47d556d8>"
      ]
     },
     "execution_count": 49,
     "metadata": {},
     "output_type": "execute_result"
    },
    {
     "data": {
      "text/plain": [
       "Text(0.5,0,'Value of C')"
      ]
     },
     "execution_count": 49,
     "metadata": {},
     "output_type": "execute_result"
    },
    {
     "data": {
      "text/plain": [
       "Text(0,0.5,'Avg Tset Score(cv = 5) ')"
      ]
     },
     "execution_count": 49,
     "metadata": {},
     "output_type": "execute_result"
    },
    {
     "data": {
      "text/plain": [
       "Text(0.5,1,'Linear SVC Parameter Selection')"
      ]
     },
     "execution_count": 49,
     "metadata": {},
     "output_type": "execute_result"
    }
   ],
   "source": [
    "%matplotlib notebook \n",
    "plt.scatter(svc_lin_C_param_grid['C'],grid_svc_lin_C.cv_results_['mean_test_score'],edgecolors = 'r')\n",
    "plt.xlabel('Value of C')\n",
    "plt.ylabel('Avg Tset Score(cv = 5) ')\n",
    "plt.title('Linear SVC Parameter Selection')\n",
    "plt.show()"
   ]
  },
  {
   "cell_type": "code",
   "execution_count": 50,
   "metadata": {},
   "outputs": [],
   "source": [
    "y_svc_lin_C_predict = grid_svc_lin_C.predict(X_test_C)\n",
    "y_svc_lin_C_train_predict = grid_svc_lin_C.predict(X_train_C)"
   ]
  },
  {
   "cell_type": "code",
   "execution_count": 51,
   "metadata": {},
   "outputs": [
    {
     "data": {
      "text/plain": [
       "[<matplotlib.lines.Line2D at 0x19f47ddbb70>]"
      ]
     },
     "execution_count": 51,
     "metadata": {},
     "output_type": "execute_result"
    },
    {
     "data": {
      "text/plain": [
       "Text(0.5,0,'FPR')"
      ]
     },
     "execution_count": 51,
     "metadata": {},
     "output_type": "execute_result"
    },
    {
     "data": {
      "text/plain": [
       "Text(0,0.5,'TPR (recall)')"
      ]
     },
     "execution_count": 51,
     "metadata": {},
     "output_type": "execute_result"
    },
    {
     "data": {
      "text/plain": [
       "[<matplotlib.lines.Line2D at 0x19f47de7358>]"
      ]
     },
     "execution_count": 51,
     "metadata": {},
     "output_type": "execute_result"
    },
    {
     "data": {
      "text/plain": [
       "<matplotlib.legend.Legend at 0x19f47de75c0>"
      ]
     },
     "execution_count": 51,
     "metadata": {},
     "output_type": "execute_result"
    },
    {
     "data": {
      "image/png": "[encoded data removed]",
      "text/plain": [
       "<Figure size 432x288 with 1 Axes>"
      ]
     },
     "metadata": {},
     "output_type": "display_data"
    }
   ],
   "source": [
    "%matplotlib inline\n",
    "from sklearn.metrics import roc_curve\n",
    "\n",
    "lin_svc_fpr, lin_svc_tpr, lin_svc_thresholds = roc_curve(y_test_C, grid_svc_lin_C.decision_function(X_test_C))\n",
    "\n",
    "plt.plot(lin_svc_fpr, lin_svc_tpr, label=\"linear_svc_ROC Curve\")\n",
    "plt.xlabel(\"FPR\")\n",
    "plt.ylabel(\"TPR (recall)\")\n",
    "\n",
    "lin_svc_close_zero = np.argmin(np.abs(lin_svc_thresholds))\n",
    "plt.plot(lin_svc_fpr[lin_svc_close_zero], lin_svc_tpr[lin_svc_close_zero], 'o', markersize=10,\n",
    "         label=\"threshold zero\", fillstyle=\"none\", c='k', mew=2)\n",
    "plt.legend(loc=4)"
   ]
  },
  {
   "cell_type": "code",
   "execution_count": 52,
   "metadata": {},
   "outputs": [
    {
     "data": {
      "text/plain": [
       "[['Linear SVC',\n",
       "  {'C': 10},\n",
       "  0.885875829401109,\n",
       "  0.8864521418323428,\n",
       "  0.7570390961833616,\n",
       "  0.7790003210311764]]"
      ]
     },
     "execution_count": 52,
     "metadata": {},
     "output_type": "execute_result"
    }
   ],
   "source": [
    "report_table_svc_lin_C = [['Linear SVC',grid_svc_lin_C.best_params_, grid_svc_lin_C.score(X_train_C, y_train_C), grid_svc_lin_C.score(X_test_C, y_test_C), roc_auc_score(y_svc_lin_C_train_predict, y_train_C), roc_auc_score(y_svc_lin_C_predict, y_test_C) ]]\n",
    "report_table_svc_lin_C"
   ]
  },
  {
   "cell_type": "markdown",
   "metadata": {},
   "source": [
    "##### Linear Kernelized SVM"
   ]
  },
  {
   "cell_type": "code",
   "execution_count": 53,
   "metadata": {},
   "outputs": [
    {
     "data": {
      "text/plain": [
       "GridSearchCV(cv=5, error_score='raise',\n",
       "       estimator=SVC(C=1.0, cache_size=200, class_weight=None, coef0=0.0,\n",
       "  decision_function_shape='ovr', degree=3, gamma='auto', kernel='linear',\n",
       "  max_iter=-1, probability=False, random_state=None, shrinking=True,\n",
       "  tol=0.001, verbose=False),\n",
       "       fit_params=None, iid=True, n_jobs=1,\n",
       "       param_grid={'C': [0.01, 0.1, 1, 10, 100, 1000]},\n",
       "       pre_dispatch='2*n_jobs', refit=True, return_train_score='warn',\n",
       "       scoring='roc_auc', verbose=0)"
      ]
     },
     "execution_count": 53,
     "metadata": {},
     "output_type": "execute_result"
    }
   ],
   "source": [
    "from sklearn.svm import SVC\n",
    "\n",
    "svc_l_C = SVC(kernel='linear')\n",
    "svc_l_C_param_grid = {'C': [0.01, 0.1, 1, 10, 100, 1000]}\n",
    "\n",
    "grid_svc_l_C = GridSearchCV(svc_l_C, svc_l_C_param_grid, cv = 5, scoring='roc_auc')\n",
    "\n",
    "grid_svc_l_C.fit(X_train_C, y_train_C)"
   ]
  },
  {
   "cell_type": "code",
   "execution_count": 54,
   "metadata": {},
   "outputs": [
    {
     "data": {
      "text/plain": [
       "{'C': 0.1}"
      ]
     },
     "execution_count": 54,
     "metadata": {},
     "output_type": "execute_result"
    },
    {
     "data": {
      "text/plain": [
       "array([0.88420116, 0.88428003, 0.88331173, 0.88302455, 0.8829296 ,\n",
       "       0.88282698])"
      ]
     },
     "execution_count": 54,
     "metadata": {},
     "output_type": "execute_result"
    },
    {
     "data": {
      "text/plain": [
       "array([0.88276073, 0.88287529, 0.88266508, 0.88197865, 0.88190787,\n",
       "       0.88191481])"
      ]
     },
     "execution_count": 54,
     "metadata": {},
     "output_type": "execute_result"
    }
   ],
   "source": [
    "grid_svc_l_C.best_params_\n",
    "grid_svc_l_C.cv_results_['mean_train_score']\n",
    "grid_svc_l_C.cv_results_['mean_test_score']"
   ]
  },
  {
   "cell_type": "code",
   "execution_count": 55,
   "metadata": {},
   "outputs": [
    {
     "data": {
      "application/javascript": [
       "/* Put everything inside the global mpl namespace */\n",
       "window.mpl = {};\n",
       "\n",
       "\n",
       "mpl.get_websocket_type = function() {\n",
       "    if (typeof(WebSocket) !== 'undefined') {\n",
       "        return WebSocket;\n",
       "    } else if (typeof(MozWebSocket) !== 'undefined') {\n",
       "        return MozWebSocket;\n",
       "    } else {\n",
       "        alert('Your browser does not have WebSocket support.' +\n",
       "              'Please try Chrome, Safari or Firefox ≥ 6. ' +\n",
       "              'Firefox 4 and 5 are also supported but you ' +\n",
       "              'have to enable WebSockets in about:config.');\n",
       "    };\n",
       "}\n",
       "\n",
       "mpl.figure = function(figure_id, websocket, ondownload, parent_element) {\n",
       "    this.id = figure_id;\n",
       "\n",
       "    this.ws = websocket;\n",
       "\n",
       "    this.supports_binary = (this.ws.binaryType != undefined);\n",
       "\n",
       "    if (!this.supports_binary) {\n",
       "        var warnings = document.getElementById(\"mpl-warnings\");\n",
       "        if (warnings) {\n",
       "            warnings.style.display = 'block';\n",
       "            warnings.textContent = (\n",
       "                \"This browser does not support binary websocket messages. \" +\n",
       "                    \"Performance may be slow.\");\n",
       "        }\n",
       "    }\n",
       "\n",
       "    this.imageObj = new Image();\n",
       "\n",
       "    this.context = undefined;\n",
       "    this.message = undefined;\n",
       "    this.canvas = undefined;\n",
       "    this.rubberband_canvas = undefined;\n",
       "    this.rubberband_context = undefined;\n",
       "    this.format_dropdown = undefined;\n",
       "\n",
       "    this.image_mode = 'full';\n",
       "\n",
       "    this.root = $('<div/>');\n",
       "    this._root_extra_style(this.root)\n",
       "    this.root.attr('style', 'display: inline-block');\n",
       "\n",
       "    $(parent_element).append(this.root);\n",
       "\n",
       "    this._init_header(this);\n",
       "    this._init_canvas(this);\n",
       "    this._init_toolbar(this);\n",
       "\n",
       "    var fig = this;\n",
       "\n",
       "    this.waiting = false;\n",
       "\n",
       "    this.ws.onopen =  function () {\n",
       "            fig.send_message(\"supports_binary\", {value: fig.supports_binary});\n",
       "            fig.send_message(\"send_image_mode\", {});\n",
       "            if (mpl.ratio != 1) {\n",
       "                fig.send_message(\"set_dpi_ratio\", {'dpi_ratio': mpl.ratio});\n",
       "            }\n",
       "            fig.send_message(\"refresh\", {});\n",
       "        }\n",
       "\n",
       "    this.imageObj.onload = function() {\n",
       "            if (fig.image_mode == 'full') {\n",
       "                // Full images could contain transparency (where diff images\n",
       "                // almost always do), so we need to clear the canvas so that\n",
       "                // there is no ghosting.\n",
       "                fig.context.clearRect(0, 0, fig.canvas.width, fig.canvas.height);\n",
       "            }\n",
       "            fig.context.drawImage(fig.imageObj, 0, 0);\n",
       "        };\n",
       "\n",
       "    this.imageObj.onunload = function() {\n",
       "        fig.ws.close();\n",
       "    }\n",
       "\n",
       "    this.ws.onmessage = this._make_on_message_function(this);\n",
       "\n",
       "    this.ondownload = ondownload;\n",
       "}\n",
       "\n",
       "mpl.figure.prototype._init_header = function() {\n",
       "    var titlebar = $(\n",
       "        '<div class=\"ui-dialog-titlebar ui-widget-header ui-corner-all ' +\n",
       "        'ui-helper-clearfix\"/>');\n",
       "    var titletext = $(\n",
       "        '<div class=\"ui-dialog-title\" style=\"width: 100%; ' +\n",
       "        'text-align: center; padding: 3px;\"/>');\n",
       "    titlebar.append(titletext)\n",
       "    this.root.append(titlebar);\n",
       "    this.header = titletext[0];\n",
       "}\n",
       "\n",
       "\n",
       "\n",
       "mpl.figure.prototype._canvas_extra_style = function(canvas_div) {\n",
       "\n",
       "}\n",
       "\n",
       "\n",
       "mpl.figure.prototype._root_extra_style = function(canvas_div) {\n",
       "\n",
       "}\n",
       "\n",
       "mpl.figure.prototype._init_canvas = function() {\n",
       "    var fig = this;\n",
       "\n",
       "    var canvas_div = $('<div/>');\n",
       "\n",
       "    canvas_div.attr('style', 'position: relative; clear: both; outline: 0');\n",
       "\n",
       "    function canvas_keyboard_event(event) {\n",
       "        return fig.key_event(event, event['data']);\n",
       "    }\n",
       "\n",
       "    canvas_div.keydown('key_press', canvas_keyboard_event);\n",
       "    canvas_div.keyup('key_release', canvas_keyboard_event);\n",
       "    this.canvas_div = canvas_div\n",
       "    this._canvas_extra_style(canvas_div)\n",
       "    this.root.append(canvas_div);\n",
       "\n",
       "    var canvas = $('<canvas/>');\n",
       "    canvas.addClass('mpl-canvas');\n",
       "    canvas.attr('style', \"left: 0; top: 0; z-index: 0; outline: 0\")\n",
       "\n",
       "    this.canvas = canvas[0];\n",
       "    this.context = canvas[0].getContext(\"2d\");\n",
       "\n",
       "    var backingStore = this.context.backingStorePixelRatio ||\n",
       "\tthis.context.webkitBackingStorePixelRatio ||\n",
       "\tthis.context.mozBackingStorePixelRatio ||\n",
       "\tthis.context.msBackingStorePixelRatio ||\n",
       "\tthis.context.oBackingStorePixelRatio ||\n",
       "\tthis.context.backingStorePixelRatio || 1;\n",
       "\n",
       "    mpl.ratio = (window.devicePixelRatio || 1) / backingStore;\n",
       "\n",
       "    var rubberband = $('<canvas/>');\n",
       "    rubberband.attr('style', \"position: absolute; left: 0; top: 0; z-index: 1;\")\n",
       "\n",
       "    var pass_mouse_events = true;\n",
       "\n",
       "    canvas_div.resizable({\n",
       "        start: function(event, ui) {\n",
       "            pass_mouse_events = false;\n",
       "        },\n",
       "        resize: function(event, ui) {\n",
       "            fig.request_resize(ui.size.width, ui.size.height);\n",
       "        },\n",
       "        stop: function(event, ui) {\n",
       "            pass_mouse_events = true;\n",
       "            fig.request_resize(ui.size.width, ui.size.height);\n",
       "        },\n",
       "    });\n",
       "\n",
       "    function mouse_event_fn(event) {\n",
       "        if (pass_mouse_events)\n",
       "            return fig.mouse_event(event, event['data']);\n",
       "    }\n",
       "\n",
       "    rubberband.mousedown('button_press', mouse_event_fn);\n",
       "    rubberband.mouseup('button_release', mouse_event_fn);\n",
       "    // Throttle sequential mouse events to 1 every 20ms.\n",
       "    rubberband.mousemove('motion_notify', mouse_event_fn);\n",
       "\n",
       "    rubberband.mouseenter('figure_enter', mouse_event_fn);\n",
       "    rubberband.mouseleave('figure_leave', mouse_event_fn);\n",
       "\n",
       "    canvas_div.on(\"wheel\", function (event) {\n",
       "        event = event.originalEvent;\n",
       "        event['data'] = 'scroll'\n",
       "        if (event.deltaY < 0) {\n",
       "            event.step = 1;\n",
       "        } else {\n",
       "            event.step = -1;\n",
       "        }\n",
       "        mouse_event_fn(event);\n",
       "    });\n",
       "\n",
       "    canvas_div.append(canvas);\n",
       "    canvas_div.append(rubberband);\n",
       "\n",
       "    this.rubberband = rubberband;\n",
       "    this.rubberband_canvas = rubberband[0];\n",
       "    this.rubberband_context = rubberband[0].getContext(\"2d\");\n",
       "    this.rubberband_context.strokeStyle = \"#000000\";\n",
       "\n",
       "    this._resize_canvas = function(width, height) {\n",
       "        // Keep the size of the canvas, canvas container, and rubber band\n",
       "        // canvas in synch.\n",
       "        canvas_div.css('width', width)\n",
       "        canvas_div.css('height', height)\n",
       "\n",
       "        canvas.attr('width', width * mpl.ratio);\n",
       "        canvas.attr('height', height * mpl.ratio);\n",
       "        canvas.attr('style', 'width: ' + width + 'px; height: ' + height + 'px;');\n",
       "\n",
       "        rubberband.attr('width', width);\n",
       "        rubberband.attr('height', height);\n",
       "    }\n",
       "\n",
       "    // Set the figure to an initial 600x600px, this will subsequently be updated\n",
       "    // upon first draw.\n",
       "    this._resize_canvas(600, 600);\n",
       "\n",
       "    // Disable right mouse context menu.\n",
       "    $(this.rubberband_canvas).bind(\"contextmenu\",function(e){\n",
       "        return false;\n",
       "    });\n",
       "\n",
       "    function set_focus () {\n",
       "        canvas.focus();\n",
       "        canvas_div.focus();\n",
       "    }\n",
       "\n",
       "    window.setTimeout(set_focus, 100);\n",
       "}\n",
       "\n",
       "mpl.figure.prototype._init_toolbar = function() {\n",
       "    var fig = this;\n",
       "\n",
       "    var nav_element = $('<div/>')\n",
       "    nav_element.attr('style', 'width: 100%');\n",
       "    this.root.append(nav_element);\n",
       "\n",
       "    // Define a callback function for later on.\n",
       "    function toolbar_event(event) {\n",
       "        return fig.toolbar_button_onclick(event['data']);\n",
       "    }\n",
       "    function toolbar_mouse_event(event) {\n",
       "        return fig.toolbar_button_onmouseover(event['data']);\n",
       "    }\n",
       "\n",
       "    for(var toolbar_ind in mpl.toolbar_items) {\n",
       "        var name = mpl.toolbar_items[toolbar_ind][0];\n",
       "        var tooltip = mpl.toolbar_items[toolbar_ind][1];\n",
       "        var image = mpl.toolbar_items[toolbar_ind][2];\n",
       "        var method_name = mpl.toolbar_items[toolbar_ind][3];\n",
       "\n",
       "        if (!name) {\n",
       "            // put a spacer in here.\n",
       "            continue;\n",
       "        }\n",
       "        var button = $('<button/>');\n",
       "        button.addClass('ui-button ui-widget ui-state-default ui-corner-all ' +\n",
       "                        'ui-button-icon-only');\n",
       "        button.attr('role', 'button');\n",
       "        button.attr('aria-disabled', 'false');\n",
       "        button.click(method_name, toolbar_event);\n",
       "        button.mouseover(tooltip, toolbar_mouse_event);\n",
       "\n",
       "        var icon_img = $('<span/>');\n",
       "        icon_img.addClass('ui-button-icon-primary ui-icon');\n",
       "        icon_img.addClass(image);\n",
       "        icon_img.addClass('ui-corner-all');\n",
       "\n",
       "        var tooltip_span = $('<span/>');\n",
       "        tooltip_span.addClass('ui-button-text');\n",
       "        tooltip_span.html(tooltip);\n",
       "\n",
       "        button.append(icon_img);\n",
       "        button.append(tooltip_span);\n",
       "\n",
       "        nav_element.append(button);\n",
       "    }\n",
       "\n",
       "    var fmt_picker_span = $('<span/>');\n",
       "\n",
       "    var fmt_picker = $('<select/>');\n",
       "    fmt_picker.addClass('mpl-toolbar-option ui-widget ui-widget-content');\n",
       "    fmt_picker_span.append(fmt_picker);\n",
       "    nav_element.append(fmt_picker_span);\n",
       "    this.format_dropdown = fmt_picker[0];\n",
       "\n",
       "    for (var ind in mpl.extensions) {\n",
       "        var fmt = mpl.extensions[ind];\n",
       "        var option = $(\n",
       "            '<option/>', {selected: fmt === mpl.default_extension}).html(fmt);\n",
       "        fmt_picker.append(option)\n",
       "    }\n",
       "\n",
       "    // Add hover states to the ui-buttons\n",
       "    $( \".ui-button\" ).hover(\n",
       "        function() { $(this).addClass(\"ui-state-hover\");},\n",
       "        function() { $(this).removeClass(\"ui-state-hover\");}\n",
       "    );\n",
       "\n",
       "    var status_bar = $('<span class=\"mpl-message\"/>');\n",
       "    nav_element.append(status_bar);\n",
       "    this.message = status_bar[0];\n",
       "}\n",
       "\n",
       "mpl.figure.prototype.request_resize = function(x_pixels, y_pixels) {\n",
       "    // Request matplotlib to resize the figure. Matplotlib will then trigger a resize in the client,\n",
       "    // which will in turn request a refresh of the image.\n",
       "    this.send_message('resize', {'width': x_pixels, 'height': y_pixels});\n",
       "}\n",
       "\n",
       "mpl.figure.prototype.send_message = function(type, properties) {\n",
       "    properties['type'] = type;\n",
       "    properties['figure_id'] = this.id;\n",
       "    this.ws.send(JSON.stringify(properties));\n",
       "}\n",
       "\n",
       "mpl.figure.prototype.send_draw_message = function() {\n",
       "    if (!this.waiting) {\n",
       "        this.waiting = true;\n",
       "        this.ws.send(JSON.stringify({type: \"draw\", figure_id: this.id}));\n",
       "    }\n",
       "}\n",
       "\n",
       "\n",
       "mpl.figure.prototype.handle_save = function(fig, msg) {\n",
       "    var format_dropdown = fig.format_dropdown;\n",
       "    var format = format_dropdown.options[format_dropdown.selectedIndex].value;\n",
       "    fig.ondownload(fig, format);\n",
       "}\n",
       "\n",
       "\n",
       "mpl.figure.prototype.handle_resize = function(fig, msg) {\n",
       "    var size = msg['size'];\n",
       "    if (size[0] != fig.canvas.width || size[1] != fig.canvas.height) {\n",
       "        fig._resize_canvas(size[0], size[1]);\n",
       "        fig.send_message(\"refresh\", {});\n",
       "    };\n",
       "}\n",
       "\n",
       "mpl.figure.prototype.handle_rubberband = function(fig, msg) {\n",
       "    var x0 = msg['x0'] / mpl.ratio;\n",
       "    var y0 = (fig.canvas.height - msg['y0']) / mpl.ratio;\n",
       "    var x1 = msg['x1'] / mpl.ratio;\n",
       "    var y1 = (fig.canvas.height - msg['y1']) / mpl.ratio;\n",
       "    x0 = Math.floor(x0) + 0.5;\n",
       "    y0 = Math.floor(y0) + 0.5;\n",
       "    x1 = Math.floor(x1) + 0.5;\n",
       "    y1 = Math.floor(y1) + 0.5;\n",
       "    var min_x = Math.min(x0, x1);\n",
       "    var min_y = Math.min(y0, y1);\n",
       "    var width = Math.abs(x1 - x0);\n",
       "    var height = Math.abs(y1 - y0);\n",
       "\n",
       "    fig.rubberband_context.clearRect(\n",
       "        0, 0, fig.canvas.width, fig.canvas.height);\n",
       "\n",
       "    fig.rubberband_context.strokeRect(min_x, min_y, width, height);\n",
       "}\n",
       "\n",
       "mpl.figure.prototype.handle_figure_label = function(fig, msg) {\n",
       "    // Updates the figure title.\n",
       "    fig.header.textContent = msg['label'];\n",
       "}\n",
       "\n",
       "mpl.figure.prototype.handle_cursor = function(fig, msg) {\n",
       "    var cursor = msg['cursor'];\n",
       "    switch(cursor)\n",
       "    {\n",
       "    case 0:\n",
       "        cursor = 'pointer';\n",
       "        break;\n",
       "    case 1:\n",
       "        cursor = 'default';\n",
       "        break;\n",
       "    case 2:\n",
       "        cursor = 'crosshair';\n",
       "        break;\n",
       "    case 3:\n",
       "        cursor = 'move';\n",
       "        break;\n",
       "    }\n",
       "    fig.rubberband_canvas.style.cursor = cursor;\n",
       "}\n",
       "\n",
       "mpl.figure.prototype.handle_message = function(fig, msg) {\n",
       "    fig.message.textContent = msg['message'];\n",
       "}\n",
       "\n",
       "mpl.figure.prototype.handle_draw = function(fig, msg) {\n",
       "    // Request the server to send over a new figure.\n",
       "    fig.send_draw_message();\n",
       "}\n",
       "\n",
       "mpl.figure.prototype.handle_image_mode = function(fig, msg) {\n",
       "    fig.image_mode = msg['mode'];\n",
       "}\n",
       "\n",
       "mpl.figure.prototype.updated_canvas_event = function() {\n",
       "    // Called whenever the canvas gets updated.\n",
       "    this.send_message(\"ack\", {});\n",
       "}\n",
       "\n",
       "// A function to construct a web socket function for onmessage handling.\n",
       "// Called in the figure constructor.\n",
       "mpl.figure.prototype._make_on_message_function = function(fig) {\n",
       "    return function socket_on_message(evt) {\n",
       "        if (evt.data instanceof Blob) {\n",
       "            /* FIXME: We get \"Resource interpreted as Image but\n",
       "             * transferred with MIME type text/plain:\" errors on\n",
       "             * Chrome.  But how to set the MIME type?  It doesn't seem\n",
       "             * to be part of the websocket stream */\n",
       "            evt.data.type = \"image/png\";\n",
       "\n",
       "            /* Free the memory for the previous frames */\n",
       "            if (fig.imageObj.src) {\n",
       "                (window.URL || window.webkitURL).revokeObjectURL(\n",
       "                    fig.imageObj.src);\n",
       "            }\n",
       "\n",
       "            fig.imageObj.src = (window.URL || window.webkitURL).createObjectURL(\n",
       "                evt.data);\n",
       "            fig.updated_canvas_event();\n",
       "            fig.waiting = false;\n",
       "            return;\n",
       "        }\n",
       "        else if (typeof evt.data === 'string' && evt.data.slice(0, 21) == \"data:image/png;base64\") {\n",
       "            fig.imageObj.src = evt.data;\n",
       "            fig.updated_canvas_event();\n",
       "            fig.waiting = false;\n",
       "            return;\n",
       "        }\n",
       "\n",
       "        var msg = JSON.parse(evt.data);\n",
       "        var msg_type = msg['type'];\n",
       "\n",
       "        // Call the  \"handle_{type}\" callback, which takes\n",
       "        // the figure and JSON message as its only arguments.\n",
       "        try {\n",
       "            var callback = fig[\"handle_\" + msg_type];\n",
       "        } catch (e) {\n",
       "            console.log(\"No handler for the '\" + msg_type + \"' message type: \", msg);\n",
       "            return;\n",
       "        }\n",
       "\n",
       "        if (callback) {\n",
       "            try {\n",
       "                // console.log(\"Handling '\" + msg_type + \"' message: \", msg);\n",
       "                callback(fig, msg);\n",
       "            } catch (e) {\n",
       "                console.log(\"Exception inside the 'handler_\" + msg_type + \"' callback:\", e, e.stack, msg);\n",
       "            }\n",
       "        }\n",
       "    };\n",
       "}\n",
       "\n",
       "// from http://stackoverflow.com/questions/1114465/getting-mouse-location-in-canvas\n",
       "mpl.findpos = function(e) {\n",
       "    //this section is from http://www.quirksmode.org/js/events_properties.html\n",
       "    var targ;\n",
       "    if (!e)\n",
       "        e = window.event;\n",
       "    if (e.target)\n",
       "        targ = e.target;\n",
       "    else if (e.srcElement)\n",
       "        targ = e.srcElement;\n",
       "    if (targ.nodeType == 3) // defeat Safari bug\n",
       "        targ = targ.parentNode;\n",
       "\n",
       "    // jQuery normalizes the pageX and pageY\n",
       "    // pageX,Y are the mouse positions relative to the document\n",
       "    // offset() returns the position of the element relative to the document\n",
       "    var x = e.pageX - $(targ).offset().left;\n",
       "    var y = e.pageY - $(targ).offset().top;\n",
       "\n",
       "    return {\"x\": x, \"y\": y};\n",
       "};\n",
       "\n",
       "/*\n",
       " * return a copy of an object with only non-object keys\n",
       " * we need this to avoid circular references\n",
       " * http://stackoverflow.com/a/24161582/3208463\n",
       " */\n",
       "function simpleKeys (original) {\n",
       "  return Object.keys(original).reduce(function (obj, key) {\n",
       "    if (typeof original[key] !== 'object')\n",
       "        obj[key] = original[key]\n",
       "    return obj;\n",
       "  }, {});\n",
       "}\n",
       "\n",
       "mpl.figure.prototype.mouse_event = function(event, name) {\n",
       "    var canvas_pos = mpl.findpos(event)\n",
       "\n",
       "    if (name === 'button_press')\n",
       "    {\n",
       "        this.canvas.focus();\n",
       "        this.canvas_div.focus();\n",
       "    }\n",
       "\n",
       "    var x = canvas_pos.x * mpl.ratio;\n",
       "    var y = canvas_pos.y * mpl.ratio;\n",
       "\n",
       "    this.send_message(name, {x: x, y: y, button: event.button,\n",
       "                             step: event.step,\n",
       "                             guiEvent: simpleKeys(event)});\n",
       "\n",
       "    /* This prevents the web browser from automatically changing to\n",
       "     * the text insertion cursor when the button is pressed.  We want\n",
       "     * to control all of the cursor setting manually through the\n",
       "     * 'cursor' event from matplotlib */\n",
       "    event.preventDefault();\n",
       "    return false;\n",
       "}\n",
       "\n",
       "mpl.figure.prototype._key_event_extra = function(event, name) {\n",
       "    // Handle any extra behaviour associated with a key event\n",
       "}\n",
       "\n",
       "mpl.figure.prototype.key_event = function(event, name) {\n",
       "\n",
       "    // Prevent repeat events\n",
       "    if (name == 'key_press')\n",
       "    {\n",
       "        if (event.which === this._key)\n",
       "            return;\n",
       "        else\n",
       "            this._key = event.which;\n",
       "    }\n",
       "    if (name == 'key_release')\n",
       "        this._key = null;\n",
       "\n",
       "    var value = '';\n",
       "    if (event.ctrlKey && event.which != 17)\n",
       "        value += \"ctrl+\";\n",
       "    if (event.altKey && event.which != 18)\n",
       "        value += \"alt+\";\n",
       "    if (event.shiftKey && event.which != 16)\n",
       "        value += \"shift+\";\n",
       "\n",
       "    value += 'k';\n",
       "    value += event.which.toString();\n",
       "\n",
       "    this._key_event_extra(event, name);\n",
       "\n",
       "    this.send_message(name, {key: value,\n",
       "                             guiEvent: simpleKeys(event)});\n",
       "    return false;\n",
       "}\n",
       "\n",
       "mpl.figure.prototype.toolbar_button_onclick = function(name) {\n",
       "    if (name == 'download') {\n",
       "        this.handle_save(this, null);\n",
       "    } else {\n",
       "        this.send_message(\"toolbar_button\", {name: name});\n",
       "    }\n",
       "};\n",
       "\n",
       "mpl.figure.prototype.toolbar_button_onmouseover = function(tooltip) {\n",
       "    this.message.textContent = tooltip;\n",
       "};\n",
       "mpl.toolbar_items = [[\"Home\", \"Reset original view\", \"fa fa-home icon-home\", \"home\"], [\"Back\", \"Back to  previous view\", \"fa fa-arrow-left icon-arrow-left\", \"back\"], [\"Forward\", \"Forward to next view\", \"fa fa-arrow-right icon-arrow-right\", \"forward\"], [\"\", \"\", \"\", \"\"], [\"Pan\", \"Pan axes with left mouse, zoom with right\", \"fa fa-arrows icon-move\", \"pan\"], [\"Zoom\", \"Zoom to rectangle\", \"fa fa-square-o icon-check-empty\", \"zoom\"], [\"\", \"\", \"\", \"\"], [\"Download\", \"Download plot\", \"fa fa-floppy-o icon-save\", \"download\"]];\n",
       "\n",
       "mpl.extensions = [\"eps\", \"jpeg\", \"pdf\", \"png\", \"ps\", \"raw\", \"svg\", \"tif\"];\n",
       "\n",
       "mpl.default_extension = \"png\";var comm_websocket_adapter = function(comm) {\n",
       "    // Create a \"websocket\"-like object which calls the given IPython comm\n",
       "    // object with the appropriate methods. Currently this is a non binary\n",
       "    // socket, so there is still some room for performance tuning.\n",
       "    var ws = {};\n",
       "\n",
       "    ws.close = function() {\n",
       "        comm.close()\n",
       "    };\n",
       "    ws.send = function(m) {\n",
       "        //console.log('sending', m);\n",
       "        comm.send(m);\n",
       "    };\n",
       "    // Register the callback with on_msg.\n",
       "    comm.on_msg(function(msg) {\n",
       "        //console.log('receiving', msg['content']['data'], msg);\n",
       "        // Pass the mpl event to the overridden (by mpl) onmessage function.\n",
       "        ws.onmessage(msg['content']['data'])\n",
       "    });\n",
       "    return ws;\n",
       "}\n",
       "\n",
       "mpl.mpl_figure_comm = function(comm, msg) {\n",
       "    // This is the function which gets called when the mpl process\n",
       "    // starts-up an IPython Comm through the \"matplotlib\" channel.\n",
       "\n",
       "    var id = msg.content.data.id;\n",
       "    // Get hold of the div created by the display call when the Comm\n",
       "    // socket was opened in Python.\n",
       "    var element = $(\"#\" + id);\n",
       "    var ws_proxy = comm_websocket_adapter(comm)\n",
       "\n",
       "    function ondownload(figure, format) {\n",
       "        window.open(figure.imageObj.src);\n",
       "    }\n",
       "\n",
       "    var fig = new mpl.figure(id, ws_proxy,\n",
       "                           ondownload,\n",
       "                           element.get(0));\n",
       "\n",
       "    // Call onopen now - mpl needs it, as it is assuming we've passed it a real\n",
       "    // web socket which is closed, not our websocket->open comm proxy.\n",
       "    ws_proxy.onopen();\n",
       "\n",
       "    fig.parent_element = element.get(0);\n",
       "    fig.cell_info = mpl.find_output_cell(\"<div id='\" + id + \"'></div>\");\n",
       "    if (!fig.cell_info) {\n",
       "        console.error(\"Failed to find cell for figure\", id, fig);\n",
       "        return;\n",
       "    }\n",
       "\n",
       "    var output_index = fig.cell_info[2]\n",
       "    var cell = fig.cell_info[0];\n",
       "\n",
       "};\n",
       "\n",
       "mpl.figure.prototype.handle_close = function(fig, msg) {\n",
       "    var width = fig.canvas.width/mpl.ratio\n",
       "    fig.root.unbind('remove')\n",
       "\n",
       "    // Update the output cell to use the data from the current canvas.\n",
       "    fig.push_to_output();\n",
       "    var dataURL = fig.canvas.toDataURL();\n",
       "    // Re-enable the keyboard manager in IPython - without this line, in FF,\n",
       "    // the notebook keyboard shortcuts fail.\n",
       "    IPython.keyboard_manager.enable()\n",
       "    $(fig.parent_element).html('<img src=\"' + dataURL + '\" width=\"' + width + '\">');\n",
       "    fig.close_ws(fig, msg);\n",
       "}\n",
       "\n",
       "mpl.figure.prototype.close_ws = function(fig, msg){\n",
       "    fig.send_message('closing', msg);\n",
       "    // fig.ws.close()\n",
       "}\n",
       "\n",
       "mpl.figure.prototype.push_to_output = function(remove_interactive) {\n",
       "    // Turn the data on the canvas into data in the output cell.\n",
       "    var width = this.canvas.width/mpl.ratio\n",
       "    var dataURL = this.canvas.toDataURL();\n",
       "    this.cell_info[1]['text/html'] = '<img src=\"' + dataURL + '\" width=\"' + width + '\">';\n",
       "}\n",
       "\n",
       "mpl.figure.prototype.updated_canvas_event = function() {\n",
       "    // Tell IPython that the notebook contents must change.\n",
       "    IPython.notebook.set_dirty(true);\n",
       "    this.send_message(\"ack\", {});\n",
       "    var fig = this;\n",
       "    // Wait a second, then push the new image to the DOM so\n",
       "    // that it is saved nicely (might be nice to debounce this).\n",
       "    setTimeout(function () { fig.push_to_output() }, 1000);\n",
       "}\n",
       "\n",
       "mpl.figure.prototype._init_toolbar = function() {\n",
       "    var fig = this;\n",
       "\n",
       "    var nav_element = $('<div/>')\n",
       "    nav_element.attr('style', 'width: 100%');\n",
       "    this.root.append(nav_element);\n",
       "\n",
       "    // Define a callback function for later on.\n",
       "    function toolbar_event(event) {\n",
       "        return fig.toolbar_button_onclick(event['data']);\n",
       "    }\n",
       "    function toolbar_mouse_event(event) {\n",
       "        return fig.toolbar_button_onmouseover(event['data']);\n",
       "    }\n",
       "\n",
       "    for(var toolbar_ind in mpl.toolbar_items){\n",
       "        var name = mpl.toolbar_items[toolbar_ind][0];\n",
       "        var tooltip = mpl.toolbar_items[toolbar_ind][1];\n",
       "        var image = mpl.toolbar_items[toolbar_ind][2];\n",
       "        var method_name = mpl.toolbar_items[toolbar_ind][3];\n",
       "\n",
       "        if (!name) { continue; };\n",
       "\n",
       "        var button = $('<button class=\"btn btn-default\" href=\"#\" title=\"' + name + '\"><i class=\"fa ' + image + ' fa-lg\"></i></button>');\n",
       "        button.click(method_name, toolbar_event);\n",
       "        button.mouseover(tooltip, toolbar_mouse_event);\n",
       "        nav_element.append(button);\n",
       "    }\n",
       "\n",
       "    // Add the status bar.\n",
       "    var status_bar = $('<span class=\"mpl-message\" style=\"text-align:right; float: right;\"/>');\n",
       "    nav_element.append(status_bar);\n",
       "    this.message = status_bar[0];\n",
       "\n",
       "    // Add the close button to the window.\n",
       "    var buttongrp = $('<div class=\"btn-group inline pull-right\"></div>');\n",
       "    var button = $('<button class=\"btn btn-mini btn-primary\" href=\"#\" title=\"Stop Interaction\"><i class=\"fa fa-power-off icon-remove icon-large\"></i></button>');\n",
       "    button.click(function (evt) { fig.handle_close(fig, {}); } );\n",
       "    button.mouseover('Stop Interaction', toolbar_mouse_event);\n",
       "    buttongrp.append(button);\n",
       "    var titlebar = this.root.find($('.ui-dialog-titlebar'));\n",
       "    titlebar.prepend(buttongrp);\n",
       "}\n",
       "\n",
       "mpl.figure.prototype._root_extra_style = function(el){\n",
       "    var fig = this\n",
       "    el.on(\"remove\", function(){\n",
       "\tfig.close_ws(fig, {});\n",
       "    });\n",
       "}\n",
       "\n",
       "mpl.figure.prototype._canvas_extra_style = function(el){\n",
       "    // this is important to make the div 'focusable\n",
       "    el.attr('tabindex', 0)\n",
       "    // reach out to IPython and tell the keyboard manager to turn it's self\n",
       "    // off when our div gets focus\n",
       "\n",
       "    // location in version 3\n",
       "    if (IPython.notebook.keyboard_manager) {\n",
       "        IPython.notebook.keyboard_manager.register_events(el);\n",
       "    }\n",
       "    else {\n",
       "        // location in version 2\n",
       "        IPython.keyboard_manager.register_events(el);\n",
       "    }\n",
       "\n",
       "}\n",
       "\n",
       "mpl.figure.prototype._key_event_extra = function(event, name) {\n",
       "    var manager = IPython.notebook.keyboard_manager;\n",
       "    if (!manager)\n",
       "        manager = IPython.keyboard_manager;\n",
       "\n",
       "    // Check for shift+enter\n",
       "    if (event.shiftKey && event.which == 13) {\n",
       "        this.canvas_div.blur();\n",
       "        event.shiftKey = false;\n",
       "        // Send a \"J\" for go to next cell\n",
       "        event.which = 74;\n",
       "        event.keyCode = 74;\n",
       "        manager.command_mode();\n",
       "        manager.handle_keydown(event);\n",
       "    }\n",
       "}\n",
       "\n",
       "mpl.figure.prototype.handle_save = function(fig, msg) {\n",
       "    fig.ondownload(fig, null);\n",
       "}\n",
       "\n",
       "\n",
       "mpl.find_output_cell = function(html_output) {\n",
       "    // Return the cell and output element which can be found *uniquely* in the notebook.\n",
       "    // Note - this is a bit hacky, but it is done because the \"notebook_saving.Notebook\"\n",
       "    // IPython event is triggered only after the cells have been serialised, which for\n",
       "    // our purposes (turning an active figure into a static one), is too late.\n",
       "    var cells = IPython.notebook.get_cells();\n",
       "    var ncells = cells.length;\n",
       "    for (var i=0; i<ncells; i++) {\n",
       "        var cell = cells[i];\n",
       "        if (cell.cell_type === 'code'){\n",
       "            for (var j=0; j<cell.output_area.outputs.length; j++) {\n",
       "                var data = cell.output_area.outputs[j];\n",
       "                if (data.data) {\n",
       "                    // IPython >= 3 moved mimebundle to data attribute of output\n",
       "                    data = data.data;\n",
       "                }\n",
       "                if (data['text/html'] == html_output) {\n",
       "                    return [cell, data, j];\n",
       "                }\n",
       "            }\n",
       "        }\n",
       "    }\n",
       "}\n",
       "\n",
       "// Register the function which deals with the matplotlib target/channel.\n",
       "// The kernel may be null if the page has been refreshed.\n",
       "if (IPython.notebook.kernel != null) {\n",
       "    IPython.notebook.kernel.comm_manager.register_target('matplotlib', mpl.mpl_figure_comm);\n",
       "}\n"
      ],
      "text/plain": [
       "<IPython.core.display.Javascript object>"
      ]
     },
     "metadata": {},
     "output_type": "display_data"
    },
    {
     "data": {
      "text/html": [
       "<img src=\"data:image/png;base64,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\" width=\"432\">"
      ],
      "text/plain": [
       "<IPython.core.display.HTML object>"
      ]
     },
     "metadata": {},
     "output_type": "display_data"
    },
    {
     "data": {
      "text/plain": [
       "<matplotlib.collections.PathCollection at 0x19f49dfc438>"
      ]
     },
     "execution_count": 55,
     "metadata": {},
     "output_type": "execute_result"
    },
    {
     "data": {
      "text/plain": [
       "Text(0.5,0,'Value of C')"
      ]
     },
     "execution_count": 55,
     "metadata": {},
     "output_type": "execute_result"
    },
    {
     "data": {
      "text/plain": [
       "Text(0,0.5,'Avg Tset Score(cv = 5) ')"
      ]
     },
     "execution_count": 55,
     "metadata": {},
     "output_type": "execute_result"
    },
    {
     "data": {
      "text/plain": [
       "Text(0.5,1,'Linear Kernelized SVC Parameter Selection')"
      ]
     },
     "execution_count": 55,
     "metadata": {},
     "output_type": "execute_result"
    }
   ],
   "source": [
    "%matplotlib notebook \n",
    "plt.scatter(svc_l_C_param_grid['C'],grid_svc_l_C.cv_results_['mean_test_score'],edgecolors = 'r')\n",
    "plt.xlabel('Value of C')\n",
    "plt.ylabel('Avg Tset Score(cv = 5) ')\n",
    "plt.title('Linear Kernelized SVC Parameter Selection')\n",
    "plt.show()"
   ]
  },
  {
   "cell_type": "code",
   "execution_count": 56,
   "metadata": {},
   "outputs": [],
   "source": [
    "y_svc_l_C_predict = grid_svc_l_C.predict(X_test_C)\n",
    "y_svc_l_C_train_predict = grid_svc_l_C.predict(X_train_C)"
   ]
  },
  {
   "cell_type": "code",
   "execution_count": 57,
   "metadata": {},
   "outputs": [
    {
     "data": {
      "text/plain": [
       "[<matplotlib.lines.Line2D at 0x19f4ae6c358>]"
      ]
     },
     "execution_count": 57,
     "metadata": {},
     "output_type": "execute_result"
    },
    {
     "data": {
      "text/plain": [
       "Text(0.5,0,'FPR')"
      ]
     },
     "execution_count": 57,
     "metadata": {},
     "output_type": "execute_result"
    },
    {
     "data": {
      "text/plain": [
       "Text(0,0.5,'TPR (recall)')"
      ]
     },
     "execution_count": 57,
     "metadata": {},
     "output_type": "execute_result"
    },
    {
     "data": {
      "text/plain": [
       "[<matplotlib.lines.Line2D at 0x19f4ae6ca58>]"
      ]
     },
     "execution_count": 57,
     "metadata": {},
     "output_type": "execute_result"
    },
    {
     "data": {
      "text/plain": [
       "<matplotlib.legend.Legend at 0x19f4ae0ce80>"
      ]
     },
     "execution_count": 57,
     "metadata": {},
     "output_type": "execute_result"
    },
    {
     "data": {
      "image/png": "[encoded data removed]",
      "text/plain": [
       "<Figure size 432x288 with 1 Axes>"
      ]
     },
     "metadata": {},
     "output_type": "display_data"
    }
   ],
   "source": [
    "%matplotlib inline\n",
    "from sklearn.metrics import roc_curve\n",
    "\n",
    "l_svc_fpr, l_svc_tpr, l_svc_thresholds = roc_curve(y_test_C, grid_svc_l_C.decision_function(X_test_C))\n",
    "\n",
    "plt.plot(l_svc_fpr, l_svc_tpr, label=\"linearkernelized__svc_ROC Curve\")\n",
    "plt.xlabel(\"FPR\")\n",
    "plt.ylabel(\"TPR (recall)\")\n",
    "\n",
    "l_svc_close_zero = np.argmin(np.abs(l_svc_thresholds))\n",
    "plt.plot(l_svc_fpr[l_svc_close_zero], l_svc_tpr[l_svc_close_zero], 'o', markersize=10,\n",
    "         label=\"threshold zero\", fillstyle=\"none\", c='k', mew=2)\n",
    "plt.legend(loc=4)"
   ]
  },
  {
   "cell_type": "code",
   "execution_count": 58,
   "metadata": {},
   "outputs": [
    {
     "data": {
      "text/plain": [
       "[['Linear Kernelized SVC',\n",
       "  {'C': 0.1},\n",
       "  0.8844615321415396,\n",
       "  0.8932264242955381,\n",
       "  0.7748388781752804,\n",
       "  0.784847737815588]]"
      ]
     },
     "execution_count": 58,
     "metadata": {},
     "output_type": "execute_result"
    }
   ],
   "source": [
    "report_table_svc_l_C = [['Linear Kernelized SVC',grid_svc_l_C.best_params_, grid_svc_l_C.score(X_train_C, y_train_C), grid_svc_l_C.score(X_test_C, y_test_C), roc_auc_score(y_svc_l_C_train_predict, y_train_C), roc_auc_score(y_svc_l_C_predict, y_test_C) ]]\n",
    "report_table_svc_l_C"
   ]
  },
  {
   "cell_type": "markdown",
   "metadata": {},
   "source": [
    "##### RBF Kernelized SVM"
   ]
  },
  {
   "cell_type": "code",
   "execution_count": 59,
   "metadata": {
    "scrolled": true
   },
   "outputs": [
    {
     "data": {
      "text/plain": [
       "GridSearchCV(cv=5, error_score='raise',\n",
       "       estimator=SVC(C=1.0, cache_size=200, class_weight=None, coef0=0.0,\n",
       "  decision_function_shape='ovr', degree=3, gamma='auto', kernel='rbf',\n",
       "  max_iter=-1, probability=False, random_state=None, shrinking=True,\n",
       "  tol=0.001, verbose=False),\n",
       "       fit_params=None, iid=True, n_jobs=1,\n",
       "       param_grid={'C': [0.1, 1, 10, 100, 1000, 10000], 'gamma': [0.0001, 0.001, 0.01, 0.1, 1, 10]},\n",
       "       pre_dispatch='2*n_jobs', refit=True, return_train_score='warn',\n",
       "       scoring='roc_auc', verbose=0)"
      ]
     },
     "execution_count": 59,
     "metadata": {},
     "output_type": "execute_result"
    }
   ],
   "source": [
    "from sklearn.svm import SVC\n",
    "\n",
    "svc_k_C = SVC(kernel='rbf')\n",
    "svc_k_C_param_grid = {'C': [ 0.1, 1, 10, 100, 1000, 10000 ],\n",
    "              'gamma': [0.0001, 0.001, 0.01, 0.1, 1, 10]}\n",
    "\n",
    "grid_svc_k_C = GridSearchCV(svc_k_C, svc_k_C_param_grid, cv = 5, scoring='roc_auc')\n",
    "\n",
    "grid_svc_k_C.fit(X_train_C, y_train_C)"
   ]
  },
  {
   "cell_type": "code",
   "execution_count": 60,
   "metadata": {},
   "outputs": [
    {
     "data": {
      "text/plain": [
       "{'C': 10000, 'gamma': 0.01}"
      ]
     },
     "execution_count": 60,
     "metadata": {},
     "output_type": "execute_result"
    },
    {
     "data": {
      "text/plain": [
       "array([0.88326611, 0.88437306, 0.88425267, 0.88510397, 0.88615551,\n",
       "       0.88179736, 0.88415652, 0.88421223, 0.88440829, 0.88484771,\n",
       "       0.89057836, 0.90458446, 0.88424904, 0.88425571, 0.8840882 ,\n",
       "       0.88584362, 0.89664109, 0.93088414, 0.88424435, 0.88393712,\n",
       "       0.88384093, 0.8929113 , 0.90479242, 0.95303653, 0.88391755,\n",
       "       0.8833093 , 0.88593358, 0.894216  , 0.91377227, 0.96892446,\n",
       "       0.88327741, 0.88356394, 0.89254468, 0.89658792, 0.92587816,\n",
       "       0.98002698])"
      ]
     },
     "execution_count": 60,
     "metadata": {},
     "output_type": "execute_result"
    },
    {
     "data": {
      "text/plain": [
       "array([0.88144328, 0.88335971, 0.88275576, 0.88339982, 0.88297443,\n",
       "       0.86766616, 0.88277448, 0.88280415, 0.88282502, 0.88315403,\n",
       "       0.88426029, 0.86613542, 0.88288714, 0.8828338 , 0.88300228,\n",
       "       0.88264266, 0.88234832, 0.84253731, 0.88285159, 0.88292523,\n",
       "       0.88251513, 0.88736978, 0.87459306, 0.81714446, 0.88292624,\n",
       "       0.88232423, 0.88265813, 0.88421728, 0.85831022, 0.79466981,\n",
       "       0.88237859, 0.88217605, 0.88797695, 0.87664425, 0.83586405,\n",
       "       0.7870458 ])"
      ]
     },
     "execution_count": 60,
     "metadata": {},
     "output_type": "execute_result"
    }
   ],
   "source": [
    "grid_svc_k_C.best_params_\n",
    "grid_svc_k_C.cv_results_['mean_train_score']\n",
    "grid_svc_k_C.cv_results_['mean_test_score']"
   ]
  },
  {
   "cell_type": "code",
   "execution_count": 61,
   "metadata": {},
   "outputs": [
    {
     "data": {
      "text/plain": [
       "<matplotlib.collections.PolyCollection at 0x19f4aeabeb8>"
      ]
     },
     "execution_count": 61,
     "metadata": {},
     "output_type": "execute_result"
    },
    {
     "data": {
      "image/png": "[encoded data removed]",
      "text/plain": [
       "<Figure size 432x288 with 1 Axes>"
      ]
     },
     "metadata": {},
     "output_type": "display_data"
    }
   ],
   "source": [
    "grid_svc_k_C_scores = np.array(grid_svc_k_C.cv_results_['mean_test_score']).reshape(6, 6)\n",
    "mg.tools.heatmap(grid_svc_k_C_scores, xlabel='Value of Gamma', xticklabels=svc_k_C_param_grid['gamma'], ylabel='Value of C', yticklabels=svc_k_C_param_grid['C'], cmap=\"viridis\")"
   ]
  },
  {
   "cell_type": "code",
   "execution_count": 62,
   "metadata": {},
   "outputs": [],
   "source": [
    "y_svc_k_C_predict = grid_svc_k_C.predict(X_test_C)\n",
    "y_svc_k_C_train_predict = grid_svc_k_C.predict(X_train_C)"
   ]
  },
  {
   "cell_type": "code",
   "execution_count": 63,
   "metadata": {
    "scrolled": false
   },
   "outputs": [
    {
     "data": {
      "text/plain": [
       "[<matplotlib.lines.Line2D at 0x19f4af71828>]"
      ]
     },
     "execution_count": 63,
     "metadata": {},
     "output_type": "execute_result"
    },
    {
     "data": {
      "text/plain": [
       "Text(0.5,0,'FPR')"
      ]
     },
     "execution_count": 63,
     "metadata": {},
     "output_type": "execute_result"
    },
    {
     "data": {
      "text/plain": [
       "Text(0,0.5,'TPR (recall)')"
      ]
     },
     "execution_count": 63,
     "metadata": {},
     "output_type": "execute_result"
    },
    {
     "data": {
      "text/plain": [
       "[<matplotlib.lines.Line2D at 0x19f4af45cc0>]"
      ]
     },
     "execution_count": 63,
     "metadata": {},
     "output_type": "execute_result"
    },
    {
     "data": {
      "text/plain": [
       "<matplotlib.legend.Legend at 0x19f4af45c88>"
      ]
     },
     "execution_count": 63,
     "metadata": {},
     "output_type": "execute_result"
    },
    {
     "data": {
      "image/png": "[encoded data removed]",
      "text/plain": [
       "<Figure size 432x288 with 1 Axes>"
      ]
     },
     "metadata": {},
     "output_type": "display_data"
    }
   ],
   "source": [
    "from sklearn.metrics import roc_curve\n",
    "\n",
    "svc_k_C_fpr, svc_k_C_tpr, svc_k_C_thresholds = roc_curve(y_test_C, grid_svc_k_C.decision_function(X_test_C))\n",
    "\n",
    "plt.plot(svc_k_C_fpr, svc_k_C_tpr, label=\"RBF Kernelized svc_C_ROC Curve\")\n",
    "plt.xlabel(\"FPR\")\n",
    "plt.ylabel(\"TPR (recall)\")\n",
    "\n",
    "svc_k_C_close_zero = np.argmin(np.abs(svc_k_C_thresholds))\n",
    "plt.plot(svc_k_C_fpr[svc_k_C_close_zero], svc_k_C_tpr[svc_k_C_close_zero], 'o', markersize=10,\n",
    "         label=\"threshold zero\", fillstyle=\"none\", c='k', mew=2)\n",
    "plt.legend(loc=4)"
   ]
  },
  {
   "cell_type": "code",
   "execution_count": 64,
   "metadata": {},
   "outputs": [
    {
     "data": {
      "text/plain": [
       "[['RBF SVC',\n",
       "  {'C': 10000, 'gamma': 0.01},\n",
       "  0.8926066282568732,\n",
       "  0.8766988713063022,\n",
       "  0.766263835415714,\n",
       "  0.7802815802269529]]"
      ]
     },
     "execution_count": 64,
     "metadata": {},
     "output_type": "execute_result"
    }
   ],
   "source": [
    "report_table_svc_k_C = [['RBF SVC', grid_svc_k_C.best_params_, grid_svc_k_C.score(X_train_C, y_train_C), grid_svc_k_C.score(X_test_C, y_test_C), roc_auc_score(y_svc_k_C_train_predict, y_train_C), roc_auc_score(y_svc_k_C_predict, y_test_C) ]]\n",
    "report_table_svc_k_C"
   ]
  },
  {
   "cell_type": "code",
   "execution_count": null,
   "metadata": {},
   "outputs": [],
   "source": []
  },
  {
   "cell_type": "markdown",
   "metadata": {},
   "source": [
    "##### Polynomial Kernelized SVM"
   ]
  },
  {
   "cell_type": "code",
   "execution_count": 65,
   "metadata": {},
   "outputs": [
    {
     "data": {
      "text/plain": [
       "GridSearchCV(cv=5, error_score='raise',\n",
       "       estimator=SVC(C=1.0, cache_size=200, class_weight=None, coef0=0.0,\n",
       "  decision_function_shape='ovr', degree=3, gamma='auto', kernel='poly',\n",
       "  max_iter=-1, probability=False, random_state=None, shrinking=True,\n",
       "  tol=0.001, verbose=False),\n",
       "       fit_params=None, iid=True, n_jobs=1,\n",
       "       param_grid={'C': [0.1, 1, 10, 100, 1000, 10000], 'degree': [1, 2, 3]},\n",
       "       pre_dispatch='2*n_jobs', refit=True, return_train_score='warn',\n",
       "       scoring='roc_auc', verbose=0)"
      ]
     },
     "execution_count": 65,
     "metadata": {},
     "output_type": "execute_result"
    }
   ],
   "source": [
    "from sklearn.svm import SVC\n",
    "\n",
    "svc_p_C = SVC(kernel='poly')\n",
    "svc_p_C_param_grid = {'C': [0.1, 1, 10, 100, 1000, 10000 ],\n",
    "              'degree': [1,2,3]}\n",
    "\n",
    "grid_svc_p_C = GridSearchCV(svc_p_C, svc_p_C_param_grid, cv = 5, scoring='roc_auc')\n",
    "\n",
    "grid_svc_p_C.fit(X_train_C, y_train_C)"
   ]
  },
  {
   "cell_type": "code",
   "execution_count": 66,
   "metadata": {},
   "outputs": [
    {
     "data": {
      "text/plain": [
       "{'C': 1000, 'degree': 2}"
      ]
     },
     "execution_count": 66,
     "metadata": {},
     "output_type": "execute_result"
    },
    {
     "data": {
      "text/plain": [
       "array([0.88422027, 0.88324605, 0.87948719, 0.88437954, 0.88331939,\n",
       "       0.87960266, 0.88329125, 0.88463642, 0.88358656, 0.88302672,\n",
       "       0.88726773, 0.88656078, 0.88289261, 0.88904363, 0.89019965,\n",
       "       0.88283025, 0.88881994, 0.89145538])"
      ]
     },
     "execution_count": 66,
     "metadata": {},
     "output_type": "execute_result"
    },
    {
     "data": {
      "text/plain": [
       "array([0.88279634, 0.88117711, 0.87707977, 0.88289994, 0.88121474,\n",
       "       0.87712063, 0.88244384, 0.882171  , 0.88099351, 0.88203579,\n",
       "       0.88261429, 0.88134091, 0.8819286 , 0.88336799, 0.88029213,\n",
       "       0.88195626, 0.88129358, 0.87475878])"
      ]
     },
     "execution_count": 66,
     "metadata": {},
     "output_type": "execute_result"
    }
   ],
   "source": [
    "grid_svc_p_C.best_params_\n",
    "grid_svc_p_C.cv_results_['mean_train_score']\n",
    "grid_svc_p_C.cv_results_['mean_test_score']"
   ]
  },
  {
   "cell_type": "code",
   "execution_count": 67,
   "metadata": {},
   "outputs": [
    {
     "data": {
      "text/plain": [
       "<matplotlib.collections.PolyCollection at 0x19f4afeb0b8>"
      ]
     },
     "execution_count": 67,
     "metadata": {},
     "output_type": "execute_result"
    },
    {
     "data": {
      "image/png": "[encoded data removed]",
      "text/plain": [
       "<Figure size 432x288 with 1 Axes>"
      ]
     },
     "metadata": {},
     "output_type": "display_data"
    }
   ],
   "source": [
    "grid_svc_p_C_scores = np.array(grid_svc_p_C.cv_results_['mean_test_score']).reshape(6, 3)\n",
    "mg.tools.heatmap(grid_svc_p_C_scores, xlabel='Value of Degree', xticklabels=svc_p_C_param_grid['degree'], ylabel='Value of C', yticklabels=svc_p_C_param_grid['C'], cmap=\"viridis\")"
   ]
  },
  {
   "cell_type": "code",
   "execution_count": 68,
   "metadata": {},
   "outputs": [],
   "source": [
    "y_svc_p_C_predict = grid_svc_p_C.predict(X_test_C)\n",
    "y_svc_p_C_train_predict = grid_svc_p_C.predict(X_train_C)"
   ]
  },
  {
   "cell_type": "code",
   "execution_count": 69,
   "metadata": {},
   "outputs": [
    {
     "data": {
      "text/plain": [
       "[<matplotlib.lines.Line2D at 0x19f4b046550>]"
      ]
     },
     "execution_count": 69,
     "metadata": {},
     "output_type": "execute_result"
    },
    {
     "data": {
      "text/plain": [
       "Text(0.5,0,'FPR')"
      ]
     },
     "execution_count": 69,
     "metadata": {},
     "output_type": "execute_result"
    },
    {
     "data": {
      "text/plain": [
       "Text(0,0.5,'TPR (recall)')"
      ]
     },
     "execution_count": 69,
     "metadata": {},
     "output_type": "execute_result"
    },
    {
     "data": {
      "text/plain": [
       "[<matplotlib.lines.Line2D at 0x19f4b046c88>]"
      ]
     },
     "execution_count": 69,
     "metadata": {},
     "output_type": "execute_result"
    },
    {
     "data": {
      "text/plain": [
       "<matplotlib.legend.Legend at 0x19f4b01da58>"
      ]
     },
     "execution_count": 69,
     "metadata": {},
     "output_type": "execute_result"
    },
    {
     "data": {
      "image/png": "[encoded data removed]",
      "text/plain": [
       "<Figure size 432x288 with 1 Axes>"
      ]
     },
     "metadata": {},
     "output_type": "display_data"
    }
   ],
   "source": [
    "from sklearn.metrics import roc_curve\n",
    "\n",
    "svc_p_C_fpr, svc_p_C_tpr, svc_p_C_thresholds = roc_curve(y_test_C, grid_svc_p_C.decision_function(X_test_C))\n",
    "\n",
    "plt.plot(svc_p_C_fpr, svc_p_C_tpr, label=\"Poly Kernelized svc_C_ROC Curve\")\n",
    "plt.xlabel(\"FPR\")\n",
    "plt.ylabel(\"TPR (recall)\")\n",
    "\n",
    "svc_p_C_close_zero = np.argmin(np.abs(svc_p_C_thresholds))\n",
    "plt.plot(svc_p_C_fpr[svc_p_C_close_zero], svc_p_C_tpr[svc_p_C_close_zero], 'o', markersize=10,\n",
    "         label=\"threshold zero\", fillstyle=\"none\", c='k', mew=2)\n",
    "plt.legend(loc=4)"
   ]
  },
  {
   "cell_type": "code",
   "execution_count": 70,
   "metadata": {},
   "outputs": [
    {
     "data": {
      "text/plain": [
       "[['Poly SVC',\n",
       "  {'C': 1000, 'degree': 2},\n",
       "  0.8885410914480144,\n",
       "  0.8846340049897167,\n",
       "  0.7616114157708699,\n",
       "  0.7792907575516271]]"
      ]
     },
     "execution_count": 70,
     "metadata": {},
     "output_type": "execute_result"
    }
   ],
   "source": [
    "report_table_svc_p_C = [['Poly SVC', grid_svc_p_C.best_params_, grid_svc_p_C.score(X_train_C, y_train_C), grid_svc_p_C.score(X_test_C, y_test_C), roc_auc_score(y_svc_p_C_train_predict, y_train_C), roc_auc_score(y_svc_p_C_predict, y_test_C) ]]\n",
    "report_table_svc_p_C"
   ]
  },
  {
   "cell_type": "markdown",
   "metadata": {},
   "source": [
    "##### Decision Tree Classification"
   ]
  },
  {
   "cell_type": "code",
   "execution_count": 71,
   "metadata": {},
   "outputs": [
    {
     "data": {
      "text/plain": [
       "GridSearchCV(cv=5, error_score='raise',\n",
       "       estimator=DecisionTreeClassifier(class_weight=None, criterion='gini', max_depth=None,\n",
       "            max_features=None, max_leaf_nodes=None,\n",
       "            min_impurity_decrease=0.0, min_impurity_split=None,\n",
       "            min_samples_leaf=1, min_samples_split=2,\n",
       "            min_weight_fraction_leaf=0.0, presort=False, random_state=None,\n",
       "            splitter='best'),\n",
       "       fit_params=None, iid=True, n_jobs=1,\n",
       "       param_grid={'max_depth': [1, 2, 3, 4, 5, 6]},\n",
       "       pre_dispatch='2*n_jobs', refit=True, return_train_score='warn',\n",
       "       scoring='roc_auc', verbose=0)"
      ]
     },
     "execution_count": 71,
     "metadata": {},
     "output_type": "execute_result"
    }
   ],
   "source": [
    "from sklearn.tree import DecisionTreeClassifier\n",
    "\n",
    "tree = DecisionTreeClassifier()\n",
    "tree_param_grid = {'max_depth':[1, 2, 3, 4, 5, 6]}\n",
    "\n",
    "grid_tree = GridSearchCV(tree, tree_param_grid, cv = 5, scoring='roc_auc')\n",
    "\n",
    "grid_tree.fit(X_train_C, y_train_C)"
   ]
  },
  {
   "cell_type": "code",
   "execution_count": 72,
   "metadata": {},
   "outputs": [
    {
     "data": {
      "text/plain": [
       "{'max_depth': 5}"
      ]
     },
     "execution_count": 72,
     "metadata": {},
     "output_type": "execute_result"
    },
    {
     "data": {
      "text/plain": [
       "array([0.82234159, 0.8779556 , 0.89480923, 0.90788491, 0.917204  ,\n",
       "       0.92757589])"
      ]
     },
     "execution_count": 72,
     "metadata": {},
     "output_type": "execute_result"
    },
    {
     "data": {
      "text/plain": [
       "array([0.8208701 , 0.87394233, 0.88764417, 0.89258194, 0.894405  ,\n",
       "       0.88497312])"
      ]
     },
     "execution_count": 72,
     "metadata": {},
     "output_type": "execute_result"
    }
   ],
   "source": [
    "grid_tree.best_params_\n",
    "grid_tree.cv_results_['mean_train_score']\n",
    "grid_tree.cv_results_['mean_test_score']"
   ]
  },
  {
   "cell_type": "code",
   "execution_count": 74,
   "metadata": {},
   "outputs": [
    {
     "data": {
      "application/javascript": [
       "/* Put everything inside the global mpl namespace */\n",
       "window.mpl = {};\n",
       "\n",
       "\n",
       "mpl.get_websocket_type = function() {\n",
       "    if (typeof(WebSocket) !== 'undefined') {\n",
       "        return WebSocket;\n",
       "    } else if (typeof(MozWebSocket) !== 'undefined') {\n",
       "        return MozWebSocket;\n",
       "    } else {\n",
       "        alert('Your browser does not have WebSocket support.' +\n",
       "              'Please try Chrome, Safari or Firefox ≥ 6. ' +\n",
       "              'Firefox 4 and 5 are also supported but you ' +\n",
       "              'have to enable WebSockets in about:config.');\n",
       "    };\n",
       "}\n",
       "\n",
       "mpl.figure = function(figure_id, websocket, ondownload, parent_element) {\n",
       "    this.id = figure_id;\n",
       "\n",
       "    this.ws = websocket;\n",
       "\n",
       "    this.supports_binary = (this.ws.binaryType != undefined);\n",
       "\n",
       "    if (!this.supports_binary) {\n",
       "        var warnings = document.getElementById(\"mpl-warnings\");\n",
       "        if (warnings) {\n",
       "            warnings.style.display = 'block';\n",
       "            warnings.textContent = (\n",
       "                \"This browser does not support binary websocket messages. \" +\n",
       "                    \"Performance may be slow.\");\n",
       "        }\n",
       "    }\n",
       "\n",
       "    this.imageObj = new Image();\n",
       "\n",
       "    this.context = undefined;\n",
       "    this.message = undefined;\n",
       "    this.canvas = undefined;\n",
       "    this.rubberband_canvas = undefined;\n",
       "    this.rubberband_context = undefined;\n",
       "    this.format_dropdown = undefined;\n",
       "\n",
       "    this.image_mode = 'full';\n",
       "\n",
       "    this.root = $('<div/>');\n",
       "    this._root_extra_style(this.root)\n",
       "    this.root.attr('style', 'display: inline-block');\n",
       "\n",
       "    $(parent_element).append(this.root);\n",
       "\n",
       "    this._init_header(this);\n",
       "    this._init_canvas(this);\n",
       "    this._init_toolbar(this);\n",
       "\n",
       "    var fig = this;\n",
       "\n",
       "    this.waiting = false;\n",
       "\n",
       "    this.ws.onopen =  function () {\n",
       "            fig.send_message(\"supports_binary\", {value: fig.supports_binary});\n",
       "            fig.send_message(\"send_image_mode\", {});\n",
       "            if (mpl.ratio != 1) {\n",
       "                fig.send_message(\"set_dpi_ratio\", {'dpi_ratio': mpl.ratio});\n",
       "            }\n",
       "            fig.send_message(\"refresh\", {});\n",
       "        }\n",
       "\n",
       "    this.imageObj.onload = function() {\n",
       "            if (fig.image_mode == 'full') {\n",
       "                // Full images could contain transparency (where diff images\n",
       "                // almost always do), so we need to clear the canvas so that\n",
       "                // there is no ghosting.\n",
       "                fig.context.clearRect(0, 0, fig.canvas.width, fig.canvas.height);\n",
       "            }\n",
       "            fig.context.drawImage(fig.imageObj, 0, 0);\n",
       "        };\n",
       "\n",
       "    this.imageObj.onunload = function() {\n",
       "        fig.ws.close();\n",
       "    }\n",
       "\n",
       "    this.ws.onmessage = this._make_on_message_function(this);\n",
       "\n",
       "    this.ondownload = ondownload;\n",
       "}\n",
       "\n",
       "mpl.figure.prototype._init_header = function() {\n",
       "    var titlebar = $(\n",
       "        '<div class=\"ui-dialog-titlebar ui-widget-header ui-corner-all ' +\n",
       "        'ui-helper-clearfix\"/>');\n",
       "    var titletext = $(\n",
       "        '<div class=\"ui-dialog-title\" style=\"width: 100%; ' +\n",
       "        'text-align: center; padding: 3px;\"/>');\n",
       "    titlebar.append(titletext)\n",
       "    this.root.append(titlebar);\n",
       "    this.header = titletext[0];\n",
       "}\n",
       "\n",
       "\n",
       "\n",
       "mpl.figure.prototype._canvas_extra_style = function(canvas_div) {\n",
       "\n",
       "}\n",
       "\n",
       "\n",
       "mpl.figure.prototype._root_extra_style = function(canvas_div) {\n",
       "\n",
       "}\n",
       "\n",
       "mpl.figure.prototype._init_canvas = function() {\n",
       "    var fig = this;\n",
       "\n",
       "    var canvas_div = $('<div/>');\n",
       "\n",
       "    canvas_div.attr('style', 'position: relative; clear: both; outline: 0');\n",
       "\n",
       "    function canvas_keyboard_event(event) {\n",
       "        return fig.key_event(event, event['data']);\n",
       "    }\n",
       "\n",
       "    canvas_div.keydown('key_press', canvas_keyboard_event);\n",
       "    canvas_div.keyup('key_release', canvas_keyboard_event);\n",
       "    this.canvas_div = canvas_div\n",
       "    this._canvas_extra_style(canvas_div)\n",
       "    this.root.append(canvas_div);\n",
       "\n",
       "    var canvas = $('<canvas/>');\n",
       "    canvas.addClass('mpl-canvas');\n",
       "    canvas.attr('style', \"left: 0; top: 0; z-index: 0; outline: 0\")\n",
       "\n",
       "    this.canvas = canvas[0];\n",
       "    this.context = canvas[0].getContext(\"2d\");\n",
       "\n",
       "    var backingStore = this.context.backingStorePixelRatio ||\n",
       "\tthis.context.webkitBackingStorePixelRatio ||\n",
       "\tthis.context.mozBackingStorePixelRatio ||\n",
       "\tthis.context.msBackingStorePixelRatio ||\n",
       "\tthis.context.oBackingStorePixelRatio ||\n",
       "\tthis.context.backingStorePixelRatio || 1;\n",
       "\n",
       "    mpl.ratio = (window.devicePixelRatio || 1) / backingStore;\n",
       "\n",
       "    var rubberband = $('<canvas/>');\n",
       "    rubberband.attr('style', \"position: absolute; left: 0; top: 0; z-index: 1;\")\n",
       "\n",
       "    var pass_mouse_events = true;\n",
       "\n",
       "    canvas_div.resizable({\n",
       "        start: function(event, ui) {\n",
       "            pass_mouse_events = false;\n",
       "        },\n",
       "        resize: function(event, ui) {\n",
       "            fig.request_resize(ui.size.width, ui.size.height);\n",
       "        },\n",
       "        stop: function(event, ui) {\n",
       "            pass_mouse_events = true;\n",
       "            fig.request_resize(ui.size.width, ui.size.height);\n",
       "        },\n",
       "    });\n",
       "\n",
       "    function mouse_event_fn(event) {\n",
       "        if (pass_mouse_events)\n",
       "            return fig.mouse_event(event, event['data']);\n",
       "    }\n",
       "\n",
       "    rubberband.mousedown('button_press', mouse_event_fn);\n",
       "    rubberband.mouseup('button_release', mouse_event_fn);\n",
       "    // Throttle sequential mouse events to 1 every 20ms.\n",
       "    rubberband.mousemove('motion_notify', mouse_event_fn);\n",
       "\n",
       "    rubberband.mouseenter('figure_enter', mouse_event_fn);\n",
       "    rubberband.mouseleave('figure_leave', mouse_event_fn);\n",
       "\n",
       "    canvas_div.on(\"wheel\", function (event) {\n",
       "        event = event.originalEvent;\n",
       "        event['data'] = 'scroll'\n",
       "        if (event.deltaY < 0) {\n",
       "            event.step = 1;\n",
       "        } else {\n",
       "            event.step = -1;\n",
       "        }\n",
       "        mouse_event_fn(event);\n",
       "    });\n",
       "\n",
       "    canvas_div.append(canvas);\n",
       "    canvas_div.append(rubberband);\n",
       "\n",
       "    this.rubberband = rubberband;\n",
       "    this.rubberband_canvas = rubberband[0];\n",
       "    this.rubberband_context = rubberband[0].getContext(\"2d\");\n",
       "    this.rubberband_context.strokeStyle = \"#000000\";\n",
       "\n",
       "    this._resize_canvas = function(width, height) {\n",
       "        // Keep the size of the canvas, canvas container, and rubber band\n",
       "        // canvas in synch.\n",
       "        canvas_div.css('width', width)\n",
       "        canvas_div.css('height', height)\n",
       "\n",
       "        canvas.attr('width', width * mpl.ratio);\n",
       "        canvas.attr('height', height * mpl.ratio);\n",
       "        canvas.attr('style', 'width: ' + width + 'px; height: ' + height + 'px;');\n",
       "\n",
       "        rubberband.attr('width', width);\n",
       "        rubberband.attr('height', height);\n",
       "    }\n",
       "\n",
       "    // Set the figure to an initial 600x600px, this will subsequently be updated\n",
       "    // upon first draw.\n",
       "    this._resize_canvas(600, 600);\n",
       "\n",
       "    // Disable right mouse context menu.\n",
       "    $(this.rubberband_canvas).bind(\"contextmenu\",function(e){\n",
       "        return false;\n",
       "    });\n",
       "\n",
       "    function set_focus () {\n",
       "        canvas.focus();\n",
       "        canvas_div.focus();\n",
       "    }\n",
       "\n",
       "    window.setTimeout(set_focus, 100);\n",
       "}\n",
       "\n",
       "mpl.figure.prototype._init_toolbar = function() {\n",
       "    var fig = this;\n",
       "\n",
       "    var nav_element = $('<div/>')\n",
       "    nav_element.attr('style', 'width: 100%');\n",
       "    this.root.append(nav_element);\n",
       "\n",
       "    // Define a callback function for later on.\n",
       "    function toolbar_event(event) {\n",
       "        return fig.toolbar_button_onclick(event['data']);\n",
       "    }\n",
       "    function toolbar_mouse_event(event) {\n",
       "        return fig.toolbar_button_onmouseover(event['data']);\n",
       "    }\n",
       "\n",
       "    for(var toolbar_ind in mpl.toolbar_items) {\n",
       "        var name = mpl.toolbar_items[toolbar_ind][0];\n",
       "        var tooltip = mpl.toolbar_items[toolbar_ind][1];\n",
       "        var image = mpl.toolbar_items[toolbar_ind][2];\n",
       "        var method_name = mpl.toolbar_items[toolbar_ind][3];\n",
       "\n",
       "        if (!name) {\n",
       "            // put a spacer in here.\n",
       "            continue;\n",
       "        }\n",
       "        var button = $('<button/>');\n",
       "        button.addClass('ui-button ui-widget ui-state-default ui-corner-all ' +\n",
       "                        'ui-button-icon-only');\n",
       "        button.attr('role', 'button');\n",
       "        button.attr('aria-disabled', 'false');\n",
       "        button.click(method_name, toolbar_event);\n",
       "        button.mouseover(tooltip, toolbar_mouse_event);\n",
       "\n",
       "        var icon_img = $('<span/>');\n",
       "        icon_img.addClass('ui-button-icon-primary ui-icon');\n",
       "        icon_img.addClass(image);\n",
       "        icon_img.addClass('ui-corner-all');\n",
       "\n",
       "        var tooltip_span = $('<span/>');\n",
       "        tooltip_span.addClass('ui-button-text');\n",
       "        tooltip_span.html(tooltip);\n",
       "\n",
       "        button.append(icon_img);\n",
       "        button.append(tooltip_span);\n",
       "\n",
       "        nav_element.append(button);\n",
       "    }\n",
       "\n",
       "    var fmt_picker_span = $('<span/>');\n",
       "\n",
       "    var fmt_picker = $('<select/>');\n",
       "    fmt_picker.addClass('mpl-toolbar-option ui-widget ui-widget-content');\n",
       "    fmt_picker_span.append(fmt_picker);\n",
       "    nav_element.append(fmt_picker_span);\n",
       "    this.format_dropdown = fmt_picker[0];\n",
       "\n",
       "    for (var ind in mpl.extensions) {\n",
       "        var fmt = mpl.extensions[ind];\n",
       "        var option = $(\n",
       "            '<option/>', {selected: fmt === mpl.default_extension}).html(fmt);\n",
       "        fmt_picker.append(option)\n",
       "    }\n",
       "\n",
       "    // Add hover states to the ui-buttons\n",
       "    $( \".ui-button\" ).hover(\n",
       "        function() { $(this).addClass(\"ui-state-hover\");},\n",
       "        function() { $(this).removeClass(\"ui-state-hover\");}\n",
       "    );\n",
       "\n",
       "    var status_bar = $('<span class=\"mpl-message\"/>');\n",
       "    nav_element.append(status_bar);\n",
       "    this.message = status_bar[0];\n",
       "}\n",
       "\n",
       "mpl.figure.prototype.request_resize = function(x_pixels, y_pixels) {\n",
       "    // Request matplotlib to resize the figure. Matplotlib will then trigger a resize in the client,\n",
       "    // which will in turn request a refresh of the image.\n",
       "    this.send_message('resize', {'width': x_pixels, 'height': y_pixels});\n",
       "}\n",
       "\n",
       "mpl.figure.prototype.send_message = function(type, properties) {\n",
       "    properties['type'] = type;\n",
       "    properties['figure_id'] = this.id;\n",
       "    this.ws.send(JSON.stringify(properties));\n",
       "}\n",
       "\n",
       "mpl.figure.prototype.send_draw_message = function() {\n",
       "    if (!this.waiting) {\n",
       "        this.waiting = true;\n",
       "        this.ws.send(JSON.stringify({type: \"draw\", figure_id: this.id}));\n",
       "    }\n",
       "}\n",
       "\n",
       "\n",
       "mpl.figure.prototype.handle_save = function(fig, msg) {\n",
       "    var format_dropdown = fig.format_dropdown;\n",
       "    var format = format_dropdown.options[format_dropdown.selectedIndex].value;\n",
       "    fig.ondownload(fig, format);\n",
       "}\n",
       "\n",
       "\n",
       "mpl.figure.prototype.handle_resize = function(fig, msg) {\n",
       "    var size = msg['size'];\n",
       "    if (size[0] != fig.canvas.width || size[1] != fig.canvas.height) {\n",
       "        fig._resize_canvas(size[0], size[1]);\n",
       "        fig.send_message(\"refresh\", {});\n",
       "    };\n",
       "}\n",
       "\n",
       "mpl.figure.prototype.handle_rubberband = function(fig, msg) {\n",
       "    var x0 = msg['x0'] / mpl.ratio;\n",
       "    var y0 = (fig.canvas.height - msg['y0']) / mpl.ratio;\n",
       "    var x1 = msg['x1'] / mpl.ratio;\n",
       "    var y1 = (fig.canvas.height - msg['y1']) / mpl.ratio;\n",
       "    x0 = Math.floor(x0) + 0.5;\n",
       "    y0 = Math.floor(y0) + 0.5;\n",
       "    x1 = Math.floor(x1) + 0.5;\n",
       "    y1 = Math.floor(y1) + 0.5;\n",
       "    var min_x = Math.min(x0, x1);\n",
       "    var min_y = Math.min(y0, y1);\n",
       "    var width = Math.abs(x1 - x0);\n",
       "    var height = Math.abs(y1 - y0);\n",
       "\n",
       "    fig.rubberband_context.clearRect(\n",
       "        0, 0, fig.canvas.width, fig.canvas.height);\n",
       "\n",
       "    fig.rubberband_context.strokeRect(min_x, min_y, width, height);\n",
       "}\n",
       "\n",
       "mpl.figure.prototype.handle_figure_label = function(fig, msg) {\n",
       "    // Updates the figure title.\n",
       "    fig.header.textContent = msg['label'];\n",
       "}\n",
       "\n",
       "mpl.figure.prototype.handle_cursor = function(fig, msg) {\n",
       "    var cursor = msg['cursor'];\n",
       "    switch(cursor)\n",
       "    {\n",
       "    case 0:\n",
       "        cursor = 'pointer';\n",
       "        break;\n",
       "    case 1:\n",
       "        cursor = 'default';\n",
       "        break;\n",
       "    case 2:\n",
       "        cursor = 'crosshair';\n",
       "        break;\n",
       "    case 3:\n",
       "        cursor = 'move';\n",
       "        break;\n",
       "    }\n",
       "    fig.rubberband_canvas.style.cursor = cursor;\n",
       "}\n",
       "\n",
       "mpl.figure.prototype.handle_message = function(fig, msg) {\n",
       "    fig.message.textContent = msg['message'];\n",
       "}\n",
       "\n",
       "mpl.figure.prototype.handle_draw = function(fig, msg) {\n",
       "    // Request the server to send over a new figure.\n",
       "    fig.send_draw_message();\n",
       "}\n",
       "\n",
       "mpl.figure.prototype.handle_image_mode = function(fig, msg) {\n",
       "    fig.image_mode = msg['mode'];\n",
       "}\n",
       "\n",
       "mpl.figure.prototype.updated_canvas_event = function() {\n",
       "    // Called whenever the canvas gets updated.\n",
       "    this.send_message(\"ack\", {});\n",
       "}\n",
       "\n",
       "// A function to construct a web socket function for onmessage handling.\n",
       "// Called in the figure constructor.\n",
       "mpl.figure.prototype._make_on_message_function = function(fig) {\n",
       "    return function socket_on_message(evt) {\n",
       "        if (evt.data instanceof Blob) {\n",
       "            /* FIXME: We get \"Resource interpreted as Image but\n",
       "             * transferred with MIME type text/plain:\" errors on\n",
       "             * Chrome.  But how to set the MIME type?  It doesn't seem\n",
       "             * to be part of the websocket stream */\n",
       "            evt.data.type = \"image/png\";\n",
       "\n",
       "            /* Free the memory for the previous frames */\n",
       "            if (fig.imageObj.src) {\n",
       "                (window.URL || window.webkitURL).revokeObjectURL(\n",
       "                    fig.imageObj.src);\n",
       "            }\n",
       "\n",
       "            fig.imageObj.src = (window.URL || window.webkitURL).createObjectURL(\n",
       "                evt.data);\n",
       "            fig.updated_canvas_event();\n",
       "            fig.waiting = false;\n",
       "            return;\n",
       "        }\n",
       "        else if (typeof evt.data === 'string' && evt.data.slice(0, 21) == \"data:image/png;base64\") {\n",
       "            fig.imageObj.src = evt.data;\n",
       "            fig.updated_canvas_event();\n",
       "            fig.waiting = false;\n",
       "            return;\n",
       "        }\n",
       "\n",
       "        var msg = JSON.parse(evt.data);\n",
       "        var msg_type = msg['type'];\n",
       "\n",
       "        // Call the  \"handle_{type}\" callback, which takes\n",
       "        // the figure and JSON message as its only arguments.\n",
       "        try {\n",
       "            var callback = fig[\"handle_\" + msg_type];\n",
       "        } catch (e) {\n",
       "            console.log(\"No handler for the '\" + msg_type + \"' message type: \", msg);\n",
       "            return;\n",
       "        }\n",
       "\n",
       "        if (callback) {\n",
       "            try {\n",
       "                // console.log(\"Handling '\" + msg_type + \"' message: \", msg);\n",
       "                callback(fig, msg);\n",
       "            } catch (e) {\n",
       "                console.log(\"Exception inside the 'handler_\" + msg_type + \"' callback:\", e, e.stack, msg);\n",
       "            }\n",
       "        }\n",
       "    };\n",
       "}\n",
       "\n",
       "// from http://stackoverflow.com/questions/1114465/getting-mouse-location-in-canvas\n",
       "mpl.findpos = function(e) {\n",
       "    //this section is from http://www.quirksmode.org/js/events_properties.html\n",
       "    var targ;\n",
       "    if (!e)\n",
       "        e = window.event;\n",
       "    if (e.target)\n",
       "        targ = e.target;\n",
       "    else if (e.srcElement)\n",
       "        targ = e.srcElement;\n",
       "    if (targ.nodeType == 3) // defeat Safari bug\n",
       "        targ = targ.parentNode;\n",
       "\n",
       "    // jQuery normalizes the pageX and pageY\n",
       "    // pageX,Y are the mouse positions relative to the document\n",
       "    // offset() returns the position of the element relative to the document\n",
       "    var x = e.pageX - $(targ).offset().left;\n",
       "    var y = e.pageY - $(targ).offset().top;\n",
       "\n",
       "    return {\"x\": x, \"y\": y};\n",
       "};\n",
       "\n",
       "/*\n",
       " * return a copy of an object with only non-object keys\n",
       " * we need this to avoid circular references\n",
       " * http://stackoverflow.com/a/24161582/3208463\n",
       " */\n",
       "function simpleKeys (original) {\n",
       "  return Object.keys(original).reduce(function (obj, key) {\n",
       "    if (typeof original[key] !== 'object')\n",
       "        obj[key] = original[key]\n",
       "    return obj;\n",
       "  }, {});\n",
       "}\n",
       "\n",
       "mpl.figure.prototype.mouse_event = function(event, name) {\n",
       "    var canvas_pos = mpl.findpos(event)\n",
       "\n",
       "    if (name === 'button_press')\n",
       "    {\n",
       "        this.canvas.focus();\n",
       "        this.canvas_div.focus();\n",
       "    }\n",
       "\n",
       "    var x = canvas_pos.x * mpl.ratio;\n",
       "    var y = canvas_pos.y * mpl.ratio;\n",
       "\n",
       "    this.send_message(name, {x: x, y: y, button: event.button,\n",
       "                             step: event.step,\n",
       "                             guiEvent: simpleKeys(event)});\n",
       "\n",
       "    /* This prevents the web browser from automatically changing to\n",
       "     * the text insertion cursor when the button is pressed.  We want\n",
       "     * to control all of the cursor setting manually through the\n",
       "     * 'cursor' event from matplotlib */\n",
       "    event.preventDefault();\n",
       "    return false;\n",
       "}\n",
       "\n",
       "mpl.figure.prototype._key_event_extra = function(event, name) {\n",
       "    // Handle any extra behaviour associated with a key event\n",
       "}\n",
       "\n",
       "mpl.figure.prototype.key_event = function(event, name) {\n",
       "\n",
       "    // Prevent repeat events\n",
       "    if (name == 'key_press')\n",
       "    {\n",
       "        if (event.which === this._key)\n",
       "            return;\n",
       "        else\n",
       "            this._key = event.which;\n",
       "    }\n",
       "    if (name == 'key_release')\n",
       "        this._key = null;\n",
       "\n",
       "    var value = '';\n",
       "    if (event.ctrlKey && event.which != 17)\n",
       "        value += \"ctrl+\";\n",
       "    if (event.altKey && event.which != 18)\n",
       "        value += \"alt+\";\n",
       "    if (event.shiftKey && event.which != 16)\n",
       "        value += \"shift+\";\n",
       "\n",
       "    value += 'k';\n",
       "    value += event.which.toString();\n",
       "\n",
       "    this._key_event_extra(event, name);\n",
       "\n",
       "    this.send_message(name, {key: value,\n",
       "                             guiEvent: simpleKeys(event)});\n",
       "    return false;\n",
       "}\n",
       "\n",
       "mpl.figure.prototype.toolbar_button_onclick = function(name) {\n",
       "    if (name == 'download') {\n",
       "        this.handle_save(this, null);\n",
       "    } else {\n",
       "        this.send_message(\"toolbar_button\", {name: name});\n",
       "    }\n",
       "};\n",
       "\n",
       "mpl.figure.prototype.toolbar_button_onmouseover = function(tooltip) {\n",
       "    this.message.textContent = tooltip;\n",
       "};\n",
       "mpl.toolbar_items = [[\"Home\", \"Reset original view\", \"fa fa-home icon-home\", \"home\"], [\"Back\", \"Back to  previous view\", \"fa fa-arrow-left icon-arrow-left\", \"back\"], [\"Forward\", \"Forward to next view\", \"fa fa-arrow-right icon-arrow-right\", \"forward\"], [\"\", \"\", \"\", \"\"], [\"Pan\", \"Pan axes with left mouse, zoom with right\", \"fa fa-arrows icon-move\", \"pan\"], [\"Zoom\", \"Zoom to rectangle\", \"fa fa-square-o icon-check-empty\", \"zoom\"], [\"\", \"\", \"\", \"\"], [\"Download\", \"Download plot\", \"fa fa-floppy-o icon-save\", \"download\"]];\n",
       "\n",
       "mpl.extensions = [\"eps\", \"jpeg\", \"pdf\", \"png\", \"ps\", \"raw\", \"svg\", \"tif\"];\n",
       "\n",
       "mpl.default_extension = \"png\";var comm_websocket_adapter = function(comm) {\n",
       "    // Create a \"websocket\"-like object which calls the given IPython comm\n",
       "    // object with the appropriate methods. Currently this is a non binary\n",
       "    // socket, so there is still some room for performance tuning.\n",
       "    var ws = {};\n",
       "\n",
       "    ws.close = function() {\n",
       "        comm.close()\n",
       "    };\n",
       "    ws.send = function(m) {\n",
       "        //console.log('sending', m);\n",
       "        comm.send(m);\n",
       "    };\n",
       "    // Register the callback with on_msg.\n",
       "    comm.on_msg(function(msg) {\n",
       "        //console.log('receiving', msg['content']['data'], msg);\n",
       "        // Pass the mpl event to the overridden (by mpl) onmessage function.\n",
       "        ws.onmessage(msg['content']['data'])\n",
       "    });\n",
       "    return ws;\n",
       "}\n",
       "\n",
       "mpl.mpl_figure_comm = function(comm, msg) {\n",
       "    // This is the function which gets called when the mpl process\n",
       "    // starts-up an IPython Comm through the \"matplotlib\" channel.\n",
       "\n",
       "    var id = msg.content.data.id;\n",
       "    // Get hold of the div created by the display call when the Comm\n",
       "    // socket was opened in Python.\n",
       "    var element = $(\"#\" + id);\n",
       "    var ws_proxy = comm_websocket_adapter(comm)\n",
       "\n",
       "    function ondownload(figure, format) {\n",
       "        window.open(figure.imageObj.src);\n",
       "    }\n",
       "\n",
       "    var fig = new mpl.figure(id, ws_proxy,\n",
       "                           ondownload,\n",
       "                           element.get(0));\n",
       "\n",
       "    // Call onopen now - mpl needs it, as it is assuming we've passed it a real\n",
       "    // web socket which is closed, not our websocket->open comm proxy.\n",
       "    ws_proxy.onopen();\n",
       "\n",
       "    fig.parent_element = element.get(0);\n",
       "    fig.cell_info = mpl.find_output_cell(\"<div id='\" + id + \"'></div>\");\n",
       "    if (!fig.cell_info) {\n",
       "        console.error(\"Failed to find cell for figure\", id, fig);\n",
       "        return;\n",
       "    }\n",
       "\n",
       "    var output_index = fig.cell_info[2]\n",
       "    var cell = fig.cell_info[0];\n",
       "\n",
       "};\n",
       "\n",
       "mpl.figure.prototype.handle_close = function(fig, msg) {\n",
       "    var width = fig.canvas.width/mpl.ratio\n",
       "    fig.root.unbind('remove')\n",
       "\n",
       "    // Update the output cell to use the data from the current canvas.\n",
       "    fig.push_to_output();\n",
       "    var dataURL = fig.canvas.toDataURL();\n",
       "    // Re-enable the keyboard manager in IPython - without this line, in FF,\n",
       "    // the notebook keyboard shortcuts fail.\n",
       "    IPython.keyboard_manager.enable()\n",
       "    $(fig.parent_element).html('<img src=\"' + dataURL + '\" width=\"' + width + '\">');\n",
       "    fig.close_ws(fig, msg);\n",
       "}\n",
       "\n",
       "mpl.figure.prototype.close_ws = function(fig, msg){\n",
       "    fig.send_message('closing', msg);\n",
       "    // fig.ws.close()\n",
       "}\n",
       "\n",
       "mpl.figure.prototype.push_to_output = function(remove_interactive) {\n",
       "    // Turn the data on the canvas into data in the output cell.\n",
       "    var width = this.canvas.width/mpl.ratio\n",
       "    var dataURL = this.canvas.toDataURL();\n",
       "    this.cell_info[1]['text/html'] = '<img src=\"' + dataURL + '\" width=\"' + width + '\">';\n",
       "}\n",
       "\n",
       "mpl.figure.prototype.updated_canvas_event = function() {\n",
       "    // Tell IPython that the notebook contents must change.\n",
       "    IPython.notebook.set_dirty(true);\n",
       "    this.send_message(\"ack\", {});\n",
       "    var fig = this;\n",
       "    // Wait a second, then push the new image to the DOM so\n",
       "    // that it is saved nicely (might be nice to debounce this).\n",
       "    setTimeout(function () { fig.push_to_output() }, 1000);\n",
       "}\n",
       "\n",
       "mpl.figure.prototype._init_toolbar = function() {\n",
       "    var fig = this;\n",
       "\n",
       "    var nav_element = $('<div/>')\n",
       "    nav_element.attr('style', 'width: 100%');\n",
       "    this.root.append(nav_element);\n",
       "\n",
       "    // Define a callback function for later on.\n",
       "    function toolbar_event(event) {\n",
       "        return fig.toolbar_button_onclick(event['data']);\n",
       "    }\n",
       "    function toolbar_mouse_event(event) {\n",
       "        return fig.toolbar_button_onmouseover(event['data']);\n",
       "    }\n",
       "\n",
       "    for(var toolbar_ind in mpl.toolbar_items){\n",
       "        var name = mpl.toolbar_items[toolbar_ind][0];\n",
       "        var tooltip = mpl.toolbar_items[toolbar_ind][1];\n",
       "        var image = mpl.toolbar_items[toolbar_ind][2];\n",
       "        var method_name = mpl.toolbar_items[toolbar_ind][3];\n",
       "\n",
       "        if (!name) { continue; };\n",
       "\n",
       "        var button = $('<button class=\"btn btn-default\" href=\"#\" title=\"' + name + '\"><i class=\"fa ' + image + ' fa-lg\"></i></button>');\n",
       "        button.click(method_name, toolbar_event);\n",
       "        button.mouseover(tooltip, toolbar_mouse_event);\n",
       "        nav_element.append(button);\n",
       "    }\n",
       "\n",
       "    // Add the status bar.\n",
       "    var status_bar = $('<span class=\"mpl-message\" style=\"text-align:right; float: right;\"/>');\n",
       "    nav_element.append(status_bar);\n",
       "    this.message = status_bar[0];\n",
       "\n",
       "    // Add the close button to the window.\n",
       "    var buttongrp = $('<div class=\"btn-group inline pull-right\"></div>');\n",
       "    var button = $('<button class=\"btn btn-mini btn-primary\" href=\"#\" title=\"Stop Interaction\"><i class=\"fa fa-power-off icon-remove icon-large\"></i></button>');\n",
       "    button.click(function (evt) { fig.handle_close(fig, {}); } );\n",
       "    button.mouseover('Stop Interaction', toolbar_mouse_event);\n",
       "    buttongrp.append(button);\n",
       "    var titlebar = this.root.find($('.ui-dialog-titlebar'));\n",
       "    titlebar.prepend(buttongrp);\n",
       "}\n",
       "\n",
       "mpl.figure.prototype._root_extra_style = function(el){\n",
       "    var fig = this\n",
       "    el.on(\"remove\", function(){\n",
       "\tfig.close_ws(fig, {});\n",
       "    });\n",
       "}\n",
       "\n",
       "mpl.figure.prototype._canvas_extra_style = function(el){\n",
       "    // this is important to make the div 'focusable\n",
       "    el.attr('tabindex', 0)\n",
       "    // reach out to IPython and tell the keyboard manager to turn it's self\n",
       "    // off when our div gets focus\n",
       "\n",
       "    // location in version 3\n",
       "    if (IPython.notebook.keyboard_manager) {\n",
       "        IPython.notebook.keyboard_manager.register_events(el);\n",
       "    }\n",
       "    else {\n",
       "        // location in version 2\n",
       "        IPython.keyboard_manager.register_events(el);\n",
       "    }\n",
       "\n",
       "}\n",
       "\n",
       "mpl.figure.prototype._key_event_extra = function(event, name) {\n",
       "    var manager = IPython.notebook.keyboard_manager;\n",
       "    if (!manager)\n",
       "        manager = IPython.keyboard_manager;\n",
       "\n",
       "    // Check for shift+enter\n",
       "    if (event.shiftKey && event.which == 13) {\n",
       "        this.canvas_div.blur();\n",
       "        event.shiftKey = false;\n",
       "        // Send a \"J\" for go to next cell\n",
       "        event.which = 74;\n",
       "        event.keyCode = 74;\n",
       "        manager.command_mode();\n",
       "        manager.handle_keydown(event);\n",
       "    }\n",
       "}\n",
       "\n",
       "mpl.figure.prototype.handle_save = function(fig, msg) {\n",
       "    fig.ondownload(fig, null);\n",
       "}\n",
       "\n",
       "\n",
       "mpl.find_output_cell = function(html_output) {\n",
       "    // Return the cell and output element which can be found *uniquely* in the notebook.\n",
       "    // Note - this is a bit hacky, but it is done because the \"notebook_saving.Notebook\"\n",
       "    // IPython event is triggered only after the cells have been serialised, which for\n",
       "    // our purposes (turning an active figure into a static one), is too late.\n",
       "    var cells = IPython.notebook.get_cells();\n",
       "    var ncells = cells.length;\n",
       "    for (var i=0; i<ncells; i++) {\n",
       "        var cell = cells[i];\n",
       "        if (cell.cell_type === 'code'){\n",
       "            for (var j=0; j<cell.output_area.outputs.length; j++) {\n",
       "                var data = cell.output_area.outputs[j];\n",
       "                if (data.data) {\n",
       "                    // IPython >= 3 moved mimebundle to data attribute of output\n",
       "                    data = data.data;\n",
       "                }\n",
       "                if (data['text/html'] == html_output) {\n",
       "                    return [cell, data, j];\n",
       "                }\n",
       "            }\n",
       "        }\n",
       "    }\n",
       "}\n",
       "\n",
       "// Register the function which deals with the matplotlib target/channel.\n",
       "// The kernel may be null if the page has been refreshed.\n",
       "if (IPython.notebook.kernel != null) {\n",
       "    IPython.notebook.kernel.comm_manager.register_target('matplotlib', mpl.mpl_figure_comm);\n",
       "}\n"
      ],
      "text/plain": [
       "<IPython.core.display.Javascript object>"
      ]
     },
     "metadata": {},
     "output_type": "display_data"
    },
    {
     "data": {
      "text/html": [
       "<img src=\"data:image/png;base64,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\" width=\"432\">"
      ],
      "text/plain": [
       "<IPython.core.display.HTML object>"
      ]
     },
     "metadata": {},
     "output_type": "display_data"
    },
    {
     "data": {
      "text/plain": [
       "<BarContainer object of 6 artists>"
      ]
     },
     "execution_count": 74,
     "metadata": {},
     "output_type": "execute_result"
    },
    {
     "data": {
      "text/plain": [
       "Text(0.5,0,'Value of Max_Depth')"
      ]
     },
     "execution_count": 74,
     "metadata": {},
     "output_type": "execute_result"
    },
    {
     "data": {
      "text/plain": [
       "Text(0,0.5,'Avg Tset Score(cv = 5) ')"
      ]
     },
     "execution_count": 74,
     "metadata": {},
     "output_type": "execute_result"
    },
    {
     "data": {
      "text/plain": [
       "Text(0.5,1,'Decision Tree Parameter Selection')"
      ]
     },
     "execution_count": 74,
     "metadata": {},
     "output_type": "execute_result"
    }
   ],
   "source": [
    "%matplotlib notebook\n",
    "plt.bar(tree_param_grid['max_depth'],grid_tree.cv_results_['mean_test_score'], edgecolor = 'r')\n",
    "plt.xlabel('Value of Max_Depth')\n",
    "plt.ylabel('Avg Tset Score(cv = 5) ')\n",
    "plt.title('Decision Tree Parameter Selection')\n",
    "plt.show()"
   ]
  },
  {
   "cell_type": "code",
   "execution_count": 133,
   "metadata": {},
   "outputs": [],
   "source": [
    "y_tree_predict = grid_tree.predict(X_test_C)\n",
    "y_tree_train_predict = grid_tree.predict(X_train_C)"
   ]
  },
  {
   "cell_type": "code",
   "execution_count": 76,
   "metadata": {},
   "outputs": [
    {
     "data": {
      "text/plain": [
       "Text(0.5,1,'Decision Tree Confusion matrix')"
      ]
     },
     "execution_count": 76,
     "metadata": {},
     "output_type": "execute_result"
    },
    {
     "data": {
      "image/png": "[encoded data removed]",
      "text/plain": [
       "<Figure size 432x288 with 1 Axes>"
      ]
     },
     "metadata": {},
     "output_type": "display_data"
    }
   ],
   "source": [
    "%matplotlib inline\n",
    "tree_scores_image = mg.tools.heatmap(confusion_matrix(y_test_C, y_tree_predict), \n",
    "                                       xlabel='Predicted label',ylabel='True label', \n",
    "                                       xticklabels=' ',yticklabels=' ',\n",
    "                                       cmap=\"viridis\", fmt=\"%d\")\n",
    "plt.title(\"Decision Tree Confusion matrix\")\n",
    "plt.gca().invert_yaxis()"
   ]
  },
  {
   "cell_type": "code",
   "execution_count": 134,
   "metadata": {},
   "outputs": [
    {
     "data": {
      "text/plain": [
       "[['Decision Tree',\n",
       "  {'max_depth': 5},\n",
       "  0.9156953618317885,\n",
       "  0.8850509926426414,\n",
       "  0.7987267781840924,\n",
       "  0.7541387759980874]]"
      ]
     },
     "execution_count": 134,
     "metadata": {},
     "output_type": "execute_result"
    }
   ],
   "source": [
    "report_table_tree = [['Decision Tree', grid_tree.best_params_, grid_tree.score(X_train_C, y_train_C), grid_tree.score(X_test_C, y_test_C), roc_auc_score(y_tree_train_predict, y_train_C), roc_auc_score(y_tree_predict, y_test_C) ]]\n",
    "report_table_tree"
   ]
  },
  {
   "cell_type": "code",
   "execution_count": null,
   "metadata": {},
   "outputs": [],
   "source": []
  },
  {
   "cell_type": "markdown",
   "metadata": {},
   "source": [
    "##### Random Forest"
   ]
  },
  {
   "cell_type": "code",
   "execution_count": 109,
   "metadata": {},
   "outputs": [
    {
     "data": {
      "text/plain": [
       "GridSearchCV(cv=5, error_score='raise',\n",
       "       estimator=RandomForestClassifier(bootstrap=True, class_weight=None, criterion='gini',\n",
       "            max_depth=None, max_features='auto', max_leaf_nodes=None,\n",
       "            min_impurity_decrease=0.0, min_impurity_split=None,\n",
       "            min_samples_leaf=1, min_samples_split=2,\n",
       "            min_weight_fraction_leaf=0.0, n_estimators=10, n_jobs=1,\n",
       "            oob_score=False, random_state=None, verbose=0,\n",
       "            warm_start=False),\n",
       "       fit_params=None, iid=True, n_jobs=-1,\n",
       "       param_grid={'bootstrap': [True, False], 'max_depth': [13, 15, 17], 'max_features': [7, 8], 'min_samples_leaf': [15, 20, 25], 'n_estimators': [100, 200, 300]},\n",
       "       pre_dispatch='2*n_jobs', refit=True, return_train_score='warn',\n",
       "       scoring='roc_auc', verbose=0)"
      ]
     },
     "execution_count": 109,
     "metadata": {},
     "output_type": "execute_result"
    }
   ],
   "source": [
    "from sklearn.ensemble import RandomForestClassifier\n",
    "\n",
    "rf = RandomForestClassifier()\n",
    "rf_param_grid = { 'bootstrap': [True,False],\n",
    "                   'max_depth': [13, 15, 17],\n",
    "                   'max_features': [7, 8],\n",
    "                   'min_samples_leaf': [15, 20, 25],\n",
    "                   'n_estimators': [100, 200, 300]}\n",
    "\n",
    "grid_rf = GridSearchCV(rf, rf_param_grid, cv = 5, scoring='roc_auc', n_jobs = -1)\n",
    "\n",
    "grid_rf.fit(X_train_C, y_train_C)"
   ]
  },
  {
   "cell_type": "code",
   "execution_count": 111,
   "metadata": {
    "scrolled": true
   },
   "outputs": [
    {
     "data": {
      "text/plain": [
       "{'bootstrap': True,\n",
       " 'max_depth': 13,\n",
       " 'max_features': 7,\n",
       " 'min_samples_leaf': 15,\n",
       " 'n_estimators': 200}"
      ]
     },
     "execution_count": 111,
     "metadata": {},
     "output_type": "execute_result"
    }
   ],
   "source": [
    "grid_rf.best_params_"
   ]
  },
  {
   "cell_type": "code",
   "execution_count": 135,
   "metadata": {},
   "outputs": [],
   "source": [
    "y_rf_predict = grid_rf.predict(X_test_C)\n",
    "y_rf_train_predict = grid_rf.predict(X_train_C)"
   ]
  },
  {
   "cell_type": "code",
   "execution_count": 113,
   "metadata": {},
   "outputs": [
    {
     "data": {
      "text/plain": [
       "Text(0.5,1,'Random Forest Confusion matrix')"
      ]
     },
     "execution_count": 113,
     "metadata": {},
     "output_type": "execute_result"
    },
    {
     "data": {
      "image/png": "[encoded data removed]",
      "text/plain": [
       "<Figure size 432x288 with 1 Axes>"
      ]
     },
     "metadata": {},
     "output_type": "display_data"
    }
   ],
   "source": [
    "%matplotlib inline\n",
    "rf_scores_image = mg.tools.heatmap(confusion_matrix(y_test_C, y_rf_predict), \n",
    "                                       xlabel='Predicted label',ylabel='True label', \n",
    "                                       xticklabels=' ',yticklabels=' ',\n",
    "                                       cmap=\"viridis\", fmt=\"%d\")\n",
    "plt.title(\"Random Forest Confusion matrix\")\n",
    "plt.gca().invert_yaxis()"
   ]
  },
  {
   "cell_type": "code",
   "execution_count": 136,
   "metadata": {},
   "outputs": [
    {
     "data": {
      "text/plain": [
       "[['Random Forest',\n",
       "  {'bootstrap': True,\n",
       "   'max_depth': 13,\n",
       "   'max_features': 7,\n",
       "   'min_samples_leaf': 15,\n",
       "   'n_estimators': 200},\n",
       "  0.9491958986366973,\n",
       "  0.8992197383579166,\n",
       "  0.8467760068634149,\n",
       "  0.7675703090262339]]"
      ]
     },
     "execution_count": 136,
     "metadata": {},
     "output_type": "execute_result"
    }
   ],
   "source": [
    "report_table_rf = [['Random Forest', grid_rf.best_params_, grid_rf.score(X_train_C, y_train_C), grid_rf.score(X_test_C, y_test_C), roc_auc_score(y_rf_train_predict, y_train_C), roc_auc_score(y_rf_predict, y_test_C) ]]\n",
    "report_table_rf"
   ]
  },
  {
   "cell_type": "markdown",
   "metadata": {},
   "source": [
    "##### AdaBoost"
   ]
  },
  {
   "cell_type": "code",
   "execution_count": 115,
   "metadata": {},
   "outputs": [
    {
     "data": {
      "text/plain": [
       "GridSearchCV(cv=5, error_score='raise',\n",
       "       estimator=AdaBoostClassifier(algorithm='SAMME.R',\n",
       "          base_estimator=DecisionTreeClassifier(class_weight=None, criterion='gini', max_depth=None,\n",
       "            max_features=None, max_leaf_nodes=None,\n",
       "            min_impurity_decrease=0.0, min_impurity_split=None,\n",
       "            min_samples_leaf=1, min_samples_split=2,\n",
       "            min_weight_fraction_leaf=0.0, presort=False, random_state=11,\n",
       "            splitter='best'),\n",
       "          learning_rate=1.0, n_estimators=50, random_state=None),\n",
       "       fit_params=None, iid=True, n_jobs=-1,\n",
       "       param_grid={'base_estimator__criterion': ['gini', 'entropy'], 'base_estimator__splitter': ['best', 'random'], 'n_estimators': [1, 2]},\n",
       "       pre_dispatch='2*n_jobs', refit=True, return_train_score='warn',\n",
       "       scoring='roc_auc', verbose=0)"
      ]
     },
     "execution_count": 115,
     "metadata": {},
     "output_type": "execute_result"
    }
   ],
   "source": [
    "from sklearn.tree import DecisionTreeClassifier\n",
    "from sklearn.ensemble import AdaBoostClassifier\n",
    "\n",
    "ABC_param_grid = {\"base_estimator__criterion\" : [\"gini\", \"entropy\"],\n",
    "              \"base_estimator__splitter\" :   [\"best\", \"random\"],\n",
    "              \"n_estimators\": [1, 2]}\n",
    "\n",
    "DTC = DecisionTreeClassifier(random_state = 11,max_depth = None)\n",
    "ABC = AdaBoostClassifier(base_estimator = DTC)\n",
    "\n",
    "grid_ABC = GridSearchCV(ABC, ABC_param_grid, cv = 5, scoring='roc_auc', n_jobs = -1)\n",
    "\n",
    "grid_ABC.fit(X_train_C, y_train_C)"
   ]
  },
  {
   "cell_type": "code",
   "execution_count": 116,
   "metadata": {},
   "outputs": [
    {
     "data": {
      "text/plain": [
       "{'base_estimator__criterion': 'gini',\n",
       " 'base_estimator__splitter': 'best',\n",
       " 'n_estimators': 2}"
      ]
     },
     "execution_count": 116,
     "metadata": {},
     "output_type": "execute_result"
    },
    {
     "data": {
      "text/plain": [
       "array([1., 1., 1., 1., 1., 1., 1., 1.])"
      ]
     },
     "execution_count": 116,
     "metadata": {},
     "output_type": "execute_result"
    },
    {
     "data": {
      "text/plain": [
       "array([0.72360596, 0.72413767, 0.71052195, 0.71666323, 0.71987418,\n",
       "       0.72057692, 0.70119986, 0.71817085])"
      ]
     },
     "execution_count": 116,
     "metadata": {},
     "output_type": "execute_result"
    }
   ],
   "source": [
    "grid_ABC.best_params_\n",
    "grid_ABC.cv_results_['mean_train_score']\n",
    "grid_ABC.cv_results_['mean_test_score']"
   ]
  },
  {
   "cell_type": "code",
   "execution_count": 137,
   "metadata": {},
   "outputs": [],
   "source": [
    "y_ABC_predict = grid_ABC.predict(X_test_C)\n",
    "y_ABC_train_predict = grid_ABC.predict(X_train_C)"
   ]
  },
  {
   "cell_type": "code",
   "execution_count": 118,
   "metadata": {},
   "outputs": [
    {
     "data": {
      "text/plain": [
       "Text(0.5,1,'AdaBoost Confusion matrix')"
      ]
     },
     "execution_count": 118,
     "metadata": {},
     "output_type": "execute_result"
    },
    {
     "data": {
      "image/png": "[encoded data removed]",
      "text/plain": [
       "<Figure size 432x288 with 1 Axes>"
      ]
     },
     "metadata": {},
     "output_type": "display_data"
    }
   ],
   "source": [
    "%matplotlib inline\n",
    "rf_scores_image = mg.tools.heatmap(confusion_matrix(y_test_C, y_ABC_predict), \n",
    "                                       xlabel='Predicted label',ylabel='True label', \n",
    "                                       xticklabels=' ',yticklabels=' ',\n",
    "                                       cmap=\"viridis\", fmt=\"%d\")\n",
    "plt.title(\"AdaBoost Confusion matrix\")\n",
    "plt.gca().invert_yaxis()"
   ]
  },
  {
   "cell_type": "code",
   "execution_count": 138,
   "metadata": {},
   "outputs": [
    {
     "data": {
      "text/plain": [
       "[['AdaBoost',\n",
       "  {'base_estimator__criterion': 'gini',\n",
       "   'base_estimator__splitter': 'best',\n",
       "   'n_estimators': 2},\n",
       "  1.0,\n",
       "  0.7095186266264286,\n",
       "  1.0,\n",
       "  0.6981617647058823]]"
      ]
     },
     "execution_count": 138,
     "metadata": {},
     "output_type": "execute_result"
    }
   ],
   "source": [
    "report_table_ABC = [['AdaBoost', grid_ABC.best_params_, grid_ABC.score(X_train_C, y_train_C), grid_ABC.score(X_test_C, y_test_C), roc_auc_score(y_ABC_train_predict, y_train_C), roc_auc_score(y_ABC_predict, y_test_C) ]]\n",
    "report_table_ABC"
   ]
  },
  {
   "cell_type": "markdown",
   "metadata": {},
   "source": [
    "##### Gradient Boosting"
   ]
  },
  {
   "cell_type": "code",
   "execution_count": 125,
   "metadata": {},
   "outputs": [
    {
     "data": {
      "text/plain": [
       "GridSearchCV(cv=5, error_score='raise',\n",
       "       estimator=GradientBoostingClassifier(criterion='friedman_mse', init=None,\n",
       "              learning_rate=0.1, loss='deviance', max_depth=3,\n",
       "              max_features=None, max_leaf_nodes=None,\n",
       "              min_impurity_decrease=0.0, min_impurity_split=None,\n",
       "              min_samples_leaf=1, min_samples_split=2,\n",
       "              min_weight_fraction_leaf=0.0, n_estimators=100,\n",
       "              presort='auto', random_state=None, subsample=1.0, verbose=0,\n",
       "              warm_start=False),\n",
       "       fit_params=None, iid=True, n_jobs=-1,\n",
       "       param_grid={'loss': ['deviance'], 'learning_rate': [0.01, 0.1, 0.2], 'min_samples_leaf': [10, 20, 30], 'max_depth': [3, 4], 'max_features': [7], 'n_estimators': [50, 100, 200]},\n",
       "       pre_dispatch='2*n_jobs', refit=True, return_train_score='warn',\n",
       "       scoring='roc_auc', verbose=0)"
      ]
     },
     "execution_count": 125,
     "metadata": {},
     "output_type": "execute_result"
    }
   ],
   "source": [
    "from sklearn.ensemble import GradientBoostingClassifier\n",
    "\n",
    "GDBT_param_grid = { \"loss\":[\"deviance\"],\n",
    "    \"learning_rate\": [0.01, 0.1, 0.2],\n",
    "    \"min_samples_leaf\": [10, 20, 30],\n",
    "    \"max_depth\":[3,4],\n",
    "    \"max_features\":[7],\n",
    "   #\"criterion\": [\"friedman_mse\",  \"mae\"],\n",
    "    \"n_estimators\":[50, 100, 200]}\n",
    "\n",
    "GDBT = GradientBoostingClassifier()\n",
    "\n",
    "grid_GDBT = GridSearchCV(GDBT, GDBT_param_grid, cv = 5, scoring='roc_auc', n_jobs = -1)\n",
    "\n",
    "grid_GDBT.fit(X_train_C, y_train_C)"
   ]
  },
  {
   "cell_type": "code",
   "execution_count": 123,
   "metadata": {},
   "outputs": [
    {
     "data": {
      "text/plain": [
       "{'learning_rate': 0.1,\n",
       " 'loss': 'deviance',\n",
       " 'max_depth': 4,\n",
       " 'max_features': 7,\n",
       " 'min_samples_leaf': 20,\n",
       " 'n_estimators': 100}"
      ]
     },
     "execution_count": 123,
     "metadata": {},
     "output_type": "execute_result"
    }
   ],
   "source": [
    "grid_GDBT.best_params_"
   ]
  },
  {
   "cell_type": "code",
   "execution_count": 139,
   "metadata": {},
   "outputs": [],
   "source": [
    "y_GDBT_predict = grid_GDBT.predict(X_test_C)\n",
    "y_GDBT_train_predict = grid_GDBT.predict(X_train_C)"
   ]
  },
  {
   "cell_type": "code",
   "execution_count": 127,
   "metadata": {},
   "outputs": [
    {
     "data": {
      "text/plain": [
       "Text(0.5,1,'GDBT Confusion matrix')"
      ]
     },
     "execution_count": 127,
     "metadata": {},
     "output_type": "execute_result"
    },
    {
     "data": {
      "image/png": "[encoded data removed]",
      "text/plain": [
       "<Figure size 432x288 with 1 Axes>"
      ]
     },
     "metadata": {},
     "output_type": "display_data"
    }
   ],
   "source": [
    "%matplotlib inline\n",
    "rf_scores_image = mg.tools.heatmap(confusion_matrix(y_test_C, y_GDBT_predict), \n",
    "                                       xlabel='Predicted label',ylabel='True label', \n",
    "                                       xticklabels=' ',yticklabels=' ',\n",
    "                                       cmap=\"viridis\", fmt=\"%d\")\n",
    "plt.title(\"GDBT Confusion matrix\")\n",
    "plt.gca().invert_yaxis()"
   ]
  },
  {
   "cell_type": "code",
   "execution_count": 140,
   "metadata": {},
   "outputs": [
    {
     "data": {
      "text/plain": [
       "[['GDBT',\n",
       "  {'learning_rate': 0.1,\n",
       "   'loss': 'deviance',\n",
       "   'max_depth': 4,\n",
       "   'max_features': 7,\n",
       "   'min_samples_leaf': 20,\n",
       "   'n_estimators': 50},\n",
       "  0.9343816236551239,\n",
       "  0.8967805372779895,\n",
       "  0.8243674867437343,\n",
       "  0.7691335037794574]]"
      ]
     },
     "execution_count": 140,
     "metadata": {},
     "output_type": "execute_result"
    }
   ],
   "source": [
    "report_table_GDBT = [['GDBT', grid_GDBT.best_params_, grid_GDBT.score(X_train_C, y_train_C), grid_GDBT.score(X_test_C, y_test_C), roc_auc_score(y_GDBT_train_predict, y_train_C), roc_auc_score(y_GDBT_predict, y_test_C) ]]\n",
    "report_table_GDBT"
   ]
  },
  {
   "cell_type": "markdown",
   "metadata": {},
   "source": [
    "#### Result Campare"
   ]
  },
  {
   "cell_type": "code",
   "execution_count": 141,
   "metadata": {
    "scrolled": true
   },
   "outputs": [
    {
     "data": {
      "text/html": [
       "<div>\n",
       "<style scoped>\n",
       "    .dataframe tbody tr th:only-of-type {\n",
       "        vertical-align: middle;\n",
       "    }\n",
       "\n",
       "    .dataframe tbody tr th {\n",
       "        vertical-align: top;\n",
       "    }\n",
       "\n",
       "    .dataframe thead th {\n",
       "        text-align: right;\n",
       "    }\n",
       "</style>\n",
       "<table border=\"1\" class=\"dataframe\">\n",
       "  <thead>\n",
       "    <tr style=\"text-align: right;\">\n",
       "      <th></th>\n",
       "      <th>Model name</th>\n",
       "      <th>Model parameter</th>\n",
       "      <th>Train accuracy</th>\n",
       "      <th>Test accuracy</th>\n",
       "      <th>Train auc score</th>\n",
       "      <th>Test auc score</th>\n",
       "    </tr>\n",
       "  </thead>\n",
       "  <tbody>\n",
       "    <tr>\n",
       "      <th>0</th>\n",
       "      <td>knn</td>\n",
       "      <td>{'n_neighbors': 40}</td>\n",
       "      <td>0.897715</td>\n",
       "      <td>0.888910</td>\n",
       "      <td>0.777532</td>\n",
       "      <td>0.764253</td>\n",
       "    </tr>\n",
       "    <tr>\n",
       "      <th>1</th>\n",
       "      <td>Logistic Reg</td>\n",
       "      <td>{'C': 1000}</td>\n",
       "      <td>0.885423</td>\n",
       "      <td>0.889622</td>\n",
       "      <td>0.757945</td>\n",
       "      <td>0.780024</td>\n",
       "    </tr>\n",
       "    <tr>\n",
       "      <th>2</th>\n",
       "      <td>Linear SVC</td>\n",
       "      <td>{'C': 10}</td>\n",
       "      <td>0.885876</td>\n",
       "      <td>0.886452</td>\n",
       "      <td>0.757039</td>\n",
       "      <td>0.779000</td>\n",
       "    </tr>\n",
       "    <tr>\n",
       "      <th>3</th>\n",
       "      <td>Linear Kernelized SVC</td>\n",
       "      <td>{'C': 0.1}</td>\n",
       "      <td>0.884462</td>\n",
       "      <td>0.893226</td>\n",
       "      <td>0.774839</td>\n",
       "      <td>0.784848</td>\n",
       "    </tr>\n",
       "    <tr>\n",
       "      <th>4</th>\n",
       "      <td>RBF SVC</td>\n",
       "      <td>{'C': 10000, 'gamma': 0.01}</td>\n",
       "      <td>0.892607</td>\n",
       "      <td>0.876699</td>\n",
       "      <td>0.766264</td>\n",
       "      <td>0.780282</td>\n",
       "    </tr>\n",
       "    <tr>\n",
       "      <th>5</th>\n",
       "      <td>Poly SVC</td>\n",
       "      <td>{'C': 1000, 'degree': 2}</td>\n",
       "      <td>0.888541</td>\n",
       "      <td>0.884634</td>\n",
       "      <td>0.761611</td>\n",
       "      <td>0.779291</td>\n",
       "    </tr>\n",
       "    <tr>\n",
       "      <th>6</th>\n",
       "      <td>Decision Tree</td>\n",
       "      <td>{'max_depth': 5}</td>\n",
       "      <td>0.915695</td>\n",
       "      <td>0.885051</td>\n",
       "      <td>0.798727</td>\n",
       "      <td>0.754139</td>\n",
       "    </tr>\n",
       "    <tr>\n",
       "      <th>7</th>\n",
       "      <td>Random Forest</td>\n",
       "      <td>{'bootstrap': True, 'max_depth': 13, 'max_feat...</td>\n",
       "      <td>0.949196</td>\n",
       "      <td>0.899220</td>\n",
       "      <td>0.846776</td>\n",
       "      <td>0.767570</td>\n",
       "    </tr>\n",
       "    <tr>\n",
       "      <th>8</th>\n",
       "      <td>AdaBoost</td>\n",
       "      <td>{'base_estimator__criterion': 'gini', 'base_es...</td>\n",
       "      <td>1.000000</td>\n",
       "      <td>0.709519</td>\n",
       "      <td>1.000000</td>\n",
       "      <td>0.698162</td>\n",
       "    </tr>\n",
       "    <tr>\n",
       "      <th>9</th>\n",
       "      <td>GDBT</td>\n",
       "      <td>{'learning_rate': 0.1, 'loss': 'deviance', 'ma...</td>\n",
       "      <td>0.934382</td>\n",
       "      <td>0.896781</td>\n",
       "      <td>0.824367</td>\n",
       "      <td>0.769134</td>\n",
       "    </tr>\n",
       "  </tbody>\n",
       "</table>\n",
       "</div>"
      ],
      "text/plain": [
       "              Model name                                    Model parameter  \\\n",
       "0                    knn                                {'n_neighbors': 40}   \n",
       "1           Logistic Reg                                        {'C': 1000}   \n",
       "2             Linear SVC                                          {'C': 10}   \n",
       "3  Linear Kernelized SVC                                         {'C': 0.1}   \n",
       "4                RBF SVC                        {'C': 10000, 'gamma': 0.01}   \n",
       "5               Poly SVC                           {'C': 1000, 'degree': 2}   \n",
       "6          Decision Tree                                   {'max_depth': 5}   \n",
       "7          Random Forest  {'bootstrap': True, 'max_depth': 13, 'max_feat...   \n",
       "8               AdaBoost  {'base_estimator__criterion': 'gini', 'base_es...   \n",
       "9                   GDBT  {'learning_rate': 0.1, 'loss': 'deviance', 'ma...   \n",
       "\n",
       "   Train accuracy  Test accuracy  Train auc score  Test auc score  \n",
       "0        0.897715       0.888910         0.777532        0.764253  \n",
       "1        0.885423       0.889622         0.757945        0.780024  \n",
       "2        0.885876       0.886452         0.757039        0.779000  \n",
       "3        0.884462       0.893226         0.774839        0.784848  \n",
       "4        0.892607       0.876699         0.766264        0.780282  \n",
       "5        0.888541       0.884634         0.761611        0.779291  \n",
       "6        0.915695       0.885051         0.798727        0.754139  \n",
       "7        0.949196       0.899220         0.846776        0.767570  \n",
       "8        1.000000       0.709519         1.000000        0.698162  \n",
       "9        0.934382       0.896781         0.824367        0.769134  "
      ]
     },
     "execution_count": 141,
     "metadata": {},
     "output_type": "execute_result"
    }
   ],
   "source": [
    "report_C = pd.DataFrame(report_table_knnC + report_table_logreg + report_table_svc_lin_C + report_table_svc_l_C + report_table_svc_k_C + report_table_svc_p_C + report_table_tree + report_table_rf + report_table_ABC + report_table_GDBT,columns = ['Model name', 'Model parameter', 'Train accuracy', 'Test accuracy', 'Train auc score', 'Test auc score'])\n",
    "report_C"
   ]
  },
  {
   "cell_type": "markdown",
   "metadata": {},
   "source": [
    "## Fit the Model With Whole Dataset"
   ]
  },
  {
   "cell_type": "code",
   "execution_count": null,
   "metadata": {},
   "outputs": [],
   "source": [
    "from sklearn.svm import SVC\n",
    "SVC_L = SVC(kernel='linear', C = 0.1)\n",
    "grid_svc_l_C.fit(data_feature, data_target_C)"
   ]
  }
 ],
 "metadata": {
  "kernelspec": {
   "display_name": "Python 3",
   "language": "python",
   "name": "python3"
  },
  "language_info": {
   "codemirror_mode": {
    "name": "ipython",
    "version": 3
   },
   "file_extension": ".py",
   "mimetype": "text/x-python",
   "name": "python",
   "nbconvert_exporter": "python",
   "pygments_lexer": "ipython3",
   "version": "3.6.5"
  }
 },
 "nbformat": 4,
 "nbformat_minor": 2
}
